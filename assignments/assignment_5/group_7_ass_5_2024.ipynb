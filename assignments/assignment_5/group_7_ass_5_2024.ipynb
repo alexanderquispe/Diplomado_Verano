{
 "cells": [
  {
   "cell_type": "markdown",
   "id": "1dc8a376",
   "metadata": {},
   "source": [
    "## Assignment 5 - Group 7"
   ]
  },
  {
   "cell_type": "markdown",
   "id": "400e9f4f",
   "metadata": {},
   "source": [
    "### First, we install all packages necesary and the chrome driver "
   ]
  },
  {
   "cell_type": "code",
   "execution_count": null,
   "id": "2a94e705",
   "metadata": {},
   "outputs": [],
   "source": [
    "# Links \n",
    "# chromedriver= win 64: https://googlechromelabs.github.io/chrome-for-testing/\n",
    "# chromedriver= win 32 :  https://edgedl.me.gvt1.com/edgedl/chrome/chrome-for-testing/120.0.6099.109/win32/chromedriver-win32.zip"
   ]
  },
  {
   "cell_type": "code",
   "execution_count": 1,
   "id": "3b431376",
   "metadata": {},
   "outputs": [
    {
     "name": "stdout",
     "output_type": "stream",
     "text": [
      "Requirement already satisfied: selenium in c:\\users\\analu\\anaconda3\\lib\\site-packages (4.16.0)\n",
      "Requirement already satisfied: urllib3[socks]<3,>=1.26 in c:\\users\\analu\\anaconda3\\lib\\site-packages (from selenium) (1.26.16)\n",
      "Requirement already satisfied: trio~=0.17 in c:\\users\\analu\\anaconda3\\lib\\site-packages (from selenium) (0.24.0)\n",
      "Requirement already satisfied: trio-websocket~=0.9 in c:\\users\\analu\\anaconda3\\lib\\site-packages (from selenium) (0.11.1)\n",
      "Requirement already satisfied: certifi>=2021.10.8 in c:\\users\\analu\\anaconda3\\lib\\site-packages (from selenium) (2023.7.22)\n",
      "Requirement already satisfied: attrs>=20.1.0 in c:\\users\\analu\\anaconda3\\lib\\site-packages (from trio~=0.17->selenium) (22.1.0)\n",
      "Requirement already satisfied: sortedcontainers in c:\\users\\analu\\anaconda3\\lib\\site-packages (from trio~=0.17->selenium) (2.4.0)\n",
      "Requirement already satisfied: idna in c:\\users\\analu\\anaconda3\\lib\\site-packages (from trio~=0.17->selenium) (3.4)\n",
      "Requirement already satisfied: outcome in c:\\users\\analu\\anaconda3\\lib\\site-packages (from trio~=0.17->selenium) (1.3.0.post0)\n",
      "Requirement already satisfied: sniffio>=1.3.0 in c:\\users\\analu\\anaconda3\\lib\\site-packages (from trio~=0.17->selenium) (1.3.0)\n",
      "Requirement already satisfied: cffi>=1.14 in c:\\users\\analu\\anaconda3\\lib\\site-packages (from trio~=0.17->selenium) (1.15.1)\n",
      "Requirement already satisfied: wsproto>=0.14 in c:\\users\\analu\\anaconda3\\lib\\site-packages (from trio-websocket~=0.9->selenium) (1.2.0)\n",
      "Requirement already satisfied: PySocks!=1.5.7,<2.0,>=1.5.6 in c:\\users\\analu\\anaconda3\\lib\\site-packages (from urllib3[socks]<3,>=1.26->selenium) (1.7.1)\n",
      "Requirement already satisfied: pycparser in c:\\users\\analu\\anaconda3\\lib\\site-packages (from cffi>=1.14->trio~=0.17->selenium) (2.21)\n",
      "Requirement already satisfied: h11<1,>=0.9.0 in c:\\users\\analu\\anaconda3\\lib\\site-packages (from wsproto>=0.14->trio-websocket~=0.9->selenium) (0.14.0)\n",
      "Note: you may need to restart the kernel to use updated packages.\n"
     ]
    }
   ],
   "source": [
    "pip install selenium"
   ]
  },
  {
   "cell_type": "code",
   "execution_count": 2,
   "id": "e458df11",
   "metadata": {},
   "outputs": [
    {
     "name": "stdout",
     "output_type": "stream",
     "text": [
      "Requirement already satisfied: webdriver_manager==3.4.2 in c:\\users\\analu\\anaconda3\\lib\\site-packages (3.4.2)\n",
      "Requirement already satisfied: requests in c:\\users\\analu\\anaconda3\\lib\\site-packages (from webdriver_manager==3.4.2) (2.31.0)\n",
      "Requirement already satisfied: configparser in c:\\users\\analu\\anaconda3\\lib\\site-packages (from webdriver_manager==3.4.2) (6.0.0)\n",
      "Requirement already satisfied: crayons in c:\\users\\analu\\anaconda3\\lib\\site-packages (from webdriver_manager==3.4.2) (0.4.0)\n",
      "Requirement already satisfied: colorama in c:\\users\\analu\\anaconda3\\lib\\site-packages (from crayons->webdriver_manager==3.4.2) (0.4.6)\n",
      "Requirement already satisfied: charset-normalizer<4,>=2 in c:\\users\\analu\\anaconda3\\lib\\site-packages (from requests->webdriver_manager==3.4.2) (2.0.4)\n",
      "Requirement already satisfied: idna<4,>=2.5 in c:\\users\\analu\\anaconda3\\lib\\site-packages (from requests->webdriver_manager==3.4.2) (3.4)\n",
      "Requirement already satisfied: urllib3<3,>=1.21.1 in c:\\users\\analu\\anaconda3\\lib\\site-packages (from requests->webdriver_manager==3.4.2) (1.26.16)\n",
      "Requirement already satisfied: certifi>=2017.4.17 in c:\\users\\analu\\anaconda3\\lib\\site-packages (from requests->webdriver_manager==3.4.2) (2023.7.22)\n",
      "Note: you may need to restart the kernel to use updated packages.\n"
     ]
    }
   ],
   "source": [
    "pip install webdriver_manager==3.4.2"
   ]
  },
  {
   "cell_type": "code",
   "execution_count": 13,
   "id": "7a0bdbc1",
   "metadata": {},
   "outputs": [],
   "source": [
    "# Now, we import each library and install each package necesary to do the web scrapping\n",
    "from selenium import webdriver\n",
    "from selenium.webdriver.common.keys import Keys\n",
    "from selenium.common.exceptions import NoSuchElementException\n",
    "from selenium.webdriver import ActionChains\n",
    "from selenium.webdriver.common.by import By\n",
    "import pandas as pd\n",
    "import numpy as np\n",
    "import os\n",
    "import time\n",
    "import re\n",
    "import unidecode\n",
    "import time \n",
    "from selenium.webdriver.support.ui import Select\n",
    "from webdriver_manager.chrome import ChromeDriverManager"
   ]
  },
  {
   "cell_type": "code",
   "execution_count": 14,
   "id": "e73a7660",
   "metadata": {},
   "outputs": [],
   "source": [
    "# Now, we install the extention in order to access to the page we want\n",
    "driver = webdriver.Chrome()\n",
    "\n",
    "# We also maximize the window\n",
    "driver.maximize_window()\n",
    "\n",
    "# We create an empty list to store DataFrames\n",
    "dataframes_list = []\n",
    "\n",
    "# Here, we define the URL to be visited\n",
    "url = 'https://infogob.jne.gob.pe/Eleccion'\n",
    "\n",
    "# And open the specified URL in the Chrome browser\n",
    "driver.get(url)\n",
    "\n",
    "# Find and click on the dropdown element using XPath\n",
    "dropdown = driver.find_element(By.XPATH, '/html/body/div[1]/section/div[2]/div[2]/div[2]/div[1]/div')\n",
    "dropdown.click()\n",
    "\n",
    "# Introduce a delay to wait for the dropdown options to load\n",
    "time.sleep(2)\n",
    "\n",
    "# Find and click on the option for presidential elections within the dropdown\n",
    "elec_presidenciales = driver.find_element(By.XPATH, '/html/body/div[1]/section/div[2]/div[2]/div[2]/div[1]/div/div[2]/div[2]')\n",
    "elec_presidenciales.click()\n",
    "\n",
    "# Introduce a delay to wait for the next set of options to load\n",
    "time.sleep(2)\n",
    "\n",
    "# Find and click on the element corresponding to the election year\n",
    "año_eleccion = driver.find_element(By.XPATH, '/html/body/div[1]/section/div[2]/div[2]/div[2]/div[2]/div')\n",
    "año_eleccion.click()\n",
    "\n",
    "# Introduce a delay to wait for the election year options to load\n",
    "time.sleep(2)\n",
    "\n",
    "# Find and click on the specific election year option using format\n",
    "año_eleccion = driver.find_element(By.XPATH, '/html/body/div[1]/section/div[2]/div[2]/div[2]/div[2]/div/div[2]/div[{}]'.format(2))\n",
    "año_eleccion.click()\n",
    "\n",
    "# Store the text content of the selected election year type\n",
    "año_eleccion_tipo = año_eleccion.text\n",
    "\n",
    "# Introduce a delay for stability before proceeding\n",
    "time.sleep(2)\n"
   ]
  },
  {
   "cell_type": "code",
   "execution_count": null,
   "id": "c267903a",
   "metadata": {},
   "outputs": [],
   "source": []
  }
 ],
 "metadata": {
  "kernelspec": {
   "display_name": "Python 3 (ipykernel)",
   "language": "python",
   "name": "python3"
  },
  "language_info": {
   "codemirror_mode": {
    "name": "ipython",
    "version": 3
   },
   "file_extension": ".py",
   "mimetype": "text/x-python",
   "name": "python",
   "nbconvert_exporter": "python",
   "pygments_lexer": "ipython3",
   "version": "3.11.4"
  }
 },
 "nbformat": 4,
 "nbformat_minor": 5
}
