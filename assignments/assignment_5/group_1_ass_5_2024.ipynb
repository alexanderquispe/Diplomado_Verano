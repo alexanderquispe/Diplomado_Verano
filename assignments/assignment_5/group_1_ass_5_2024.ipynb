{
 "cells": [
  {
   "cell_type": "markdown",
   "id": "34531fd0",
   "metadata": {},
   "source": [
    "## Assignment 5 - Group 1\n",
    "\n",
    "First we set a most appropriate notebook display format."
   ]
  },
  {
   "cell_type": "code",
   "execution_count": null,
   "id": "fe7c05f3",
   "metadata": {},
   "outputs": [],
   "source": [
    "from IPython.display import display, HTML\n",
    "\n",
    "display(HTML(data=\"\"\"\n",
    "<style>\n",
    "    div#notebook-container    { width: 95%; }\n",
    "    div#menubar-container     { width: 65%; }\n",
    "    div#maintoolbar-container { width: 99%; }a\n",
    "</style>\n",
    "\"\"\"))"
   ]
  },
  {
   "cell_type": "markdown",
   "id": "48d892fd",
   "metadata": {},
   "source": [
    "We import the libraries that we will use."
   ]
  },
  {
   "cell_type": "code",
   "execution_count": null,
   "id": "5f577333",
   "metadata": {},
   "outputs": [],
   "source": [
    "import os\n",
    "import pandas as pd\n",
    "import numpy as np\n",
    "import time\n",
    "from selenium import webdriver\n",
    "from selenium.webdriver.common.by import By\n",
    "from selenium.webdriver.support.ui import Select"
   ]
  },
  {
   "cell_type": "markdown",
   "id": "93de92a4",
   "metadata": {},
   "source": [
    "For now, we establish the folder where the Chrome driver is located as the directory."
   ]
  },
  {
   "cell_type": "code",
   "execution_count": null,
   "id": "17fc1e18",
   "metadata": {},
   "outputs": [],
   "source": [
    "os.chdir(r'C:\\Users\\HP\\Documents\\qlab\\chromedriver-win64') "
   ]
  },
  {
   "cell_type": "markdown",
   "id": "9c4d74ba",
   "metadata": {},
   "source": []
  }
 ],
 "metadata": {
  "kernelspec": {
   "display_name": "Python 3 (ipykernel)",
   "language": "python",
   "name": "python3"
  },
  "language_info": {
   "codemirror_mode": {
    "name": "ipython",
    "version": 3
   },
   "file_extension": ".py",
   "mimetype": "text/x-python",
   "name": "python",
   "nbconvert_exporter": "python",
   "pygments_lexer": "ipython3",
   "version": "3.9.18"
  }
 },
 "nbformat": 4,
 "nbformat_minor": 5
}
