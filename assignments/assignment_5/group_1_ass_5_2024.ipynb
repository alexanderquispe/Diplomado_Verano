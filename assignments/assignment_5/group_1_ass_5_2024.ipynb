{
 "cells": [
  {
   "cell_type": "markdown",
   "id": "34531fd0",
   "metadata": {},
   "source": [
    "## Assignment 5 - Group 1\n",
    "\n",
    "First we set a most appropriate notebook display format."
   ]
  },
  {
   "cell_type": "code",
   "execution_count": null,
   "id": "fe7c05f3",
   "metadata": {},
   "outputs": [],
   "source": [
    "from IPython.display import display, HTML\n",
    "\n",
    "display(HTML(data=\"\"\"\n",
    "<style>\n",
    "    div#notebook-container    { width: 95%; }\n",
    "    div#menubar-container     { width: 65%; }\n",
    "    div#maintoolbar-container { width: 99%; }a\n",
    "</style>\n",
    "\"\"\"))"
   ]
  },
  {
   "cell_type": "markdown",
   "id": "48d892fd",
   "metadata": {},
   "source": [
    "We import the libraries that we will use."
   ]
  },
  {
   "cell_type": "code",
   "execution_count": null,
   "id": "5f577333",
   "metadata": {},
   "outputs": [],
   "source": [
    "import os\n",
    "import pandas as pd\n",
    "import numpy as np\n",
    "import time\n",
    "from selenium import webdriver\n",
    "from selenium.webdriver.common.by import By\n",
    "from selenium.webdriver.support.ui import Select"
   ]
  },
  {
   "cell_type": "markdown",
   "id": "93de92a4",
   "metadata": {},
   "source": [
    "For now, we establish the folder where the Chrome driver is located as the directory."
   ]
  },
  {
   "cell_type": "code",
   "execution_count": null,
   "id": "17fc1e18",
   "metadata": {},
   "outputs": [],
   "source": [
    "os.chdir(r'C:\\Users\\HP\\Documents\\qlab\\chromedriver-win64') "
   ]
  },
  {
   "cell_type": "markdown",
   "id": "9ddfa5ec",
   "metadata": {},
   "source": [
    "In this first block we will explain how the information from the result of the first presidential election chosen in a DataFrame was extracted. Later we will use this same procedure to extract information from the results of all available presidential elections through a loop.\n",
    "\n",
    "We establish the driver and use it to access the provided web page:"
   ]
  },
  {
   "cell_type": "code",
   "execution_count": null,
   "id": "f1c9467d",
   "metadata": {},
   "outputs": [],
   "source": [
    "driver=webdriver.Chrome() # With this we establish the controller located in the directory that we previously specified.\n",
    "\n",
    "url='https://infogob.jne.gob.pe/Eleccion'\n",
    "driver.get(url) # With this we access the provided web page."
   ]
  },
  {
   "cell_type": "markdown",
   "id": "cf860112",
   "metadata": {},
   "source": [
    "Using the xpath of the “Tipo de Proceso” box we find and identify it. Then we click on it and access to the menu of options for the type of electoral processes available."
   ]
  },
  {
   "cell_type": "code",
   "execution_count": null,
   "id": "773abff0",
   "metadata": {},
   "outputs": [],
   "source": [
    "# With this we search and find said box using its XPATH. \n",
    "process=driver.find_element(By.XPATH,\"/html/body/div[1]/section/div[2]/div[2]/div[2]/div[1]/div\") \n",
    "# With this we click on the box. In this way the available options are displayed.\n",
    "process.click() \n",
    "\n",
    "# We added this so that the page, with the click made, suspends subsequent executions for 2 seconds.\n",
    "# This is so that if the entire notebook is executed together, the code can have enough time to access the information while it appears after clicking or something else.\n",
    "time.sleep(2)"
   ]
  },
  {
   "cell_type": "markdown",
   "id": "8d277791",
   "metadata": {},
   "source": [
    "Now using the xpath of the \"Elecciones presidenciales\" option we identify and choose this option."
   ]
  },
  {
   "cell_type": "code",
   "execution_count": null,
   "id": "d177a0d7",
   "metadata": {},
   "outputs": [],
   "source": [
    "# With this we search and identify said option.\n",
    "presidential=driver.find_element(By.XPATH,\"/html/body/div[1]/section/div[2]/div[2]/div[2]/div[1]/div/div[2]/div[2]\") \n",
    "# With this we click on the option. This is how we choose it.\n",
    "presidential.click() \n",
    "\n",
    "time.sleep(2)"
   ]
  },
  {
   "cell_type": "markdown",
   "id": "50a6cf1c",
   "metadata": {},
   "source": [
    "Once the type of process has been chosen, we proceed to choose the specific presidential election from which we want to extract the required information. Again, using the xpath of the box that contains the available options we find, identify and click on it to display the available options."
   ]
  },
  {
   "cell_type": "code",
   "execution_count": null,
   "id": "a485e84a",
   "metadata": {},
   "outputs": [],
   "source": [
    "# xpath of the said box. \n",
    "xpath=\"/html/body/div[1]/section/div[2]/div[2]/div[2]/div[2]/div\" \n",
    "# With this we search and identify said box.\n",
    "election=driver.find_element(By.XPATH,xpath) \n",
    "# With this, we click on said box and display the available options.\n",
    "election.click() \n",
    "\n",
    "time.sleep(2)"
   ]
  },
  {
   "cell_type": "markdown",
   "id": "1ce9c181",
   "metadata": {},
   "source": [
    "Before choosing the presidential election we are looking for, we implement the following lines of code to save the text of the name of the election we are looking for and the number of available elections (these will be useful later)."
   ]
  },
  {
   "cell_type": "code",
   "execution_count": null,
   "id": "4d6a2ad7",
   "metadata": {},
   "outputs": [],
   "source": [
    "# The xpath of the options menu to be selected is the same as the one we defined previously for the box with the difference that at the end it adds '/select\".\n",
    "select_xpath=xpath+\"/select\" \n",
    "# We search and identify the selectable options using its xpath. \n",
    "s0=driver.find_element(By.XPATH,\"/html/body/div[1]/section/div[2]/div[2]/div[2]/div[2]/div/select\")\n",
    "# With Select we change the way of interacting with this menu of selectable options.\n",
    "s1=Select(s0)\n",
    "# With the 'options' method we invoke all the menu options.\n",
    "s2=s1.options\n",
    "# We obtain the total number of available elections. This will be useful to us later.\n",
    "len_opt=len(s2)\n",
    "# We obtain the name of the election from which we want to extract the requested information. It will be useful to us later.\n",
    "name_election=s2[1].get_attribute('text')"
   ]
  },
  {
   "cell_type": "markdown",
   "id": "91c3256c",
   "metadata": {},
   "source": [
    "Now using the xpath of the \"Presidencial 2021 - Segunda Vuelta\" option we identify and choose this one."
   ]
  },
  {
   "cell_type": "code",
   "execution_count": null,
   "id": "a9f5c1d0",
   "metadata": {},
   "outputs": [],
   "source": [
    "# The xpath of the option is the same as the one in the box with the difference that it adds \"/div[2]/div[2]\"\n",
    "div_xpath=xpath+'/div[2]/div[2]' \n",
    "# We search and identify the presidential election that we want.\n",
    "date=driver.find_element(By.XPATH, div_xpath)\n",
    "# We click on this option to choose it.\n",
    "date.click()\n",
    "\n",
    "time.sleep(1)"
   ]
  },
  {
   "cell_type": "markdown",
   "id": "88c11cdb",
   "metadata": {},
   "source": [
    "Now we search and identify the button that allows us to access the information we are looking for. Then we click on it to do so."
   ]
  },
  {
   "cell_type": "code",
   "execution_count": null,
   "id": "e8e2cfc9",
   "metadata": {},
   "outputs": [],
   "source": [
    "button=driver.find_element(By.XPATH,\"/html/body/div[1]/section/div[2]/div[2]/div[3]/div/button\")\n",
    "button.click()"
   ]
  }
 ],
 "metadata": {
  "kernelspec": {
   "display_name": "Python 3 (ipykernel)",
   "language": "python",
   "name": "python3"
  },
  "language_info": {
   "codemirror_mode": {
    "name": "ipython",
    "version": 3
   },
   "file_extension": ".py",
   "mimetype": "text/x-python",
   "name": "python",
   "nbconvert_exporter": "python",
   "pygments_lexer": "ipython3",
   "version": "3.9.7"
  }
 },
 "nbformat": 4,
 "nbformat_minor": 5
}
