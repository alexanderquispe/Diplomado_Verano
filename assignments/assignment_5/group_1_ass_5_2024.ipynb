{
 "cells": [
  {
   "cell_type": "markdown",
   "id": "34531fd0",
   "metadata": {},
   "source": [
    "## Assignment 5 - Group 1\n",
    "\n",
    "First we set a most appropriate notebook display format."
   ]
  },
  {
   "cell_type": "code",
   "execution_count": null,
   "id": "fe7c05f3",
   "metadata": {},
   "outputs": [],
   "source": [
    "from IPython.display import display, HTML\n",
    "\n",
    "display(HTML(data=\"\"\"\n",
    "<style>\n",
    "    div#notebook-container    { width: 95%; }\n",
    "    div#menubar-container     { width: 65%; }\n",
    "    div#maintoolbar-container { width: 99%; }a\n",
    "</style>\n",
    "\"\"\"))"
   ]
  },
  {
   "cell_type": "markdown",
   "id": "48d892fd",
   "metadata": {},
   "source": [
    "We import the libraries that we will use."
   ]
  },
  {
   "cell_type": "code",
   "execution_count": null,
   "id": "5f577333",
   "metadata": {},
   "outputs": [],
   "source": [
    "import os\n",
    "import pandas as pd\n",
    "import numpy as np\n",
    "import time\n",
    "from selenium import webdriver\n",
    "from selenium.webdriver.common.by import By\n",
    "from selenium.webdriver.support.ui import Select"
   ]
  },
  {
   "cell_type": "markdown",
   "id": "93de92a4",
   "metadata": {},
   "source": [
    "For now, we establish the folder where the Chrome driver is located as the directory."
   ]
  },
  {
   "cell_type": "code",
   "execution_count": null,
   "id": "17fc1e18",
   "metadata": {},
   "outputs": [],
   "source": [
    "os.chdir(r'C:\\Users\\HP\\Documents\\qlab\\chromedriver-win64') "
   ]
  },
  {
   "cell_type": "markdown",
   "id": "9ddfa5ec",
   "metadata": {},
   "source": [
    "In this first block we will explain how the information from the result of the first presidential election chosen in a DataFrame was extracted. Later we will use this same procedure to extract information from the results of all available presidential elections through a loop.\n",
    "\n",
    "We establish the driver and use it to access the provided web page:"
   ]
  },
  {
   "cell_type": "code",
   "execution_count": null,
   "id": "f1c9467d",
   "metadata": {},
   "outputs": [],
   "source": [
    "driver=webdriver.Chrome() # With this we establish the controller located in the directory that we previously specified.\n",
    "\n",
    "url='https://infogob.jne.gob.pe/Eleccion'\n",
    "driver.get(url) # With this we access the provided web page."
   ]
  },
  {
   "cell_type": "markdown",
   "id": "cf860112",
   "metadata": {},
   "source": [
    "Using the xpath of the “Tipo de Proceso” box we find and identify it. Then we click on it and access to the menu of options for the type of electoral processes available."
   ]
  },
  {
   "cell_type": "code",
   "execution_count": null,
   "id": "773abff0",
   "metadata": {},
   "outputs": [],
   "source": [
    "# With this we search and find said box using its XPATH. \n",
    "process=driver.find_element(By.XPATH,\"/html/body/div[1]/section/div[2]/div[2]/div[2]/div[1]/div\") \n",
    "# With this we click on the box. In this way the available options are displayed.\n",
    "process.click() \n",
    "\n",
    "# We added this so that the page, with the click made, suspends subsequent executions for 2 seconds.\n",
    "# This is so that if the entire notebook is executed together, the code can have enough time to access the information while it appears after clicking or something else.\n",
    "time.sleep(2)"
   ]
  },
  {
   "cell_type": "markdown",
   "id": "8d277791",
   "metadata": {},
   "source": [
    "Now using the xpath of the \"Elecciones presidenciales\" option we identify and choose this option."
   ]
  },
  {
   "cell_type": "code",
   "execution_count": null,
   "id": "d177a0d7",
   "metadata": {},
   "outputs": [],
   "source": [
    "# With this we search and identify said option.\n",
    "presidential=driver.find_element(By.XPATH,\"/html/body/div[1]/section/div[2]/div[2]/div[2]/div[1]/div/div[2]/div[2]\") \n",
    "# With this we click on the option. This is how we choose it.\n",
    "presidential.click() \n",
    "\n",
    "time.sleep(2)"
   ]
  },
  {
   "cell_type": "markdown",
   "id": "50a6cf1c",
   "metadata": {},
   "source": [
    "Once the type of process has been chosen, we proceed to choose the specific presidential election from which we want to extract the required information. Again, using the xpath of the box that contains the available options we find, identify and click on it to display the available options."
   ]
  },
  {
   "cell_type": "code",
   "execution_count": null,
   "id": "a485e84a",
   "metadata": {},
   "outputs": [],
   "source": [
    "# xpath of the said box. \n",
    "xpath=\"/html/body/div[1]/section/div[2]/div[2]/div[2]/div[2]/div\" \n",
    "# With this we search and identify said box.\n",
    "election=driver.find_element(By.XPATH,xpath) \n",
    "# With this, we click on said box and display the available options.\n",
    "election.click() \n",
    "\n",
    "time.sleep(2)"
   ]
  },
  {
   "cell_type": "markdown",
   "id": "1ce9c181",
   "metadata": {},
   "source": [
    "Before choosing the presidential election we are looking for, we implement the following lines of code to save the text of the name of the election we are looking for and the number of available elections (these will be useful later)."
   ]
  },
  {
   "cell_type": "code",
   "execution_count": null,
   "id": "4d6a2ad7",
   "metadata": {},
   "outputs": [],
   "source": [
    "# The xpath of the options menu to be selected is the same as the one we defined previously for the box with the difference that at the end it adds '/select\".\n",
    "select_xpath=xpath+\"/select\" \n",
    "# We search and identify the selectable options using its xpath. \n",
    "s0=driver.find_element(By.XPATH,\"/html/body/div[1]/section/div[2]/div[2]/div[2]/div[2]/div/select\")\n",
    "# With Select we change the way of interacting with this menu of selectable options.\n",
    "s1=Select(s0)\n",
    "# With the 'options' method we invoke all the menu options.\n",
    "s2=s1.options\n",
    "# We obtain the total number of available elections. This will be useful to us later.\n",
    "len_opt=len(s2)\n",
    "# We obtain the name of the election from which we want to extract the requested information. It will be useful to us later.\n",
    "name_election=s2[1].get_attribute('text')"
   ]
  },
  {
   "cell_type": "markdown",
   "id": "91c3256c",
   "metadata": {},
   "source": [
    "Now using the xpath of the \"Presidencial 2021 - Segunda Vuelta\" option we identify and choose this one."
   ]
  },
  {
   "cell_type": "code",
   "execution_count": null,
   "id": "a9f5c1d0",
   "metadata": {},
   "outputs": [],
   "source": [
    "# The xpath of the option is the same as the one in the box with the difference that it adds \"/div[2]/div[2]\"\n",
    "div_xpath=xpath+'/div[2]/div[2]' \n",
    "# We search and identify the presidential election that we want.\n",
    "date=driver.find_element(By.XPATH, div_xpath)\n",
    "# We click on this option to choose it.\n",
    "date.click()\n",
    "\n",
    "time.sleep(1)"
   ]
  },
  {
   "cell_type": "markdown",
   "id": "88c11cdb",
   "metadata": {},
   "source": [
    "Now we search and identify the button that allows us to access the information we are looking for. Then we click on it to do so."
   ]
  },
  {
   "cell_type": "code",
   "execution_count": null,
   "id": "e8e2cfc9",
   "metadata": {},
   "outputs": [],
   "source": [
    "button=driver.find_element(By.XPATH,\"/html/body/div[1]/section/div[2]/div[2]/div[3]/div/button\")\n",
    "button.click()"
   ]
  },
  {
   "cell_type": "markdown",
   "id": "9cfba279",
   "metadata": {},
   "source": [
    "When entering the page, by default it shows us the \"Normativa\" tab. To switch to the \"Candidatos y resultados\" tab, which has the information that interests us, again, we look for and identify the button for this tab and then we click on it."
   ]
  },
  {
   "cell_type": "code",
   "execution_count": null,
   "id": "edc9d733",
   "metadata": {},
   "outputs": [],
   "source": [
    "# In this case we search by name since this is available and it is a simpler way.\n",
    "results=driver.find_element(By.NAME,\"candidatos-y-resultados\")\n",
    "results.click()\n",
    "\n",
    "time.sleep(2)"
   ]
  },
  {
   "cell_type": "markdown",
   "id": "c524f458",
   "metadata": {},
   "source": [
    "Once in the correct tab we can view the information of interest in a table. To extract it, we identify and search for the table using its xpath. Then we get its HTML code. Finally using this code we create a DataFrame that contains the same data as the table."
   ]
  },
  {
   "cell_type": "code",
   "execution_count": null,
   "id": "e0494616",
   "metadata": {},
   "outputs": [],
   "source": [
    "# We search and identify the table.\n",
    "table = driver.find_element(By.XPATH, \"/html/body/div[1]/section/div[2]/div[3]/div[3]/div/div/div/div[1]/div[2]/div[2]\" )\n",
    "# With the following we obtain the HTML code of the table.\n",
    "table_html = table.get_attribute('innerHTML')\n",
    "# We use the table's HTML code to create a DataFrame with the same data. \n",
    "pd_table = pd.read_html(table_html)[0]\n",
    "# Let's see the DataFrame obtained:\n",
    "pd_table"
   ]
  },
  {
   "cell_type": "code",
   "execution_count": null,
   "id": "f88b47eb",
   "metadata": {},
   "outputs": [],
   "source": [
    "Now we make the following arrangements to the DataFrame:"
   ]
  },
  {
   "cell_type": "code",
   "execution_count": null,
   "id": "7dd9f6d3",
   "metadata": {},
   "outputs": [],
   "source": [
    "# We only keep the columns of the political organization and the total votes (since they are the only ones that interest us).\n",
    "pd_table=pd_table[['ORGANIZACIÓN POLÍTICA','TOTAL VOTOS']]\n",
    "# We create a column that has in all its observations the name of the election we chose.\n",
    "pd_table['Elecciones']=name_election\n",
    "# We reorder the columns in the way the question requires.\n",
    "pd_table=pd_table[['Elecciones','ORGANIZACIÓN POLÍTICA','TOTAL VOTOS']]\n",
    "# Let's see the DataFrame obtained:\n",
    "pd_table"
   ]
  },
  {
   "cell_type": "markdown",
   "id": "2c519d41",
   "metadata": {},
   "source": [
    "Finally we return to the initial page from where we will choose other options to access other elections from which to obtain information."
   ]
  },
  {
   "cell_type": "code",
   "execution_count": null,
   "id": "3ebad638",
   "metadata": {},
   "outputs": [],
   "source": [
    "driver.get(url)\n",
    "time.sleep(2)\n",
    "\n",
    "'''\n",
    "We can alternatively use the following:\n",
    "\n",
    "driver.back()\n",
    "time.sleep(2)\n",
    "driver.back()\n",
    "time.sleep(2)\n",
    "\n",
    "But we discovered that the first option is faster (in terms of loading the initial page).\n",
    "\n",
    "'''"
   ]
  },
  {
   "cell_type": "code",
   "execution_count": null,
   "id": "ad35e56c",
   "metadata": {},
   "outputs": [],
   "source": [
    "driver.close()\n",
    "# But we close the driver to view the following:"
   ]
  },
  {
   "cell_type": "markdown",
   "id": "d6a6dc00",
   "metadata": {},
   "source": [
    "Now below we implement the following loop that automates the entire previous process throughout the different presidential elections."
   ]
  },
  {
   "cell_type": "code",
   "execution_count": null,
   "id": "2a7f24ce",
   "metadata": {},
   "outputs": [],
   "source": [
    "# We set the driver and use the provided URL to access the web page.\n",
    "driver=webdriver.Chrome()\n",
    "driver.get(url)\n",
    "\n",
    "for x in range(len_opt): # Recall that len_opt saved the total number of presidential elections.\n",
    "    \n",
    "    # With this conditional we avoid exceeding the total number of valid elections \n",
    "    # (consider that we exclude the first option (which number is 0) that does not contain a valid election. You will see this lines later).\n",
    "    if x+1<26:\n",
    "        \n",
    "        # We search, identify and select the presidential elections as the type of process.\n",
    "        process=driver.find_element(By.XPATH,\"/html/body/div[1]/section/div[2]/div[2]/div[2]/div[1]/div\")\n",
    "        process.click()\n",
    "\n",
    "        time.sleep(2)\n",
    "\n",
    "        presidential=driver.find_element(By.XPATH,\"/html/body/div[1]/section/div[2]/div[2]/div[2]/div[1]/div/div[2]/div[2]\")\n",
    "        presidential.click()\n",
    "\n",
    "        time.sleep(2)\n",
    "        \n",
    "        # We search and identify the available presidential elections.\n",
    "        xpath2=\"/html/body/div[1]/section/div[2]/div[2]/div[2]/div[2]/div\"\n",
    "        election=driver.find_element(By.XPATH,xpath2)\n",
    "        election.click()\n",
    "        \n",
    "        time.sleep(2)\n",
    "        \n",
    "        # We obtain the string of the name of the election that we are choosing.\n",
    "        select_xpath=xpath2+\"/select\"\n",
    "        s0=driver.find_element(By.XPATH, select_xpath)\n",
    "        s1=Select(s0)\n",
    "        s2=s1.options\n",
    "        name_election=s2[x+1].get_attribute('text') # The iteration starts from 1 (since valid elections names start from there).\n",
    "\n",
    "        # We search, identify and choose the presidential election that we want.\n",
    "        div_xpath=xpath2+f'/div[2]/div[{x+2}]' # The iteration starts from 2 (since valid elections options start from there).\n",
    "        date=driver.find_element(By.XPATH, div_xpath)\n",
    "        date.click()\n",
    "        \n",
    "        time.sleep(1)\n",
    "        \n",
    "        # We identify and click the button that redirects us to the page that contains the information about the election we are looking for.\n",
    "        button=driver.find_element(By.XPATH,\"/html/body/div[1]/section/div[2]/div[2]/div[3]/div/button\")\n",
    "        button.click()\n",
    "        \n",
    "        # We change to the tab where the information of interest is.\n",
    "        results=driver.find_element(By.NAME,\"candidatos-y-resultados\")\n",
    "        results.click()\n",
    "\n",
    "        time.sleep(2)\n",
    "        \n",
    "        # We search, identify and extract the table with the required information.\n",
    "        table = driver.find_element(By.XPATH, \"/html/body/div[1]/section/div[2]/div[3]/div[3]/div/div/div/div[1]/div[2]/div[2]\" )\n",
    "        table_html = table.get_attribute('innerHTML')\n",
    "        pd_table = pd.read_html(table_html)[0]\n",
    "        \n",
    "        # We made a few adjustments to the extracted information.\n",
    "        pd_table=pd_table[['ORGANIZACIÓN POLÍTICA','TOTAL VOTOS']]\n",
    "        pd_table['Elecciones']=name_election\n",
    "        pd_table=pd_table[['Elecciones','ORGANIZACIÓN POLÍTICA','TOTAL VOTOS']]\n",
    "        \n",
    "        # If we are in the first option, we create the dataset that will contain all the required information.\n",
    "        if x==0:\n",
    "            dataset=pd_table.copy(deep=True)\n",
    "        \n",
    "        # If we are after the first option, we concatenate the information obtained to the dataset created in the first option.\n",
    "        else:\n",
    "            dataset=pd.concat([dataset,pd_table],ignore_index=True)\n",
    "        \n",
    "        # We return to the initial page.\n",
    "        driver.get(url)\n",
    "        time.sleep(2)\n",
    "        \n",
    "        # And this process is repeated for all available and valid presidential elections."
   ]
  },
  {
   "cell_type": "code",
   "execution_count": null,
   "id": "4a6fce5d",
   "metadata": {},
   "outputs": [],
   "source": [
    "# Finally finished executing the loop, we close the driver.\n",
    "driver.close()"
   ]
  }
 ],
 "metadata": {
  "kernelspec": {
   "display_name": "Python 3 (ipykernel)",
   "language": "python",
   "name": "python3"
  },
  "language_info": {
   "codemirror_mode": {
    "name": "ipython",
    "version": 3
   },
   "file_extension": ".py",
   "mimetype": "text/x-python",
   "name": "python",
   "nbconvert_exporter": "python",
   "pygments_lexer": "ipython3",
   "version": "3.9.18"
  }
 },
 "nbformat": 4,
 "nbformat_minor": 5
}
