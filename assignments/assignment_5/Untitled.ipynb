{
 "cells": [
  {
   "cell_type": "code",
   "execution_count": 8,
   "id": "c7500a7c",
   "metadata": {},
   "outputs": [],
   "source": [
    "# Cargamos todos los paquetes necesarios\n",
    "from selenium import webdriver\n",
    "from webdriver_manager.firefox import GeckoDriverManager\n",
    "from selenium.webdriver.support.ui import Select\n",
    "from selenium.webdriver.common.keys import Keys\n",
    "from selenium.webdriver.common.by import By\n",
    "import re\n",
    "import time \n",
    "import pandas as pd\n",
    "\n",
    "\n",
    "from selenium import webdriver\n",
    "from selenium.webdriver.firefox.service import Service as FirefoxService\n",
    "from webdriver_manager.firefox import GeckoDriverManager\n"
   ]
  },
  {
   "cell_type": "code",
   "execution_count": 10,
   "id": "19e8c2d4",
   "metadata": {},
   "outputs": [
    {
     "data": {
      "text/plain": [
       "'C:\\\\Users\\\\LENOVO\\\\Desktop\\\\Github\\\\QLAB_Summer_Python\\\\assignments\\\\assignment_5'"
      ]
     },
     "execution_count": 10,
     "metadata": {},
     "output_type": "execute_result"
    }
   ],
   "source": [
    "pwd"
   ]
  },
  {
   "cell_type": "code",
   "execution_count": 9,
   "id": "1accbd5a",
   "metadata": {},
   "outputs": [],
   "source": [
    "#generamos un data frame vacío para colocar los otros dataframes\n",
    "gecko_driver_path = \"C:\\\\Users\\\\LENOVO\\\\Desktop\\\\Github\\\\QLAB_Summer_Python\\\\assignments\\\\assignment_5\\\\geckodriver-v0.34.0-win64\\\\geckodriver.exe\"\n",
    "driver = webdriver.Firefox(\n",
    "    service=FirefoxService(gecko_driver_path))\n",
    "driver.maximize_window()\n",
    "\n",
    "dataframes_list = []\n",
    "\n",
    "\n",
    "url = 'https://infogob.jne.gob.pe/Eleccion'\n",
    "\n",
    "#genarmos el ciclo:\n",
    "\n",
    "for number in range(2,27):\n",
    "    driver.get(url)\n",
    "    dropdown = driver.find_element(By.XPATH,'/html/body/div[1]/section/div[2]/div[2]/div[2]/div[1]/div')\n",
    "    dropdown.click()\n",
    "    time.sleep(1)\n",
    "    \n",
    "    presidenciales = driver.find_element(By.XPATH,'/html/body/div[1]/section/div[2]/div[2]/div[2]/div[1]/div/div[2]/div[2]')\n",
    "    presidenciales.click()\n",
    "    time.sleep(1)\n",
    "\n",
    "    eleccion=driver.find_element(By.XPATH,'/html/body/div[1]/section/div[2]/div[2]/div[2]/div[2]/div')\n",
    "    eleccion.click()\n",
    "    time.sleep(1)\n",
    "\n",
    "    election_1 = driver.find_element(By.XPATH,\n",
    "                                     '/html/body/div[1]/section/div[2]/div[2]/div[2]/div[2]/div/div[2]/div[{}]'.format(number))#de 2 a 26\n",
    "    election_1.click()\n",
    "    eleccion_name= election_1.text\n",
    "    time.sleep(1)\n",
    "\n",
    "    entrar = driver.find_element(By.XPATH,'/html/body/div[1]/section/div[2]/div[2]/div[3]/div/button')\n",
    "    entrar.click()\n",
    "    time.sleep(2)\n",
    "\n",
    "    resultado=driver.find_element(By.XPATH,'/html/body/div[1]/section/div[2]/div[3]/div[1]/ul/li[2]/a')\n",
    "    resultado.click()\n",
    "    time.sleep(1)\n",
    "\n",
    "    table_path=driver.find_element(By.ID,'gridEleccionResultadosElectorales')\n",
    "    table_html = table_path.get_attribute( 'innerHTML' )\n",
    "\n",
    "\n",
    "    cabeza=\"<table id=\\\"gridEleccionResultadosElectorales\\\" class=\\\"table table-hover table-striped\\\">\"\n",
    "    tabla_new=cabeza+table_html[21:-1]\n",
    "    tabla_new\n",
    "    table = pd.read_html(tabla_new)\n",
    "    tabla_clean=table[ 0 ].iloc[ : , : ]\n",
    "    tabla_clean = tabla_clean.loc[:, ['ORGANIZACIÓN POLÍTICA', 'TOTAL VOTOS']]\n",
    "    tabla_clean.insert(0, 'Elecciones', eleccion_name)\n",
    "    dataframes_list.append(tabla_clean)\n",
    "\n",
    "df_final = pd.concat(dataframes_list, ignore_index=True)\n",
    "\n",
    "df_final\n",
    "\n",
    "df_final.to_excel( r'group_8_ass_5_2024.xlsx' , index = False )"
   ]
  }
 ],
 "metadata": {
  "kernelspec": {
   "display_name": "Python 3 (ipykernel)",
   "language": "python",
   "name": "python3"
  },
  "language_info": {
   "codemirror_mode": {
    "name": "ipython",
    "version": 3
   },
   "file_extension": ".py",
   "mimetype": "text/x-python",
   "name": "python",
   "nbconvert_exporter": "python",
   "pygments_lexer": "ipython3",
   "version": "3.11.5"
  }
 },
 "nbformat": 4,
 "nbformat_minor": 5
}
