{
 "cells": [
  {
   "cell_type": "code",
   "execution_count": 8,
   "metadata": {},
   "outputs": [],
   "source": ["# JHUNNIOR SAENZ data: 1995-1963\n",
    "from selenium import webdriver\n",
    "from bs4 import BeautifulSoup\n",
    "import pandas as pd\n",
    "import time"
   ]
  },
  {
   "cell_type": "code",
   "execution_count": 11,
   "metadata": {},
   "outputs": [],
   "source": [
    "# Create a Service object with the executable path\n",
    "chrome_path = r'C:\\Users\\jhunn\\Downloads\\chromedriver-win64\\chromedriver.exe'\n",
    "chrome_service = webdriver.chrome.service.Service(chrome_path)\n",
    "\n",
    "# Use the Service object when creating the Chrome WebDriver\n",
    "driver = webdriver.Chrome(service=chrome_service)\n",
    "driver.maximize_window()"
   ]
  },
  {
   "cell_type": "code",
   "execution_count": 12,
   "metadata": {},
   "outputs": [],
   "source": [
    "# List of URL endings for each subpage\n",
    "url_endings = ['elecciones-generales-1995-presidencial_candidatos-y-resultados_8MCLSVVX8ug=CV',\n",
    "               'segunda-vuelta-de-la-elección-presidencial-1990-presidencial_candidatos-y-resultados_E1U9NQHS0Xs=UQ',\n",
    "               'elecciones-generales-1990-presidencial_candidatos-y-resultados_gsg4hnUOpdQ=gn',\n",
    "               'elecciones-generales-1985-presidencial_candidatos-y-resultados_7Ssnc+xPt@s=s+',\n",
    "               'elecciones-generales-1980-presidencial_candidatos-y-resultados_lChObgWsPqI=hg',\n",
    "               'elecciones-generales-1963-presidencial_candidatos-y-resultados_rqThaZb@DOg=TZ']\n",
    "\n",
    "# Create an empty list to store the DataFrames\n",
    "dfs = []\n",
    "\n",
    "# Loop through each URL ending\n",
    "for url_ending in url_endings:\n",
    "    # Go to the website\n",
    "    driver.get(f\"https://infogob.jne.gob.pe/Eleccion/FichaEleccion/{url_ending}\")\n",
    "\n",
    "    # Add a delay so the elements can be found\n",
    "    time.sleep(15)\n",
    "\n",
    "    # Get the HTML of the page and pass it to BeautifulSoup\n",
    "    soup = BeautifulSoup(driver.page_source, 'html.parser')\n",
    "\n",
    "    # Find the table and the input element\n",
    "    table = soup.find('table', {'id': 'gridEleccionResultadosElectorales'})\n",
    "\n",
    "    # Check if the table was found correctly\n",
    "    if table:\n",
    "        # Get the value of the input element\n",
    "        input_element = soup.find('input', {'id': 'nombreEleccion'})\n",
    "        year = input_element['value']\n",
    "\n",
    "        # Find all rows in the table\n",
    "        rows = table.find_all('tr')\n",
    "\n",
    "        # Create a list to store the data\n",
    "        data = []\n",
    "\n",
    "        # Loop through each row\n",
    "        for row in rows:\n",
    "            # Find all columns in each row\n",
    "            cols = row.find_all('td')\n",
    "\n",
    "            # Get the text from each column\n",
    "            cols = [col.text.strip() for col in cols]\n",
    "\n",
    "            # Add the columns to the data array\n",
    "            data.append(cols)\n",
    "\n",
    "        # Create a list to store the extracted data\n",
    "        extracted_data = []\n",
    "\n",
    "        # Loop through each list in data\n",
    "        for data_list in data:\n",
    "            if len(data_list) >= 4:\n",
    "                # Extract the first and fourth items and add them to extracted_data\n",
    "                extracted_data.append([data_list[0], data_list[3]])\n",
    "\n",
    "        # Convert the extracted data to a DataFrame\n",
    "        temp_df = pd.DataFrame(extracted_data, columns=['Organización Política', 'Total de votos'])\n",
    "\n",
    "        # Create a new DataFrame with the new column\n",
    "        new_df = pd.DataFrame({'Elecciones': [year] * len(temp_df)})\n",
    "\n",
    "        # Concatenate the new DataFrame with the original DataFrame\n",
    "        temp_df = pd.concat([new_df, temp_df], axis=1)\n",
    "\n",
    "        # Append the DataFrame to the list\n",
    "        dfs.append(temp_df)\n",
    "    else:\n",
    "        print(f\"No se encontró la tabla en la página: {url_ending}\")\n",
    "\n",
    "# Finally we close the browser\n",
    "driver.quit()\n",
    "\n",
    "# To export into excel sheet, we concatenate all DataFrames in the list into a single DataFrame\n",
    "df = pd.concat(dfs)\n",
    "\n",
    "# Specify the path where you want to store the Excel file\n",
    "file_path = r'C:\\Users\\jhunn\\Downloads\\chromedriver-win64\\group_2_ass_5_2024(2).xlsx'\n",
    "\n",
    "# Use the 'to_excel' function to export the DataFrame\n",
    "df.to_excel(file_path, index=False)"
   ]
  },
  {
   "cell_type": "code",
   "execution_count": 13,
   "metadata": {},
   "outputs": [],
   "source": [
    "import pandas as pd\n",
    "from openpyxl import load_workbook"
   ]
  },
  {
   "cell_type": "code",
   "execution_count": 14,
   "metadata": {},
   "outputs": [
    {
     "name": "stderr",
     "output_type": "stream",
     "text": [
      "C:\\Users\\jhunn\\AppData\\Local\\Temp\\ipykernel_18272\\1437420475.py:11: FutureWarning: Setting the `book` attribute is not part of the public API, usage can give unexpected or corrupted results and will be removed in a future version\n",
      "  writer.book = book\n",
      "C:\\Users\\jhunn\\AppData\\Local\\Temp\\ipykernel_18272\\1437420475.py:17: FutureWarning: save is not part of the public API, usage can give unexpected results and will be removed in a future version\n",
      "  writer.save()\n"
     ]
    }
   ],
   "source": [
    "# Specify the path where your Excel file is stored\n",
    "file_path = r\"C:\\Users\\jhunn\\Downloads\\chromedriver-win64\\group_2_ass_5_2024(2).xlsx\"\n",
    "\n",
    "# Load the existing Excel file\n",
    "book = load_workbook(file_path)\n",
    "\n",
    "# Create a pandas Excel writer using openpyxl as the engine\n",
    "writer = pd.ExcelWriter(file_path, engine='openpyxl')\n",
    "\n",
    "# Assign the loaded workbook to the writer\n",
    "writer.book = book\n",
    "\n",
    "# Write the DataFrame to the Excel file\n",
    "df.to_excel(writer, index=False)\n",
    "\n",
    "# Save the changes in the writer object\n",
    "writer.save()\n",
    "\n",
    "# Close the writer and free up system resources\n",
    "writer.close()"
   ]
  }
 ],
 "metadata": {
  "kernelspec": {
   "display_name": "base",
   "language": "python",
   "name": "python3"
  },
  "language_info": {
   "codemirror_mode": {
    "name": "ipython",
    "version": 3
   },
   "file_extension": ".py",
   "mimetype": "text/x-python",
   "name": "python",
   "nbconvert_exporter": "python",
   "pygments_lexer": "ipython3",
   "version": "3.11.4"
  }
 },
 "nbformat": 4,
 "nbformat_minor": 2
}
