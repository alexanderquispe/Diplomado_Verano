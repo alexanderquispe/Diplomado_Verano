{
 "cells": [
  {
   "cell_type": "markdown",
   "metadata": {},
   "source": [
    "#### Angie"
   ]
  },
  {
   "cell_type": "code",
   "execution_count": 1,
   "metadata": {},
   "outputs": [
    {
     "data": {
      "text/html": [
       "\n",
       "<style>\n",
       "    div#notebook-container    { width: 95%; }\n",
       "    div#menubar-container     { width: 65%; }\n",
       "    div#maintoolbar-container { width: 99%; }a\n",
       "</style>\n"
      ],
      "text/plain": [
       "<IPython.core.display.HTML object>"
      ]
     },
     "metadata": {},
     "output_type": "display_data"
    }
   ],
   "source": [
    "from IPython.display import display, HTML\n",
    "\n",
    "display(HTML(data=\"\"\"\n",
    "<style>\n",
    "    div#notebook-container    { width: 95%; }\n",
    "    div#menubar-container     { width: 65%; }\n",
    "    div#maintoolbar-container { width: 99%; }a\n",
    "</style>\n",
    "\"\"\"))"
   ]
  },
  {
   "cell_type": "code",
   "execution_count": 2,
   "metadata": {},
   "outputs": [
    {
     "name": "stdout",
     "output_type": "stream",
     "text": [
      "Requirement already satisfied: selenium in c:\\users\\a_aba\\appdata\\roaming\\python\\python311\\site-packages (4.16.0)\n",
      "Requirement already satisfied: urllib3[socks]<3,>=1.26 in c:\\users\\a_aba\\appdata\\local\\programs\\python\\python311\\lib\\site-packages (from selenium) (2.1.0)\n",
      "Requirement already satisfied: trio~=0.17 in c:\\users\\a_aba\\appdata\\roaming\\python\\python311\\site-packages (from selenium) (0.24.0)\n",
      "Requirement already satisfied: trio-websocket~=0.9 in c:\\users\\a_aba\\appdata\\roaming\\python\\python311\\site-packages (from selenium) (0.11.1)\n",
      "Requirement already satisfied: certifi>=2021.10.8 in c:\\users\\a_aba\\appdata\\local\\programs\\python\\python311\\lib\\site-packages (from selenium) (2023.11.17)\n",
      "Requirement already satisfied: attrs>=20.1.0 in c:\\users\\a_aba\\appdata\\local\\programs\\python\\python311\\lib\\site-packages (from trio~=0.17->selenium) (23.2.0)\n",
      "Requirement already satisfied: sortedcontainers in c:\\users\\a_aba\\appdata\\local\\programs\\python\\python311\\lib\\site-packages (from trio~=0.17->selenium) (2.4.0)\n",
      "Requirement already satisfied: idna in c:\\users\\a_aba\\appdata\\local\\programs\\python\\python311\\lib\\site-packages (from trio~=0.17->selenium) (3.6)\n",
      "Requirement already satisfied: outcome in c:\\users\\a_aba\\appdata\\roaming\\python\\python311\\site-packages (from trio~=0.17->selenium) (1.3.0.post0)\n",
      "Requirement already satisfied: sniffio>=1.3.0 in c:\\users\\a_aba\\appdata\\roaming\\python\\python311\\site-packages (from trio~=0.17->selenium) (1.3.0)\n",
      "Requirement already satisfied: cffi>=1.14 in c:\\users\\a_aba\\appdata\\local\\programs\\python\\python311\\lib\\site-packages (from trio~=0.17->selenium) (1.16.0)\n",
      "Requirement already satisfied: wsproto>=0.14 in c:\\users\\a_aba\\appdata\\roaming\\python\\python311\\site-packages (from trio-websocket~=0.9->selenium) (1.2.0)\n",
      "Requirement already satisfied: pysocks!=1.5.7,<2.0,>=1.5.6 in c:\\users\\a_aba\\appdata\\local\\programs\\python\\python311\\lib\\site-packages (from urllib3[socks]<3,>=1.26->selenium) (1.7.1)\n",
      "Requirement already satisfied: pycparser in c:\\users\\a_aba\\appdata\\local\\programs\\python\\python311\\lib\\site-packages (from cffi>=1.14->trio~=0.17->selenium) (2.21)\n",
      "Requirement already satisfied: h11<1,>=0.9.0 in c:\\users\\a_aba\\appdata\\roaming\\python\\python311\\site-packages (from wsproto>=0.14->trio-websocket~=0.9->selenium) (0.14.0)\n"
     ]
    },
    {
     "name": "stderr",
     "output_type": "stream",
     "text": [
      "\n",
      "[notice] A new release of pip available: 22.3.1 -> 23.3.2\n",
      "[notice] To update, run: python.exe -m pip install --upgrade pip\n"
     ]
    },
    {
     "name": "stdout",
     "output_type": "stream",
     "text": [
      "Requirement already satisfied: webdriver_manager in c:\\users\\a_aba\\appdata\\local\\programs\\python\\python311\\lib\\site-packages (4.0.1)"
     ]
    },
    {
     "name": "stderr",
     "output_type": "stream",
     "text": [
      "\n",
      "[notice] A new release of pip available: 22.3.1 -> 23.3.2\n",
      "[notice] To update, run: python.exe -m pip install --upgrade pip\n"
     ]
    },
    {
     "name": "stdout",
     "output_type": "stream",
     "text": [
      "\n",
      "Requirement already satisfied: requests in c:\\users\\a_aba\\appdata\\local\\programs\\python\\python311\\lib\\site-packages (from webdriver_manager) (2.31.0)\n",
      "Requirement already satisfied: python-dotenv in c:\\users\\a_aba\\appdata\\local\\programs\\python\\python311\\lib\\site-packages (from webdriver_manager) (1.0.0)\n",
      "Requirement already satisfied: packaging in c:\\users\\a_aba\\appdata\\roaming\\python\\python311\\site-packages (from webdriver_manager) (23.2)\n",
      "Requirement already satisfied: charset-normalizer<4,>=2 in c:\\users\\a_aba\\appdata\\local\\programs\\python\\python311\\lib\\site-packages (from requests->webdriver_manager) (3.3.2)\n",
      "Requirement already satisfied: idna<4,>=2.5 in c:\\users\\a_aba\\appdata\\local\\programs\\python\\python311\\lib\\site-packages (from requests->webdriver_manager) (3.6)\n",
      "Requirement already satisfied: urllib3<3,>=1.21.1 in c:\\users\\a_aba\\appdata\\local\\programs\\python\\python311\\lib\\site-packages (from requests->webdriver_manager) (2.1.0)\n",
      "Requirement already satisfied: certifi>=2017.4.17 in c:\\users\\a_aba\\appdata\\local\\programs\\python\\python311\\lib\\site-packages (from requests->webdriver_manager) (2023.11.17)\n"
     ]
    }
   ],
   "source": [
    "!pip install selenium\n",
    "!pip install webdriver_manager"
   ]
  },
  {
   "cell_type": "code",
   "execution_count": 3,
   "metadata": {},
   "outputs": [],
   "source": [
    "# this library is to manipulate browser\n",
    "from selenium import webdriver\n",
    "\n",
    "# it allows you to work with differen versions of drivers\n",
    "# We call ChromeDriver\n",
    "from webdriver_manager.chrome import ChromeDriverManager\n",
    "from selenium.webdriver.support.ui import Select\n",
    "import re\n",
    "import time \n",
    "import pandas as pd\n",
    "from selenium.webdriver.common.by import By"
   ]
  },
  {
   "cell_type": "code",
   "execution_count": 4,
   "metadata": {},
   "outputs": [],
   "source": [
    "driver = webdriver.Chrome()\n",
    "driver.maximize_window()\n",
    "driver.execute_script(\"document.body.style.zoom='100%'\")\n",
    "\n",
    "url = 'https://infogob.jne.gob.pe/Eleccion'\n",
    "driver.get(url)"
   ]
  },
  {
   "cell_type": "code",
   "execution_count": 5,
   "metadata": {},
   "outputs": [],
   "source": [
    "#All the elements for the loop and some examples. \n",
    "selection = driver.find_element(By.XPATH,'/html/body/div[1]/section/div[2]/div[2]/div[2]/div[1]/div')\n",
    "selection.click()"
   ]
  },
  {
   "cell_type": "code",
   "execution_count": 6,
   "metadata": {},
   "outputs": [],
   "source": [
    "presidential_elections = driver.find_element(By.XPATH,'/html/body/div[1]/section/div[2]/div[2]/div[2]/div[1]/div/div[2]/div[2]')\n",
    "presidential_elections.click()"
   ]
  },
  {
   "cell_type": "code",
   "execution_count": 7,
   "metadata": {},
   "outputs": [],
   "source": [
    "selection_2 = driver.find_element(By.XPATH,'/html/body/div[1]/section/div[2]/div[2]/div[2]/div[2]/div')\n",
    "selection_2.click()"
   ]
  },
  {
   "cell_type": "code",
   "execution_count": 8,
   "metadata": {},
   "outputs": [],
   "source": [
    "elections_2021 = driver.find_element(By.XPATH,'/html/body/div[1]/section/div[2]/div[2]/div[2]/div[2]/div/div[2]/div[2]')\n",
    "elections_2021.click()"
   ]
  },
  {
   "cell_type": "code",
   "execution_count": 9,
   "metadata": {},
   "outputs": [],
   "source": [
    "see_data = driver.find_element(By.XPATH,'/html/body/div[1]/section/div[2]/div[2]/div[3]/div/button/span')\n",
    "see_data.click()"
   ]
  },
  {
   "cell_type": "code",
   "execution_count": 10,
   "metadata": {},
   "outputs": [],
   "source": [
    "candidates_results = driver.find_element(By.XPATH,'/html/body/div[1]/section/div[2]/div[3]/div[1]/ul/li[2]/a')\n",
    "candidates_results.click()"
   ]
  },
  {
   "cell_type": "markdown",
   "metadata": {},
   "source": [
    "#### Marilia"
   ]
  },
  {
   "cell_type": "code",
   "execution_count": null,
   "metadata": {},
   "outputs": [],
   "source": [
    "# Steps the loop will follow:\n",
    "# 1. Initialize the web scraper using Selenium and configure the Chrome browser.\n",
    "# 2. Iterate through a series of elections (numbers 2 to 26).\n",
    "# 3. For each election, navigate to the corresponding page, extract the name, and access the results.\n",
    "# 4. Process the HTML results table, clean it, and select the relevant columns as required by the task.\n",
    "# 5. Append the cleaned data to a list, and finally, concatenate them into a DataFrame saved in an Excel file.\n",
    "# 6. Close the browser upon completing the scraping process.\n"
   ]
  },
  {
   "cell_type": "code",
   "execution_count": null,
   "metadata": {},
   "outputs": [],
   "source": [
    "# Store all_tables\n",
    "all_tables = {}\n"
   ]
  },
  {
   "cell_type": "code",
   "execution_count": null,
   "metadata": {},
   "outputs": [],
   "source": [
    "#Bucle step by step:\n",
    "\n",
    "# Define a function to fetch election results table\n",
    "def get_election_table(driver, number):\n",
    "    # Open the election results webpage\n",
    "    driver.get(url)\n",
    "    \n",
    "    # Select the first option select\n",
    "    selection_1 = driver.find_element(By.XPATH,'/html/body/div[1]/section/div[2]/div[2]/div[2]/div[1]/div')\n",
    "    selection_1.click()\n",
    "    time.sleep(1)\n",
    "    \n",
    "    # Select the \"Presidential Elections\" option\n",
    "    presidential_elections = driver.find_element(By.XPATH,'/html/body/div[1]/section/div[2]/div[2]/div[2]/div[1]/div/div[2]/div[2]')\n",
    "    presidential_elections.click()\n",
    "    time.sleep(1)\n",
    "\n",
    "    # Select the second option select\n",
    "    selection_2 = driver.find_element(By.XPATH,'/html/body/div[1]/section/div[2]/div[2]/div[2]/div[2]/div')\n",
    "    selection_2.click()\n",
    "    time.sleep(1)\n",
    "\n",
    "    # Select the specific election option\n",
    "    election_options = driver.find_element(By.XPATH,'/html/body/div[1]/section/div[2]/div[2]/div[2]/div[2]/div/div[2]/div[{}]'.format(number))\n",
    "    election_options.click()\n",
    "    election_name = election_options.text\n",
    "    time.sleep(1)\n",
    "\n",
    "    # Click the \"See Data\" button\n",
    "    see_data = driver.find_element(By.XPATH,'/html/body/div[1]/section/div[2]/div[2]/div[3]/div/button')\n",
    "    see_data.click()\n",
    "    time.sleep(2)\n",
    "\n",
    "    # Go to the \"Candidates Results\" section\n",
    "    candidates_results = driver.find_element(By.XPATH,'/html/body/div[1]/section/div[2]/div[3]/div[1]/ul/li[2]/a')\n",
    "    candidates_results.click()\n",
    "    time.sleep(1)\n",
    "\n",
    "    # Extract the HTML content of the election results table\n",
    "    table_ID_cleaned = driver.find_element(By.ID,'gridEleccionResultadosElectorales')\n",
    "    table_html = table_ID_cleaned.get_attribute('innerHTML')\n",
    "\n",
    "    # Clean the HTML content to make it compatible with pandas\n",
    "    table_head = \"<table id=\\\"gridEleccionResultadosElectorales\\\" class=\\\"table table-hover table-striped\\\">\"\n",
    "    cleaned_table = table_head + table_html[21:-1]\n",
    "\n",
    "    # Read the HTML table into a DataFrame\n",
    "    table = pd.read_html(cleaned_table)\n",
    "    \n",
    "    # Juan Diego Linares\n",
    "    # Lastly, as it is stated in the task, we have to create a new colum called \"elecciones\" and we also have to get only the colums \"Organización Política\" and \"Total Votos\"\n",
    "    # With this, we will get the requested table.\n",
    "    cleaned_table = table[0].iloc[:, : ]\n",
    "    cleaned_table = cleaned_table.loc[:, ['ORGANIZACIÓN POLÍTICA', 'TOTAL VOTOS']]\n",
    "    cleaned_table.insert(0, 'Elecciones', election_name)\n",
    "\n",
    "    return cleaned_table"
   ]
  },
  {
   "cell_type": "code",
   "execution_count": null,
   "metadata": {},
   "outputs": [],
   "source": [
    "# Juan Diego Linares\n",
    "#Preparing the bucle using the function previously defined.\n",
    "\n",
    "# First we configure the driver and the URL where we want to get the tables from.\n",
    "driver = webdriver.Chrome()\n",
    "driver.maximize_window()\n",
    "url = 'https://infogob.jne.gob.pe/Eleccion'\n",
    "\n",
    "# Now we create a list where we want to store individual DataFrames\n",
    "\n",
    "dataframes_elections = []"
   ]
  }
 ],
 "metadata": {
  "kernelspec": {
   "display_name": "Python 3 (ipykernel)",
   "language": "python",
   "name": "python3"
  },
  "language_info": {
   "codemirror_mode": {
    "name": "ipython",
    "version": 3
   },
   "file_extension": ".py",
   "mimetype": "text/x-python",
   "name": "python",
   "nbconvert_exporter": "python",
   "pygments_lexer": "ipython3",
   "version": "3.11.5"
  }
 },
 "nbformat": 4,
 "nbformat_minor": 2
}
