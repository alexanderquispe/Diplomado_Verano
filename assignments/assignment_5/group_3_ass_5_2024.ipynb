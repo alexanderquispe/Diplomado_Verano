{
 "cells": [
  {
   "cell_type": "markdown",
   "metadata": {},
   "source": [
    "# Assignment 5\n",
    "The script should not give an error. Any mistake will be consider as 0.\n"
   ]
  },
  {
   "cell_type": "code",
   "execution_count": null,
   "metadata": {},
   "outputs": [],
   "source": [
    "# We import all the necessary libraries and tools\n",
    "!pip install selenium\n",
    "!pip install webdriver-manager\n",
    "import time\n",
    "import shutil\n",
    "import pandas as pd\n",
    "from selenium import webdriver\n",
    "from selenium.webdriver.common.keys import Keys\n",
    "from selenium.webdriver.common.by import By\n",
    "from selenium.webdriver.support.ui import WebDriverWait\n",
    "from selenium.webdriver.common.action_chains import ActionChains\n",
    "from selenium.webdriver.support import expected_conditions as EC\n",
    "from selenium.webdriver.common.keys import Keys\n",
    "from selenium.webdriver.common.by import By\n",
    "from selenium.webdriver.chrome.service import Service\n",
    "from bs4 import BeautifulSoup\n",
    "import pandas as pd\n",
    "from selenium import webdriver\n",
    "from webdriver_manager.chrome import ChromeDriverManager\n",
    "from selenium import webdriver\n",
    "from selenium.webdriver.common.by import By\n",
    "from selenium.webdriver.chrome.service import Service as ChromeService\n",
    "from webdriver_manager.chrome import ChromeDriverManager\n",
    "from bs4 import BeautifulSoup\n",
    "\n"
   ]
  },
  {
   "cell_type": "code",
   "execution_count": null,
   "metadata": {},
   "outputs": [],
   "source": [
    "from selenium import webdriver\n",
    "from selenium.webdriver.common.by import By\n",
    "from selenium.webdriver.chrome.service import Service as ChromeService\n",
    "from webdriver_manager.chrome import ChromeDriverManager\n",
    "from bs4 import BeautifulSoup\n",
    "import pandas as pd\n",
    "import time\n",
    "\n",
    "def scrape_info(index):\n",
    "    # Configure Chrome options\n",
    "    chrome_options = webdriver.ChromeOptions()\n",
    "    chrome_options.add_argument(\"--disable-extensions\")\n",
    "    chrome_options.binary_location = 'C:/Program Files/Google/Chrome/Application/chrome.exe'\n",
    "\n",
    "    # Get the driver path using ChromeDriverManager\n",
    "    driver_path = ChromeDriverManager().install()\n",
    "\n",
    "    # Create a webdriver instance with ChromeOptions\n",
    "    driver = webdriver.Chrome(options=chrome_options)\n",
    "    driver.maximize_window()\n",
    "\n",
    "    url = 'https://infogob.jne.gob.pe/Eleccion'\n",
    "    driver.get(url)\n",
    "\n",
    "    # Select elections button\n",
    "    elections_button_selector = '#section > div.content-busqueda > div.cajas-busqueda.fondo-grisclaro > div.form-group.row > div:nth-child(1) > div > div.text'\n",
    "    elections_button = driver.find_element(By.CSS_SELECTOR, elections_button_selector)\n",
    "    elections_button.click()\n",
    "\n",
    "    time.sleep(3)\n",
    "\n",
    "    # Select presidential elections option\n",
    "    presidential_elections_xpath = '//*[@id=\"section\"]/div[2]/div[2]/div[2]/div[1]/div/div[2]/div[2]'\n",
    "    presidential_elections_option = driver.find_element(By.XPATH, presidential_elections_xpath)\n",
    "    presidential_elections_option.click()\n",
    "\n",
    "    \n",
    "    time.sleep(5)\n",
    "    \n",
    "    # The code clicks an elections button and captures associated year elements\n",
    "\n",
    "    elecciones_button_selector2 = '#section > div.content-busqueda > div.cajas-busqueda.fondo-grisclaro > div.form-group.row > div:nth-child(2) > div'\n",
    "    elecciones_button2 = driver.find_element(By.CSS_SELECTOR, elecciones_button_selector2)\n",
    "    elecciones_button2.click()\n",
    "    elecciones_años= elecciones_button2.find_elements(By.CLASS_NAME, \"item\")\n",
    "\n",
    "    time.sleep(5)\n",
    "    \n",
    "    # In this part, the provided code performs web interactions, including clicking on elements and navigating through pages\n",
    "    elecciones_años[index].click()\n",
    "\n",
    "    driver.find_element(By.XPATH, \"/html/body/div[1]/section/div[2]/div[2]/div[3]/div/button/span\").click()\n",
    "    driver.find_element(By.XPATH, \"/html/body/div[1]/section/div[2]/div[3]/div[1]/ul/li[2]/a\").click()\n",
    "\n",
    "    time.sleep(3)\n",
    "    html = driver.page_source\n",
    "\n",
    "    # We select the election name, total votes, and political party name from the parsed HTML, creating a DataFrame with the extracted data, and then quit the driver\n",
    "    soup = BeautifulSoup(html, 'html.parser')\n",
    "\n",
    "    nombre_eleccion_element = soup.find('h3', {'class': 'color-negro font-exo300'})\n",
    "    nombre_eleccion = nombre_eleccion_element.text.strip() if nombre_eleccion_element else None\n",
    "\n",
    "    monto_votos_totales_selector = '#gridEleccionResultadosElectorales > tbody > tr:nth-child(1) > td:nth-child(4)'\n",
    "    monto_votos_totales_element = soup.select_one(monto_votos_totales_selector)\n",
    "    monto_votos_totales = monto_votos_totales_element.text.strip() if monto_votos_totales_element else None\n",
    "\n",
    "    partido_politico_element = soup.find('a', {'class': 'link color-negro alias'})\n",
    "    partido_politico_nombre = partido_politico_element.text.strip() if partido_politico_element else None\n",
    "\n",
    "    data = [[nombre_eleccion, partido_politico_nombre, monto_votos_totales]]\n",
    "    columnas = ['Elecciones', 'ORGANIZACIÓN POLÍTICA', 'VOTOS TOTALES']\n",
    "    df = pd.DataFrame(data, columns=columnas)\n",
    "\n",
    "    driver.quit()\n",
    "\n",
    "    return df"
   ]
  },
  {
   "cell_type": "code",
   "execution_count": null,
   "metadata": {},
   "outputs": [],
   "source": [
    "dfs = []\n",
    "\n",
    "# Iterate over the indices and store the DataFrames in the list\n",
    "for i in range(1, 26):\n",
    "    df = scrape_info(i)\n",
    "    dfs.append(df)\n",
    "\n",
    "# Concatenate all the DataFrames into one\n",
    "result_df = pd.concat(dfs, ignore_index=True)\n",
    "\n",
    "# Display the resulting DataFrame\n",
    "result_df\n"
   ]
  },
  {
   "cell_type": "code",
   "execution_count": null,
   "metadata": {},
   "outputs": [],
   "source": [
    "result_df.to_excel('group_3_ass_5_2024.xlsx', index=False)\n"
   ]
  },
  {
   "cell_type": "code",
   "execution_count": null,
   "metadata": {},
   "outputs": [],
   "source": []
  },
  {
   "cell_type": "code",
   "execution_count": null,
   "metadata": {},
   "outputs": [],
   "source": []
  },
  {
   "cell_type": "code",
   "execution_count": null,
   "metadata": {},
   "outputs": [],
   "source": []
  },
  {
   "cell_type": "code",
   "execution_count": null,
   "metadata": {},
   "outputs": [],
   "source": []
  },
  {
   "cell_type": "code",
   "execution_count": null,
   "metadata": {},
   "outputs": [],
   "source": []
  },
  {
   "cell_type": "code",
   "execution_count": null,
   "metadata": {},
   "outputs": [],
   "source": []
  },
  {
   "cell_type": "code",
   "execution_count": null,
   "metadata": {},
   "outputs": [],
   "source": []
  }
 ],
 "metadata": {
  "hide_input": false,
  "kernelspec": {
   "display_name": "Python 3 (ipykernel)",
   "language": "python",
   "name": "python3"
  },
  "language_info": {
   "codemirror_mode": {
    "name": "ipython",
    "version": 3
   },
   "file_extension": ".py",
   "mimetype": "text/x-python",
   "name": "python",
   "nbconvert_exporter": "python",
   "pygments_lexer": "ipython3",
   "version": "3.11.5"
  },
  "toc": {
   "base_numbering": 1,
   "nav_menu": {},
   "number_sections": true,
   "sideBar": true,
   "skip_h1_title": false,
   "title_cell": "Table of Contents",
   "title_sidebar": "Contents",
   "toc_cell": false,
   "toc_position": {},
   "toc_section_display": true,
   "toc_window_display": false
  }
 },
 "nbformat": 4,
 "nbformat_minor": 4
}
