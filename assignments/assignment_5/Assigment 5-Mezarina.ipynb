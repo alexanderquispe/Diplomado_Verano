{
 "cells": [
  {
   "cell_type": "code",
   "execution_count": null,
   "id": "9580114a",
   "metadata": {},
   "outputs": [],
   "source": [
    "#!pip install selenium  \n",
    "#!pip install webdriver-manager\n",
    "#!pip install openpyxl\n",
    "#!pip install pandas\n",
    "#!pip install numpy\n",
    "#!pip install lxml\n",
    "#!pip install unidecode\n",
    "#!pip install xlsxwriter"
   ]
  },
  {
   "cell_type": "code",
   "execution_count": 2,
   "id": "713a77e4-6a07-4fb3-88bb-81747c67ab8d",
   "metadata": {},
   "outputs": [
    {
     "data": {
      "text/html": [
       "\n",
       "<style>\n",
       "    div#notebook-container    { width: 95%; }\n",
       "    div#menubar-container     { width: 65%; }\n",
       "    div#maintoolbar-container { width: 99%; }a\n",
       "</style>\n"
      ],
      "text/plain": [
       "<IPython.core.display.HTML object>"
      ]
     },
     "metadata": {},
     "output_type": "display_data"
    }
   ],
   "source": [
    "from IPython.display import display, HTML\n",
    "\n",
    "display(HTML(data=\"\"\"\n",
    "<style>\n",
    "    div#notebook-container    { width: 95%; }\n",
    "    div#menubar-container     { width: 65%; }\n",
    "    div#maintoolbar-container { width: 99%; }a\n",
    "</style>\n",
    "\"\"\"))\n"
   ]
  },
  {
   "cell_type": "code",
   "execution_count": 3,
   "id": "9d37adc7-6397-41fa-bbd7-fbdd8abbeb85",
   "metadata": {},
   "outputs": [],
   "source": [
    "# This library is to manipulate browser\n",
    "\n",
    "# it allows you to work with differen versions of drivers\n",
    "# We call ChromeDriver\n",
    "from webdriver_manager.chrome import ChromeDriverManager\n",
    "import re\n",
    "import time "
   ]
  },
  {
   "cell_type": "code",
   "execution_count": 4,
   "id": "e29b2d3d-0e9f-4a34-bfc4-12a2ee37a9ff",
   "metadata": {},
   "outputs": [],
   "source": [
    "from selenium import webdriver\n",
    "\n",
    "##### Selenium for Firefox\n",
    "#from selenium.webdriver.firefox.service import Service as FirefoxService\n",
    "#from webdriver_manager.firefox import GeckoDriverManager\n",
    "\n",
    "##### Selenium for Chrome\n",
    "from selenium.webdriver.chrome.service import Service as ChromeService\n",
    "from webdriver_manager.chrome import ChromeDriverManager \n",
    "\n",
    "from selenium.webdriver.support.ui import Select\n",
    "from selenium.webdriver.common.keys import Keys\n",
    "from selenium.webdriver.common.by import By\n",
    "import re\n",
    "import time \n",
    "import pandas as pd"
   ]
  },
  {
   "cell_type": "code",
   "execution_count": null,
   "id": "5180dfad-9f9a-4309-af96-85e778bb530b",
   "metadata": {},
   "outputs": [],
   "source": [
    "#chrome_options = webdriver.ChromeOptions()"
   ]
  },
  {
   "cell_type": "code",
   "execution_count": null,
   "id": "486e71b6-8d90-4fc6-b846-2b4bd689b968",
   "metadata": {},
   "outputs": [],
   "source": [
    "#chrome_options.add_argument(r\"executable_path=C:\\Users\\Maricielo\\Downloads\\Assigment5_Mezarina\\chromedriver-win64\\chromedriver.exe\")"
   ]
  },
  {
   "cell_type": "code",
   "execution_count": 5,
   "id": "9b4e9a9f",
   "metadata": {},
   "outputs": [],
   "source": [
    "import selenium"
   ]
  },
  {
   "cell_type": "code",
   "execution_count": 53,
   "id": "089940a1",
   "metadata": {},
   "outputs": [],
   "source": [
    "#Path MendozaC (Firefox)\n",
    "#gecko_driver_path = \"...\\\\geckodriver-v0.34.0-win64\\\\geckodriver.exe\"\n",
    "#driver = webdriver.Firefox(\n",
    "#    service=FirefoxService(gecko_driver_path))\n",
    "chrome_path = r'C:\\Users\\nicol\\OneDrive\\Escritorio\\PUCP 2024-0\\Qlab_fund_py\\chrome-win64\\chrome.exe'\n",
    "options = webdriver.ChromeOptions()\n",
    "options.binary_location = chrome_path\n",
    "driver = webdriver.Chrome(service = ChromeService(ChromeDriverManager().install(), options = options))\n",
    "\n",
    "#Path Mezarina\n",
    "#chrome_driver_path = \"C:\\\\Users\\\\Maricielo\\\\Downloads\\\\Assigment5_Mezarina\\\\chromedriver-win64\\\\chromedriver.exe\"\n",
    "#driver = webdriver.Chrome(\n",
    "#    service=ChromeService(chrome_driver_path))"
   ]
  },
  {
   "cell_type": "code",
   "execution_count": 54,
   "id": "c75774e7",
   "metadata": {},
   "outputs": [],
   "source": [
    "# Maximize window\n",
    "driver.maximize_window()\n",
    "\n",
    "# Base URL for the web scraping\n",
    "url_base = \"https://infogob.jne.gob.pe/Eleccion\"\n",
    "driver.get(url_base)"
   ]
  },
  {
   "cell_type": "code",
   "execution_count": 48,
   "id": "ec83be34-883a-4ab3-84f2-d5d5e35a3b32",
   "metadata": {},
   "outputs": [],
   "source": [
    "#Option: Presidentials\n",
    "opt_Presidenciales = driver.find_element(By.XPATH,'/html/body/div[1]/section/div[2]/div[2]/div[2]/div[1]/div/div[1]')\n",
    "opt_Presidenciales.click()\n",
    "opt_Presidenciales_2 = driver.find_element(By.XPATH, '/html/body/div[1]/section/div[2]/div[2]/div[2]/div[1]/div/div[2]/div[2]')\n",
    "opt_Presidenciales_2.click()"
   ]
  },
  {
   "cell_type": "code",
   "execution_count": 49,
   "id": "c351cd8b-4f06-48c4-9357-6baa8b3551a6",
   "metadata": {},
   "outputs": [
    {
     "data": {
      "text/plain": [
       "26"
      ]
     },
     "execution_count": 49,
     "metadata": {},
     "output_type": "execute_result"
    }
   ],
   "source": [
    "#Getting the number of options\n",
    "elections_0 = driver.find_element(By.XPATH, \"/html/body/div[1]/section/div[2]/div[2]/div[2]/div[2]/div/select\" )\n",
    "election = Select(elections_0)\n",
    "num_election_options = len( election.options )\n",
    "num_election_options "
   ]
  },
  {
   "cell_type": "code",
   "execution_count": 15,
   "id": "86d0eeba-af65-4f38-9743-324d475ef61e",
   "metadata": {},
   "outputs": [
    {
     "name": "stdout",
     "output_type": "stream",
     "text": [
      "\n",
      "\n",
      "\n",
      "\n",
      "\n",
      "\n",
      "\n",
      "\n",
      "\n",
      "\n",
      "\n",
      "\n",
      "\n",
      "\n",
      "\n",
      "\n",
      "\n",
      "\n",
      "\n",
      "\n",
      "\n",
      "\n",
      "\n",
      "\n",
      "\n",
      "\n"
     ]
    }
   ],
   "source": [
    "#Getting the name of the elections\n",
    "for election_idx in range( num_election_options ):\n",
    "    \n",
    "    election = Select(elections_0)\n",
    "    election_opt = election.options[ election_idx ]\n",
    "    \n",
    "    election_name = election_opt.text\n",
    "    print(election_name)"
   ]
  },
  {
   "cell_type": "code",
   "execution_count": 55,
   "id": "ae4ec3a1",
   "metadata": {},
   "outputs": [],
   "source": [
    "# Lists to store Election Years and DataFrames\n",
    "eleccion_year_list = []\n",
    "dataframes_list = []"
   ]
  },
  {
   "cell_type": "code",
   "execution_count": 56,
   "id": "42f23041",
   "metadata": {},
   "outputs": [],
   "source": [
    "# Looping through election years\n",
    "for div in range(2, 27):\n",
    "    \n",
    "    # Opening the base URL in the WebDriver\n",
    "    driver.get(url_base)\n",
    "    \n",
    "    # Interacting with dropdowns and elements to navigate to the desired election\n",
    "    dropdown_paths_1 = [\n",
    "        '/html/body/div[1]/section/div[2]/div[2]/div[2]/div[1]/div',\n",
    "        '/html/body/div[1]/section/div[2]/div[2]/div[2]/div[1]/div/div[2]/div[2]',\n",
    "        '/html/body/div[1]/section/div[2]/div[2]/div[2]/div[2]/div'\n",
    "    ]\n",
    "    for path_1 in dropdown_paths_1:\n",
    "        driver.find_element(By.XPATH, path_1).click()\n",
    "        time.sleep(1)\n",
    "\n",
    "    # Constructing XPath to locate the specific election element based on the loop variable 'div'\n",
    "    # The format function inserts the current value of 'div' into the XPath\n",
    "    election_xpath = '/html/body/div[1]/section/div[2]/div[2]/div[2]/div[2]/div/div[2]/div[{}]'.format(div)    \n",
    "    driver.find_element(By.XPATH, election_xpath).click()\n",
    "\n",
    "    # Getting the election year and adding it to the list\n",
    "    eleccion_year = driver.find_element(By.XPATH, election_xpath).text\n",
    "    eleccion_year_list.append(eleccion_year)\n",
    "\n",
    "    time.sleep(1)\n",
    "\n",
    "    # Interacting with 'Ver datos de la elección' and 'Candidatos y resultados'\n",
    "    dropdown_paths_2 = [\n",
    "        '/html/body/div[1]/section/div[2]/div[2]/div[3]/div/button',\n",
    "        '/html/body/div[1]/section/div[2]/div[3]/div[1]/ul/li[2]/a'\n",
    "    ]\n",
    "    for path_2 in dropdown_paths_2:\n",
    "        \n",
    "        driver.find_element(By.XPATH, path_2).click()\n",
    "        time.sleep(2)\n",
    "    \n",
    "    # Getting the HTML of the election results table\n",
    "    table_path = driver.find_element(By.ID,'gridEleccionResultadosElectorales')\n",
    "    table_html = table_path.get_attribute( 'innerHTML' )\n",
    "    \n",
    "    # Getting the table directly using Pandas\n",
    "    df = pd.read_html(table_path.get_attribute('outerHTML'))[0]\n",
    "\n",
    "    # We create a new DataFrame and insert the list that we obtained previously \n",
    "    # We place it at the beginning [0] and with a new name    \n",
    "    df_cleaned = df.iloc[:, :].copy()\n",
    "    df_cleaned.insert(0, 'Elecciones', eleccion_year)\n",
    "\n",
    "    # Storing the DataFrame in the list\n",
    "    dataframes_list.append(df_cleaned)\n",
    "    df_cleaned"
   ]
  },
  {
   "cell_type": "code",
   "execution_count": 57,
   "id": "9dba9097",
   "metadata": {},
   "outputs": [
    {
     "data": {
      "text/html": [
       "<div>\n",
       "<style scoped>\n",
       "    .dataframe tbody tr th:only-of-type {\n",
       "        vertical-align: middle;\n",
       "    }\n",
       "\n",
       "    .dataframe tbody tr th {\n",
       "        vertical-align: top;\n",
       "    }\n",
       "\n",
       "    .dataframe thead th {\n",
       "        text-align: right;\n",
       "    }\n",
       "</style>\n",
       "<table border=\"1\" class=\"dataframe\">\n",
       "  <thead>\n",
       "    <tr style=\"text-align: right;\">\n",
       "      <th></th>\n",
       "      <th>Elecciones</th>\n",
       "      <th>ORGANIZACIÓN POLÍTICA</th>\n",
       "      <th>TOTAL VOTOS</th>\n",
       "    </tr>\n",
       "  </thead>\n",
       "  <tbody>\n",
       "    <tr>\n",
       "      <th>0</th>\n",
       "      <td>PRESIDENCIAL 2021 - 2DA VUELTA</td>\n",
       "      <td>PARTIDO POLITICO NACIONAL PERU LIBRE</td>\n",
       "      <td>8836380</td>\n",
       "    </tr>\n",
       "    <tr>\n",
       "      <th>1</th>\n",
       "      <td>PRESIDENCIAL 2021 - 2DA VUELTA</td>\n",
       "      <td>FUERZA POPULAR</td>\n",
       "      <td>8792117</td>\n",
       "    </tr>\n",
       "    <tr>\n",
       "      <th>2</th>\n",
       "      <td>PRESIDENCIAL 2021 - 2DA VUELTA</td>\n",
       "      <td>VOTOS EN BLANCO</td>\n",
       "      <td>121489</td>\n",
       "    </tr>\n",
       "    <tr>\n",
       "      <th>3</th>\n",
       "      <td>PRESIDENCIAL 2021 - 2DA VUELTA</td>\n",
       "      <td>VOTOS NULOS</td>\n",
       "      <td>1106816</td>\n",
       "    </tr>\n",
       "    <tr>\n",
       "      <th>4</th>\n",
       "      <td>PRESIDENCIAL 2021</td>\n",
       "      <td>PARTIDO POLITICO NACIONAL PERU LIBRE</td>\n",
       "      <td>2724752</td>\n",
       "    </tr>\n",
       "    <tr>\n",
       "      <th>...</th>\n",
       "      <td>...</td>\n",
       "      <td>...</td>\n",
       "      <td>...</td>\n",
       "    </tr>\n",
       "    <tr>\n",
       "      <th>152</th>\n",
       "      <td>PRESIDENCIAL 1936</td>\n",
       "      <td>PARTIDO REPUBLICANO</td>\n",
       "      <td>30803</td>\n",
       "    </tr>\n",
       "    <tr>\n",
       "      <th>153</th>\n",
       "      <td>PRESIDENCIAL 1931</td>\n",
       "      <td>UNION REVOLUCIONARIA</td>\n",
       "      <td>152149</td>\n",
       "    </tr>\n",
       "    <tr>\n",
       "      <th>154</th>\n",
       "      <td>PRESIDENCIAL 1931</td>\n",
       "      <td>PARTIDO APRISTA PERUANO</td>\n",
       "      <td>106088</td>\n",
       "    </tr>\n",
       "    <tr>\n",
       "      <th>155</th>\n",
       "      <td>PRESIDENCIAL 1931</td>\n",
       "      <td>PARTIDO DESCENTRALISTA</td>\n",
       "      <td>21950</td>\n",
       "    </tr>\n",
       "    <tr>\n",
       "      <th>156</th>\n",
       "      <td>PRESIDENCIAL 1931</td>\n",
       "      <td>PARTIDO COALICION NACIONAL</td>\n",
       "      <td>19640</td>\n",
       "    </tr>\n",
       "  </tbody>\n",
       "</table>\n",
       "<p>157 rows × 3 columns</p>\n",
       "</div>"
      ],
      "text/plain": [
       "                         Elecciones                 ORGANIZACIÓN POLÍTICA  \\\n",
       "0    PRESIDENCIAL 2021 - 2DA VUELTA  PARTIDO POLITICO NACIONAL PERU LIBRE   \n",
       "1    PRESIDENCIAL 2021 - 2DA VUELTA                        FUERZA POPULAR   \n",
       "2    PRESIDENCIAL 2021 - 2DA VUELTA                       VOTOS EN BLANCO   \n",
       "3    PRESIDENCIAL 2021 - 2DA VUELTA                           VOTOS NULOS   \n",
       "4                 PRESIDENCIAL 2021  PARTIDO POLITICO NACIONAL PERU LIBRE   \n",
       "..                              ...                                   ...   \n",
       "152               PRESIDENCIAL 1936                   PARTIDO REPUBLICANO   \n",
       "153               PRESIDENCIAL 1931                  UNION REVOLUCIONARIA   \n",
       "154               PRESIDENCIAL 1931               PARTIDO APRISTA PERUANO   \n",
       "155               PRESIDENCIAL 1931                PARTIDO DESCENTRALISTA   \n",
       "156               PRESIDENCIAL 1931            PARTIDO COALICION NACIONAL   \n",
       "\n",
       "     TOTAL VOTOS  \n",
       "0        8836380  \n",
       "1        8792117  \n",
       "2         121489  \n",
       "3        1106816  \n",
       "4        2724752  \n",
       "..           ...  \n",
       "152        30803  \n",
       "153       152149  \n",
       "154       106088  \n",
       "155        21950  \n",
       "156        19640  \n",
       "\n",
       "[157 rows x 3 columns]"
      ]
     },
     "execution_count": 57,
     "metadata": {},
     "output_type": "execute_result"
    }
   ],
   "source": [
    "\n",
    "# Concatenating all the DataFrames into one, removing the columns we don't want\n",
    "final_df = pd.concat(dataframes_list, ignore_index=True)\n",
    "columns_to_drop = ['SÍMBOLO', 'PLAN DE GOBIERNO', 'PORCENTAJE DE VOTOS VÁLIDOS', 'LISTA DE CANDIDATOS']\n",
    "final_df = final_df.drop(columns=columns_to_drop, errors='ignore')\n",
    "\n",
    "# Quitting the WebDriver at the end\n",
    "driver.quit()\n",
    "\n",
    "# Displaying the final DataFrame\n",
    "final_df\n"
   ]
  },
  {
   "cell_type": "code",
   "execution_count": 61,
   "id": "784096da",
   "metadata": {},
   "outputs": [
    {
     "name": "stdout",
     "output_type": "stream",
     "text": [
      "DataFrame exported to Excel file: C:\\Users\\nicol\\OneDrive\\Escritorio\\PUCP 2024-0\\Qlab_fund_py\\Presidential_Results_group8_ass5_2024.xlsx\n"
     ]
    }
   ],
   "source": [
    "excel_file_path = r'C:\\Users\\nicol\\OneDrive\\Documentos\\GitHub\\QLAB_Summer_Python\\assignments\\assignment_5\\Presidential_Results_group8_ass5_2024.xlsx'\n",
    "\n",
    "# Export the DataFrame to Excel\n",
    "final_df.to_excel(excel_file_path, index=False)\n",
    "\n",
    "# Finally we modify width of the columns for better review \n",
    "with pd.ExcelWriter(excel_file_path, engine='xlsxwriter') as writer:\n",
    "    final_df.to_excel(writer, index=False, sheet_name='Sheet1')\n",
    "\n",
    "    # we get the object workbook and worksheet\n",
    "    workbook = writer.book\n",
    "    worksheet = writer.sheets['Sheet1']\n",
    "\n",
    "    # Adjust the column widths according to the width dictionary\n",
    "    width_results = {'Elecciones': 40, 'ORGANIZACIÓN POLÍTICA': 40, 'TOTAL VOTOS': 40}\n",
    "    for col, width in width_results.items():\n",
    "        worksheet.set_column(final_df.columns.get_loc(col), final_df.columns.get_loc(col), width)\n",
    "\n",
    "# Print a message to confirm the export\n",
    "print(f'DataFrame exported to Excel file: {excel_file_path}')"
   ]
  },
  {
   "cell_type": "code",
   "execution_count": 1,
   "id": "a0a69445-1f2c-467c-8b69-fd526dbe9f09",
   "metadata": {},
   "outputs": [
    {
     "data": {
      "text/plain": [
       "'C:\\\\Users\\\\LENOVO\\\\Desktop\\\\Github\\\\QLAB_Summer_Python\\\\assignments\\\\assignment_5'"
      ]
     },
     "execution_count": 1,
     "metadata": {},
     "output_type": "execute_result"
    }
   ],
   "source": [
    "pwd"
   ]
  }
 ],
 "metadata": {
  "kernelspec": {
   "display_name": "Python 3 (ipykernel)",
   "language": "python",
   "name": "python3"
  },
  "language_info": {
   "codemirror_mode": {
    "name": "ipython",
    "version": 3
   },
   "file_extension": ".py",
   "mimetype": "text/x-python",
   "name": "python",
   "nbconvert_exporter": "python",
   "pygments_lexer": "ipython3",
   "version": "3.11.5"
  }
 },
 "nbformat": 4,
 "nbformat_minor": 5
}
