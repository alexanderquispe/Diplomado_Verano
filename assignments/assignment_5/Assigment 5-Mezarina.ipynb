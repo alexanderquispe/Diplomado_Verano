{
 "cells": [
  {
   "cell_type": "code",
   "execution_count": 30,
   "id": "9580114a",
   "metadata": {},
   "outputs": [
    {
     "name": "stdout",
     "output_type": "stream",
     "text": [
      "Collecting xlsxwriter\n",
      "  Obtaining dependency information for xlsxwriter from https://files.pythonhosted.org/packages/f7/3e/05ba2194cd5073602422859c949a4f21310a3c49bf8dccde9e03d4522b11/XlsxWriter-3.1.9-py3-none-any.whl.metadata\n",
      "  Downloading XlsxWriter-3.1.9-py3-none-any.whl.metadata (2.6 kB)\n",
      "Downloading XlsxWriter-3.1.9-py3-none-any.whl (154 kB)\n",
      "   ---------------------------------------- 0.0/154.8 kB ? eta -:--:--\n",
      "   -- ------------------------------------- 10.2/154.8 kB ? eta -:--:--\n",
      "   ------- ------------------------------- 30.7/154.8 kB 435.7 kB/s eta 0:00:01\n",
      "   ------------------------------- -------- 122.9/154.8 kB 1.2 MB/s eta 0:00:01\n",
      "   ---------------------------------------- 154.8/154.8 kB 1.3 MB/s eta 0:00:00\n",
      "Installing collected packages: xlsxwriter\n",
      "Successfully installed xlsxwriter-3.1.9\n"
     ]
    }
   ],
   "source": [
    "#!pip install selenium\n",
    "#!pip install webdriver-manager\n",
    "#!pip install openpyxl\n",
    "#!pip install pandas\n",
    "#!pip install numpy\n",
    "#!pip install lxml\n",
    "#!pip install unidecode\n",
    "#!pip install xlsxwriter"
   ]
  },
  {
   "cell_type": "code",
   "execution_count": 4,
   "id": "713a77e4-6a07-4fb3-88bb-81747c67ab8d",
   "metadata": {},
   "outputs": [],
   "source": [
    "from IPython.display import display, HTML\n",
    "\n",
    "display(HTML(data=\"\"\"\n",
    "<style>\n",
    "    div#notebook-container    { width: 95%; }\n",
    "    div#menubar-container     { width: 65%; }\n",
    "    div#maintoolbar-container { width: 99%; }a\n",
    "</style>\n",
    "\"\"\"))\n"
   ]
  },
  {
   "cell_type": "code",
   "execution_count": 3,
   "id": "9d37adc7-6397-41fa-bbd7-fbdd8abbeb85",
   "metadata": {},
   "outputs": [],
   "source": [
    "# This library is to manipulate browser\n",
    "\n",
    "# it allows you to work with differen versions of drivers\n",
    "# We call ChromeDriver\n",
    "from webdriver_manager.chrome import ChromeDriverManager\n",
    "import re\n",
    "import time "
   ]
  },
  {
   "cell_type": "code",
   "execution_count": 6,
   "id": "e29b2d3d-0e9f-4a34-bfc4-12a2ee37a9ff",
   "metadata": {},
   "outputs": [],
   "source": [
    "from selenium import webdriver\n",
    "\n",
    "##### Selenium for Firefox\n",
    "from selenium.webdriver.firefox.service import Service as FirefoxService\n",
    "from webdriver_manager.firefox import GeckoDriverManager\n",
    "\n",
    "##### Selenium for Chrome\n",
    "#from selenium.webdriver.chrome.service import Service as ChromeService\n",
    "#from webdriver_manager.chrome import ChromeDriverManager \n",
    "\n",
    "from selenium.webdriver.support.ui import Select\n",
    "from selenium.webdriver.common.keys import Keys\n",
    "from selenium.webdriver.common.by import By\n",
    "import re\n",
    "import time \n",
    "import pandas as pd"
   ]
  },
  {
   "cell_type": "code",
   "execution_count": 7,
   "id": "5180dfad-9f9a-4309-af96-85e778bb530b",
   "metadata": {},
   "outputs": [],
   "source": [
    "#chrome_options = webdriver.ChromeOptions()"
   ]
  },
  {
   "cell_type": "code",
   "execution_count": null,
   "id": "486e71b6-8d90-4fc6-b846-2b4bd689b968",
   "metadata": {},
   "outputs": [],
   "source": [
    "#chrome_options.add_argument(r\"executable_path=C:\\Users\\Maricielo\\Downloads\\Assigment5_Mezarina\\chromedriver-win64\\chromedriver.exe\")"
   ]
  },
  {
   "cell_type": "code",
   "execution_count": 15,
   "id": "9b4e9a9f",
   "metadata": {},
   "outputs": [
    {
     "data": {
      "text/html": [
       "\n",
       "<style>\n",
       "    div#notebook-container    { width: 95%; }\n",
       "    div#menubar-container     { width: 65%; }\n",
       "    div#maintoolbar-container { width: 99%; }a\n",
       "</style>\n"
      ],
      "text/plain": [
       "<IPython.core.display.HTML object>"
      ]
     },
     "metadata": {},
     "output_type": "display_data"
    }
   ],
   "source": [
    "import selenium"
   ]
  },
  {
   "cell_type": "code",
   "execution_count": 16,
   "id": "089940a1",
   "metadata": {},
   "outputs": [],
   "source": [
    "#Path MendozaC (Firefox)\n",
    "gecko_driver_path = \"C:\\\\Users\\\\LENOVO\\\\Desktop\\\\Github\\\\QLAB_Summer_Python\\\\assignments\\\\assignment_5\\\\geckodriver-v0.34.0-win64\\\\geckodriver.exe\"\n",
    "driver = webdriver.Firefox(\n",
    "    service=FirefoxService(gecko_driver_path))\n",
    "\n",
    "#Path Mezarina\n",
    "#chrome_driver_path = \"C:\\\\Users\\\\Maricielo\\\\Downloads\\\\Assigment5_Mezarina\\\\chromedriver-win64\\\\chromedriver.exe\"\n",
    "#driver = webdriver.Chrome(\n",
    "#    service=ChromeService(chrome_driver_path))"
   ]
  },
  {
   "cell_type": "code",
   "execution_count": 17,
   "id": "c75774e7",
   "metadata": {},
   "outputs": [],
   "source": [
    "# Base URL for the web scraping\n",
    "url_base = \"https://infogob.jne.gob.pe/Eleccion\"\n",
    "driver.get(url_base)"
   ]
  },
  {
   "cell_type": "code",
   "execution_count": 18,
   "id": "ae4ec3a1",
   "metadata": {},
   "outputs": [],
   "source": [
    "# Lists to store Election Years and DataFrames\n",
    "eleccion_year_list = []\n",
    "dataframes_list = []"
   ]
  },
  {
   "cell_type": "code",
   "execution_count": 19,
   "id": "42f23041",
   "metadata": {},
   "outputs": [],
   "source": [
    "# Looping through election years\n",
    "for div in range(2, 27):\n",
    "    \n",
    "    # Opening the base URL in the WebDriver\n",
    "    driver.get(url_base)\n",
    "    \n",
    "    # Interacting with dropdowns and elements to navigate to the desired election\n",
    "    dropdown_paths_1 = [\n",
    "        '/html/body/div[1]/section/div[2]/div[2]/div[2]/div[1]/div',\n",
    "        '/html/body/div[1]/section/div[2]/div[2]/div[2]/div[1]/div/div[2]/div[2]',\n",
    "        '/html/body/div[1]/section/div[2]/div[2]/div[2]/div[2]/div'\n",
    "    ]\n",
    "    for path_1 in dropdown_paths_1:\n",
    "        driver.find_element(By.XPATH, path_1).click()\n",
    "        time.sleep(1)\n",
    "\n",
    "    # Constructing XPath to locate the specific election element based on the loop variable 'div'\n",
    "    # The format function inserts the current value of 'div' into the XPath\n",
    "    election_xpath = '/html/body/div[1]/section/div[2]/div[2]/div[2]/div[2]/div/div[2]/div[{}]'.format(div)    \n",
    "    driver.find_element(By.XPATH, election_xpath).click()\n",
    "\n",
    "    # Getting the election year and adding it to the list\n",
    "    eleccion_year = driver.find_element(By.XPATH, election_xpath).text\n",
    "    eleccion_year_list.append(eleccion_year)\n",
    "\n",
    "    time.sleep(1)\n",
    "\n",
    "    # Interacting with 'Ver datos de la elección' and 'Candidatos y resultados'\n",
    "    dropdown_paths_2 = [\n",
    "        '/html/body/div[1]/section/div[2]/div[2]/div[3]/div/button',\n",
    "        '/html/body/div[1]/section/div[2]/div[3]/div[1]/ul/li[2]/a'\n",
    "    ]\n",
    "    for path_2 in dropdown_paths_2:\n",
    "        \n",
    "        driver.find_element(By.XPATH, path_2).click()\n",
    "        time.sleep(2)\n",
    "    \n",
    "    # Getting the HTML of the election results table\n",
    "    table_path = driver.find_element(By.ID,'gridEleccionResultadosElectorales')\n",
    "    table_html = table_path.get_attribute( 'innerHTML' )\n",
    "    \n",
    "    # Getting the table directly using Pandas\n",
    "    df = pd.read_html(table_path.get_attribute('outerHTML'))[0]\n",
    "\n",
    "    # We create a new DataFrame and insert the list that we obtained previously \n",
    "    # We place it at the beginning [0] and with a new name    \n",
    "    df_cleaned = df.iloc[:, :].copy()\n",
    "    df_cleaned.insert(0, 'Elecciones', eleccion_year)\n",
    "\n",
    "    # Storing the DataFrame in the list\n",
    "    dataframes_list.append(df_cleaned)"
   ]
  },
  {
   "cell_type": "code",
   "execution_count": 8,
   "id": "9dba9097",
   "metadata": {},
   "outputs": [],
   "source": [
    "df_cleaned"
   ]
  },
  {
   "cell_type": "code",
   "execution_count": 16,
   "id": "15820ce9-d5e1-4dd1-a4b2-a0dd7e53fd89",
   "metadata": {},
   "outputs": [],
   "source": [
    "# We save dateframe in an excel file\n",
    "Results = 'Results.xlsx' \n",
    "df_cleaned.to_excel(Results, index=False, engine='xlsxwriter')"
   ]
  },
  {
   "cell_type": "code",
   "execution_count": 17,
   "id": "eedf85f5",
   "metadata": {},
   "outputs": [],
   "source": []
  },
  {
   "cell_type": "code",
   "execution_count": 18,
   "id": "80ee128e",
   "metadata": {},
   "outputs": [],
   "source": []
  },
  {
   "cell_type": "code",
   "execution_count": 19,
   "id": "c5ccf130",
   "metadata": {},
   "outputs": [],
   "source": []
  },
  {
   "cell_type": "code",
   "execution_count": null,
   "id": "9ce2c776",
   "metadata": {},
   "outputs": [],
   "source": []
  },
  {
   "cell_type": "code",
   "execution_count": 32,
   "id": "1fd07c02",
   "metadata": {},
   "outputs": [],
   "source": []
  },
  {
   "cell_type": "code",
   "execution_count": null,
   "id": "784096da",
   "metadata": {},
   "outputs": [],
   "source": []
  }
 ],
 "metadata": {
  "kernelspec": {
   "display_name": "Python 3 (ipykernel)",
   "language": "python",
   "name": "python3"
  },
  "language_info": {
   "codemirror_mode": {
    "name": "ipython",
    "version": 3
   },
   "file_extension": ".py",
   "mimetype": "text/x-python",
   "name": "python",
   "nbconvert_exporter": "python",
   "pygments_lexer": "ipython3",
   "version": "3.11.5"
  }
 },
 "nbformat": 4,
 "nbformat_minor": 5
}
