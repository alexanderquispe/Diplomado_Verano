{
 "cells": [
  {
   "cell_type": "code",
   "execution_count": null,
   "id": "9580114a",
   "metadata": {},
   "outputs": [],
   "source": [
    "#!pip install selenium  \n",
    "#!pip install webdriver-manager\n",
    "#!pip install openpyxl\n",
    "#!pip install pandas\n",
    "#!pip install numpy\n",
    "#!pip install lxml\n",
    "#!pip install unidecode\n",
    "#!pip install xlsxwriter"
   ]
  },
  {
   "cell_type": "code",
   "execution_count": 1,
   "id": "713a77e4-6a07-4fb3-88bb-81747c67ab8d",
   "metadata": {},
   "outputs": [
    {
     "data": {
      "text/html": [
       "\n",
       "<style>\n",
       "    div#notebook-container    { width: 95%; }\n",
       "    div#menubar-container     { width: 65%; }\n",
       "    div#maintoolbar-container { width: 99%; }a\n",
       "</style>\n"
      ],
      "text/plain": [
       "<IPython.core.display.HTML object>"
      ]
     },
     "metadata": {},
     "output_type": "display_data"
    }
   ],
   "source": [
    "from IPython.display import display, HTML\n",
    "\n",
    "display(HTML(data=\"\"\"\n",
    "<style>\n",
    "    div#notebook-container    { width: 95%; }\n",
    "    div#menubar-container     { width: 65%; }\n",
    "    div#maintoolbar-container { width: 99%; }a\n",
    "</style>\n",
    "\"\"\"))\n"
   ]
  },
  {
   "cell_type": "code",
   "execution_count": null,
   "id": "9d37adc7-6397-41fa-bbd7-fbdd8abbeb85",
   "metadata": {},
   "outputs": [],
   "source": [
    "# This library is to manipulate browser\n",
    "\n",
    "# it allows you to work with differen versions of drivers\n",
    "# We call ChromeDriver\n",
    "from webdriver_manager.chrome import ChromeDriverManager\n",
    "import re\n",
    "import time "
   ]
  },
  {
   "cell_type": "code",
   "execution_count": null,
   "id": "e29b2d3d-0e9f-4a34-bfc4-12a2ee37a9ff",
   "metadata": {},
   "outputs": [],
   "source": [
    "from selenium import webdriver\n",
    "\n",
    "##### Selenium for Firefox\n",
    "from selenium.webdriver.firefox.service import Service as FirefoxService\n",
    "from webdriver_manager.firefox import GeckoDriverManager\n",
    "\n",
    "##### Selenium for Chrome\n",
    "#from selenium.webdriver.chrome.service import Service as ChromeService\n",
    "#from webdriver_manager.chrome import ChromeDriverManager \n",
    "\n",
    "from selenium.webdriver.support.ui import Select\n",
    "from selenium.webdriver.common.keys import Keys\n",
    "from selenium.webdriver.common.by import By\n",
    "import re\n",
    "import time \n",
    "import pandas as pd"
   ]
  },
  {
   "cell_type": "code",
   "execution_count": null,
   "id": "5180dfad-9f9a-4309-af96-85e778bb530b",
   "metadata": {},
   "outputs": [],
   "source": [
    "#chrome_options = webdriver.ChromeOptions()"
   ]
  },
  {
   "cell_type": "code",
   "execution_count": null,
   "id": "486e71b6-8d90-4fc6-b846-2b4bd689b968",
   "metadata": {},
   "outputs": [],
   "source": [
    "#chrome_options.add_argument(r\"executable_path=C:\\Users\\Maricielo\\Downloads\\Assigment5_Mezarina\\chromedriver-win64\\chromedriver.exe\")"
   ]
  },
  {
   "cell_type": "code",
   "execution_count": null,
   "id": "9b4e9a9f",
   "metadata": {},
   "outputs": [],
   "source": [
    "import selenium"
   ]
  },
  {
   "cell_type": "code",
   "execution_count": null,
   "id": "089940a1",
   "metadata": {},
   "outputs": [],
   "source": [
    "#Path MendozaC (Firefox)\n",
    "gecko_driver_path = \"...\\\\geckodriver-v0.34.0-win64\\\\geckodriver.exe\"\n",
    "driver = webdriver.Firefox(\n",
    "    service=FirefoxService(gecko_driver_path))\n",
    "\n",
    "#Path Mezarina\n",
    "#chrome_driver_path = \"C:\\\\Users\\\\Maricielo\\\\Downloads\\\\Assigment5_Mezarina\\\\chromedriver-win64\\\\chromedriver.exe\"\n",
    "#driver = webdriver.Chrome(\n",
    "#    service=ChromeService(chrome_driver_path))"
   ]
  },
  {
   "cell_type": "code",
   "execution_count": null,
   "id": "c75774e7",
   "metadata": {},
   "outputs": [],
   "source": [
    "# Base URL for the web scraping\n",
    "url_base = \"https://infogob.jne.gob.pe/Eleccion\"\n",
    "driver.get(url_base)"
   ]
  },
  {
   "cell_type": "code",
   "execution_count": null,
   "id": "ec83be34-883a-4ab3-84f2-d5d5e35a3b32",
   "metadata": {},
   "outputs": [],
   "source": [
    "#Option: Presidentials\n",
    "opt_Presideciales = driver.find_element(By.XPATH,'/html/body/div[1]/section/div[2]/div[2]/div[2]/div[1]/div/div[2]/div[2]')\n",
    "opt_Presidenciales.click()"
   ]
  },
  {
   "cell_type": "code",
   "execution_count": null,
   "id": "c351cd8b-4f06-48c4-9357-6baa8b3551a6",
   "metadata": {},
   "outputs": [],
   "source": [
    "#Getting the number of options\n",
    "elections_0 = driver.find_element(By.XPATH, \"/html/body/div[1]/section/div[2]/div[2]/div[2]/div[2]/div/select\" )\n",
    "election = Select(elections_0)\n",
    "num_election_options = len( election.options )\n",
    "num_election_options "
   ]
  },
  {
   "cell_type": "code",
   "execution_count": null,
   "id": "86d0eeba-af65-4f38-9743-324d475ef61e",
   "metadata": {},
   "outputs": [],
   "source": [
    "#Getting the name of the elections\n",
    "for election_idx in range( num_election_options ):\n",
    "    \n",
    "    election = Select(elections_0)\n",
    "    election_opt = election.options[ election_idx ]\n",
    "    \n",
    "    election_name = election_opt.text\n",
    "    print(election_name)"
   ]
  },
  {
   "cell_type": "code",
   "execution_count": null,
   "id": "ae4ec3a1",
   "metadata": {},
   "outputs": [],
   "source": [
    "# Lists to store Election Years and DataFrames\n",
    "eleccion_year_list = []\n",
    "dataframes_list = []"
   ]
  },
  {
   "cell_type": "code",
   "execution_count": null,
   "id": "42f23041",
   "metadata": {},
   "outputs": [],
   "source": [
    "# Looping through election years\n",
    "for div in range(2, 27):\n",
    "    \n",
    "    # Opening the base URL in the WebDriver\n",
    "    driver.get(url_base)\n",
    "    \n",
    "    # Interacting with dropdowns and elements to navigate to the desired election\n",
    "    dropdown_paths_1 = [\n",
    "        '/html/body/div[1]/section/div[2]/div[2]/div[2]/div[1]/div',\n",
    "        '/html/body/div[1]/section/div[2]/div[2]/div[2]/div[1]/div/div[2]/div[2]',\n",
    "        '/html/body/div[1]/section/div[2]/div[2]/div[2]/div[2]/div'\n",
    "    ]\n",
    "    for path_1 in dropdown_paths_1:\n",
    "        driver.find_element(By.XPATH, path_1).click()\n",
    "        time.sleep(1)\n",
    "\n",
    "    # Constructing XPath to locate the specific election element based on the loop variable 'div'\n",
    "    # The format function inserts the current value of 'div' into the XPath\n",
    "    election_xpath = '/html/body/div[1]/section/div[2]/div[2]/div[2]/div[2]/div/div[2]/div[{}]'.format(div)    \n",
    "    driver.find_element(By.XPATH, election_xpath).click()\n",
    "\n",
    "    # Getting the election year and adding it to the list\n",
    "    eleccion_year = driver.find_element(By.XPATH, election_xpath).text\n",
    "    eleccion_year_list.append(eleccion_year)\n",
    "\n",
    "    time.sleep(1)\n",
    "\n",
    "    # Interacting with 'Ver datos de la elección' and 'Candidatos y resultados'\n",
    "    dropdown_paths_2 = [\n",
    "        '/html/body/div[1]/section/div[2]/div[2]/div[3]/div/button',\n",
    "        '/html/body/div[1]/section/div[2]/div[3]/div[1]/ul/li[2]/a'\n",
    "    ]\n",
    "    for path_2 in dropdown_paths_2:\n",
    "        \n",
    "        driver.find_element(By.XPATH, path_2).click()\n",
    "        time.sleep(2)\n",
    "    \n",
    "    # Getting the HTML of the election results table\n",
    "    table_path = driver.find_element(By.ID,'gridEleccionResultadosElectorales')\n",
    "    table_html = table_path.get_attribute( 'innerHTML' )\n",
    "    \n",
    "    # Getting the table directly using Pandas\n",
    "    df = pd.read_html(table_path.get_attribute('outerHTML'))[0]\n",
    "\n",
    "    # We create a new DataFrame and insert the list that we obtained previously \n",
    "    # We place it at the beginning [0] and with a new name    \n",
    "    df_cleaned = df.iloc[:, :].copy()\n",
    "    df_cleaned.insert(0, 'Elecciones', eleccion_year)\n",
    "\n",
    "    # Storing the DataFrame in the list\n",
    "    dataframes_list.append(df_cleaned)\n",
    "    df_cleaned"
   ]
  },
  {
   "cell_type": "code",
   "execution_count": null,
   "id": "9dba9097",
   "metadata": {},
   "outputs": [],
   "source": [
    "\n",
    "# Concatenating all the DataFrames into one, removing the columns we don't want\n",
    "final_df = pd.concat(dataframes_list, ignore_index=True)\n",
    "columns_to_drop = ['SÍMBOLO', 'PLAN DE GOBIERNO', 'PORCENTAJE DE VOTOS VÁLIDOS', 'LISTA DE CANDIDATOS']\n",
    "final_df = final_df.drop(columns=columns_to_drop, errors='ignore')\n",
    "\n",
    "# Quitting the WebDriver at the end\n",
    "driver.quit()\n",
    "\n",
    "# Displaying the final DataFrame\n",
    "final_df\n"
   ]
  },
  {
   "cell_type": "code",
   "execution_count": null,
   "id": "784096da",
   "metadata": {},
   "outputs": [],
   "source": [
    "excel_file_path = r'...\\assignments\\assignment_5\\Presidential_Results.xlsx'\n",
    "\n",
    "# Export the DataFrame to Excel\n",
    "final_df.to_excel(excel_file_path, index=False)\n",
    "\n",
    "# Finally we modify width of the columns for better review \n",
    "with pd.ExcelWriter(excel_file_path, engine='xlsxwriter') as writer:\n",
    "    final_df.to_excel(writer, index=False, sheet_name='Sheet1')\n",
    "\n",
    "    # we get the object workbook and worksheet\n",
    "    workbook = writer.book\n",
    "    worksheet = writer.sheets['Sheet1']\n",
    "\n",
    "    # Adjust the column widths according to the width dictionary\n",
    "    width_results = {'Elecciones': 40, 'ORGANIZACIÓN POLÍTICA': 40, 'TOTAL VOTOS': 40}\n",
    "    for col, width in width_results.items():\n",
    "        worksheet.set_column(final_df.columns.get_loc(col), final_df.columns.get_loc(col), width)\n",
    "\n",
    "# Print a message to confirm the export\n",
    "print(f'DataFrame exported to Excel file: {excel_file_path}')"
   ]
  }
 ],
 "metadata": {
  "kernelspec": {
   "display_name": "Python 3 (ipykernel)",
   "language": "python",
   "name": "python3"
  },
  "language_info": {
   "codemirror_mode": {
    "name": "ipython",
    "version": 3
   },
   "file_extension": ".py",
   "mimetype": "text/x-python",
   "name": "python",
   "nbconvert_exporter": "python",
   "pygments_lexer": "ipython3",
   "version": "3.11.5"
  }
 },
 "nbformat": 4,
 "nbformat_minor": 5
}
