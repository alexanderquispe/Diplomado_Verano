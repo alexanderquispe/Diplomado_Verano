{
 "cells": [
  {
   "cell_type": "markdown",
   "metadata": {},
   "source": [
    "# Assignment 5\n",
    "The script should not give an error. Any mistake will be consider as 0.\n"
   ]
  },
  {
   "cell_type": "code",
   "execution_count": 130,
   "metadata": {},
   "outputs": [
    {
     "data": {
      "text/html": [
       "\n",
       "<style>\n",
       "    div#notebook-container    { width: 95%; }\n",
       "    div#menubar-container     { width: 65%; }\n",
       "    div#maintoolbar-container { width: 99%; }a\n",
       "</style>\n"
      ],
      "text/plain": [
       "<IPython.core.display.HTML object>"
      ]
     },
     "metadata": {},
     "output_type": "display_data"
    }
   ],
   "source": [
    "from IPython.display import display, HTML\n",
    "\n",
    "display(HTML(data=\"\"\"\n",
    "<style>\n",
    "    div#notebook-container    { width: 95%; }\n",
    "    div#menubar-container     { width: 65%; }\n",
    "    div#maintoolbar-container { width: 99%; }a\n",
    "</style>\n",
    "\"\"\"))\n",
    "\n",
    "# !pip install selenium\n",
    "# !pip install webdriver-manager \n"
   ]
  },
  {
   "cell_type": "code",
   "execution_count": 139,
   "metadata": {},
   "outputs": [],
   "source": [
    "# Cargamos las librerias necesarias para manipular el buscador y establecemos con qué buscador se trabajará (Firefox)\n",
    "from selenium import webdriver\n",
    "from selenium.webdriver.firefox.service import Service as FirefoxService\n",
    "from webdriver_manager.firefox import GeckoDriverManager\n",
    "\n",
    "# Se ubica la dirección en donde está el driver descargado del navegador a usar\n",
    "gecko_driver_path = \"C:\\\\Users\\\\LENOVO\\\\Desktop\\\\Github\\\\QLAB_Summer_Python\\\\assignments\\\\assignment_5\\\\geckodriver-v0.34.0-win64\\\\geckodriver.exe\"\n",
    "driver = webdriver.Firefox(\n",
    "    service=FirefoxService(gecko_driver_path))"
   ]
  },
  {
   "cell_type": "code",
   "execution_count": 140,
   "metadata": {},
   "outputs": [],
   "source": [
    "#Establecemos la dirección de donde se obtendra la información\n",
    "url = \"https://infogob.jne.gob.pe/Eleccion/\"\n",
    "driver.get(url)"
   ]
  },
  {
   "cell_type": "code",
   "execution_count": 133,
   "metadata": {},
   "outputs": [
    {
     "name": "stdout",
     "output_type": "stream",
     "text": [
      "title:  Infogob | ELECCIONES\n"
     ]
    }
   ],
   "source": [
    "print(\"title: \", driver.title)"
   ]
  },
  {
   "cell_type": "code",
   "execution_count": 124,
   "metadata": {},
   "outputs": [
    {
     "name": "stdout",
     "output_type": "stream",
     "text": [
      "[{'name': 'cookiesession1', 'value': '678ADA5BF5E72847496009D2B22E6FD8', 'path': '/', 'domain': 'infogob.jne.gob.pe', 'secure': False, 'httpOnly': True, 'expiry': 1736835720, 'sameSite': 'None'}, {'name': '_ga_TH6WJC14Q4', 'value': 'GS1.1.1705299726.1.1.1705300304.0.0.0', 'path': '/', 'domain': '.jne.gob.pe', 'secure': False, 'httpOnly': False, 'expiry': 1768372304, 'sameSite': 'None'}, {'name': '_ga', 'value': 'GA1.3.335197330.1705299727', 'path': '/', 'domain': '.jne.gob.pe', 'secure': False, 'httpOnly': False, 'expiry': 1768372304, 'sameSite': 'None'}, {'name': '_gid', 'value': 'GA1.3.2041362352.1705299728', 'path': '/', 'domain': '.jne.gob.pe', 'secure': False, 'httpOnly': False, 'expiry': 1705386704, 'sameSite': 'None'}, {'name': '_gat_gtag_UA_121901455_1', 'value': '1', 'path': '/', 'domain': '.jne.gob.pe', 'secure': False, 'httpOnly': False, 'expiry': 1705300364, 'sameSite': 'None'}]\n"
     ]
    }
   ],
   "source": [
    "cookies = driver.get_cookies()\n",
    "print(cookies)"
   ]
  },
  {
   "cell_type": "code",
   "execution_count": 136,
   "metadata": {},
   "outputs": [
    {
     "ename": "AttributeError",
     "evalue": "'WebDriver' object has no attribute 'find_element_by_id'",
     "output_type": "error",
     "traceback": [
      "\u001b[1;31m---------------------------------------------------------------------------\u001b[0m",
      "\u001b[1;31mAttributeError\u001b[0m                            Traceback (most recent call last)",
      "Cell \u001b[1;32mIn[136], line 5\u001b[0m\n\u001b[0;32m      3\u001b[0m \u001b[38;5;28;01mfrom\u001b[39;00m \u001b[38;5;21;01mselenium\u001b[39;00m\u001b[38;5;21;01m.\u001b[39;00m\u001b[38;5;21;01mwebdriver\u001b[39;00m\u001b[38;5;21;01m.\u001b[39;00m\u001b[38;5;21;01mcommon\u001b[39;00m\u001b[38;5;21;01m.\u001b[39;00m\u001b[38;5;21;01mby\u001b[39;00m \u001b[38;5;28;01mimport\u001b[39;00m By\n\u001b[0;32m      4\u001b[0m \u001b[38;5;28;01mimport\u001b[39;00m \u001b[38;5;21;01mtime\u001b[39;00m\n\u001b[1;32m----> 5\u001b[0m dropdown_element \u001b[38;5;241m=\u001b[39m driver\u001b[38;5;241m.\u001b[39mfind_element_by_id(\u001b[38;5;124m\"\u001b[39m\u001b[38;5;124mIdTipoProceso\u001b[39m\u001b[38;5;124m\"\u001b[39m)\n",
      "\u001b[1;31mAttributeError\u001b[0m: 'WebDriver' object has no attribute 'find_element_by_id'"
     ]
    }
   ],
   "source": [
    "# Seleccionamos la opción de \"Elecciones presidenciales\" en \"Tipo de proceso\"\n",
    "from selenium.webdriver.support.ui import Select\n",
    "from selenium.webdriver.common.by import By\n",
    "import time\n",
    "dropdown_element = driver.find_element_by_id(\"IdTipoProceso\")"
   ]
  },
  {
   "cell_type": "code",
   "execution_count": 129,
   "metadata": {},
   "outputs": [
    {
     "ename": "AttributeError",
     "evalue": "'WebDriver' object has no attribute 'find_element_by_id'",
     "output_type": "error",
     "traceback": [
      "\u001b[1;31m---------------------------------------------------------------------------\u001b[0m",
      "\u001b[1;31mAttributeError\u001b[0m                            Traceback (most recent call last)",
      "Cell \u001b[1;32mIn[129], line 4\u001b[0m\n\u001b[0;32m      1\u001b[0m \u001b[38;5;66;03m# Obtenemos la lista de todas las elecciones presidenciales de la pagina web\u001b[39;00m\n\u001b[0;32m      2\u001b[0m \u001b[38;5;28;01mfrom\u001b[39;00m \u001b[38;5;21;01mselenium\u001b[39;00m\u001b[38;5;21;01m.\u001b[39;00m\u001b[38;5;21;01mwebdriver\u001b[39;00m\u001b[38;5;21;01m.\u001b[39;00m\u001b[38;5;21;01msupport\u001b[39;00m\u001b[38;5;21;01m.\u001b[39;00m\u001b[38;5;21;01mui\u001b[39;00m \u001b[38;5;28;01mimport\u001b[39;00m Select\n\u001b[1;32m----> 4\u001b[0m dropdown_element \u001b[38;5;241m=\u001b[39m driver\u001b[38;5;241m.\u001b[39mfind_element_by_id(\u001b[38;5;124m\"\u001b[39m\u001b[38;5;124mIdEleccion\u001b[39m\u001b[38;5;124m\"\u001b[39m)\n\u001b[0;32m      5\u001b[0m dropdown \u001b[38;5;241m=\u001b[39m Select(dropdown_element)\n\u001b[0;32m      6\u001b[0m opciones \u001b[38;5;241m=\u001b[39m [opcion\u001b[38;5;241m.\u001b[39mtext \u001b[38;5;28;01mfor\u001b[39;00m opcion \u001b[38;5;129;01min\u001b[39;00m dropdown\u001b[38;5;241m.\u001b[39moptions]\n",
      "\u001b[1;31mAttributeError\u001b[0m: 'WebDriver' object has no attribute 'find_element_by_id'"
     ]
    }
   ],
   "source": [
    "# Obtenemos la lista de todas las elecciones presidenciales de la pagina web\n",
    "from selenium.webdriver.support.ui import Select\n",
    "\n",
    "dropdown_element = driver.find_element_by_id(\"IdEleccion\")\n",
    "dropdown = Select(dropdown_element)\n",
    "opciones = [opcion.text for opcion in dropdown.options]\n",
    "print(opciones)"
   ]
  }
 ],
 "metadata": {
  "hide_input": false,
  "kernelspec": {
   "display_name": "Python 3 (ipykernel)",
   "language": "python",
   "name": "python3"
  },
  "language_info": {
   "codemirror_mode": {
    "name": "ipython",
    "version": 3
   },
   "file_extension": ".py",
   "mimetype": "text/x-python",
   "name": "python",
   "nbconvert_exporter": "python",
   "pygments_lexer": "ipython3",
   "version": "3.11.5"
  },
  "toc": {
   "base_numbering": 1,
   "nav_menu": {},
   "number_sections": true,
   "sideBar": true,
   "skip_h1_title": false,
   "title_cell": "Table of Contents",
   "title_sidebar": "Contents",
   "toc_cell": false,
   "toc_position": {},
   "toc_section_display": true,
   "toc_window_display": false
  }
 },
 "nbformat": 4,
 "nbformat_minor": 4
}
