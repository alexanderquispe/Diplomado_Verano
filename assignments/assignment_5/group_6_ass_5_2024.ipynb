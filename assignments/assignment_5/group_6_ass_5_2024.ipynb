{
 "cells": [
  {
   "cell_type": "markdown",
   "metadata": {},
   "source": [
    "# Assignment 5\n",
    "\n"
   ]
  },
  {
   "cell_type": "code",
   "execution_count": null,
   "metadata": {},
   "outputs": [],
   "source": [
    "from IPython.display import display, HTML\n",
    "\n",
    "display(HTML(data=\"\"\"\n",
    "<style>\n",
    "    div#notebook-container    { width: 95%; }\n",
    "    div#menubar-container     { width: 65%; }\n",
    "    div#maintoolbar-container { width: 99%; }a\n",
    "</style>\n",
    "\"\"\"))"
   ]
  },
  {
   "cell_type": "code",
   "execution_count": null,
   "metadata": {},
   "outputs": [],
   "source": [
    "!pip install selenium\n",
    "!pip install webdriver-manager"
   ]
  },
  {
   "cell_type": "code",
   "execution_count": null,
   "metadata": {},
   "outputs": [],
   "source": [
    "from selenium import webdriver\n",
    "from webdriver_manager.chrome import ChromeDriverManager\n",
    "from selenium.webdriver.support.ui import Select\n",
    "from selenium.webdriver.common.keys import Keys\n",
    "from selenium.webdriver.common.by import By\n",
    "from selenium.common.exceptions import NoSuchElementException\n",
    "from selenium.webdriver import ActionChains\n",
    "import re\n",
    "import os\n",
    "import time \n",
    "import pandas as pd"
   ]
  },
  {
   "cell_type": "code",
   "execution_count": null,
   "metadata": {},
   "outputs": [],
   "source": [
    "# Setting up Chrome options for WebDriver\n",
    "chrome_options = webdriver.ChromeOptions()\n",
    "chrome_options.add_argument(\"executable_path=C:\\\\Users\\\\HP\\\\Documents\\\\tareas\\\\chromedriver-win64\\\\chromedriver.exe\")\n",
    "\n",
    "# Initializing the WebDriver with configured options\n",
    "driver = webdriver.Chrome(options=chrome_options)\n",
    "\n",
    "# Maximizing the browser window and zoom\n",
    "driver.maximize_window()\n",
    "driver.execute_script(\"document.body.style.zoom='100%'\")\n",
    "\n",
    "# Base URL for the web scraping\n",
    "url_base = \"https://infogob.jne.gob.pe/Eleccion\"\n",
    "\n",
    "# Lists to store Election Years and DataFrames\n",
    "eleccion_year_list = []\n",
    "dataframes_list = []"
   ]
  },
  {
   "cell_type": "code",
   "execution_count": null,
   "metadata": {},
   "outputs": [],
   "source": [
    "# Looping through election years. LISTO\n",
    "for div in range(2, 27):\n",
    "    \n",
    "    # Opening the base URL in the WebDriver\n",
    "    driver.get(url_base)\n",
    "        # Interacting with dropdowns and elements to navigate to the desired election\n",
    "    dropdown_paths_1 = [\n",
    "        '/html/body/div[1]/section/div[2]/div[2]/div[2]/div[1]/div',\n",
    "        '/html/body/div[1]/section/div[2]/div[2]/div[2]/div[1]/div/div[2]/div[2]',\n",
    "        '/html/body/div[1]/section/div[2]/div[2]/div[2]/div[2]/div'\n",
    "         ]\n",
    "    for path_1 in dropdown_paths_1:\n",
    "        driver.find_element(By.XPATH, path_1).click()\n",
    "        time.sleep(1)\n",
    "\n",
    "    # Constructing XPath to locate the specific election element based on the loop variable 'div'\n",
    "    # The format function inserts the current value of 'div' into the XPath\n",
    "    election_xpath = '/html/body/div[1]/section/div[2]/div[2]/div[2]/div[2]/div/div[2]/div[{}]'.format(div)    \n",
    "    driver.find_element(By.XPATH, election_xpath).click()\n",
    "\n",
    "    # Getting the election year and adding it to the list\n",
    "    eleccion_year = driver.find_element(By.XPATH, election_xpath).text\n",
    "    eleccion_year_list.append(eleccion_year)\n",
    "\n",
    "    time.sleep(1)"
   ]
  }
 ],
 "metadata": {
  "hide_input": false,
  "kernelspec": {
   "display_name": "Python 3 (ipykernel)",
   "language": "python",
   "name": "python3"
  },
  "language_info": {
   "codemirror_mode": {
    "name": "ipython",
    "version": 3
   },
   "file_extension": ".py",
   "mimetype": "text/x-python",
   "name": "python",
   "nbconvert_exporter": "python",
   "pygments_lexer": "ipython3",
   "version": "3.11.5"
  },
  "toc": {
   "base_numbering": 1,
   "nav_menu": {},
   "number_sections": true,
   "sideBar": true,
   "skip_h1_title": false,
   "title_cell": "Table of Contents",
   "title_sidebar": "Contents",
   "toc_cell": false,
   "toc_position": {},
   "toc_section_display": true,
   "toc_window_display": false
  }
 },
 "nbformat": 4,
 "nbformat_minor": 4
}
