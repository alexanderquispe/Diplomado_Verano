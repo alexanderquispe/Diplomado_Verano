{
 "cells": [
  {
   "cell_type": "markdown",
   "id": "1b8dd22a",
   "metadata": {},
   "source": [
    "## Assignment 2 - Group 1 \n",
    "\n",
    "First of all, we import the libraries to be used in this work:"
   ]
  },
  {
   "cell_type": "code",
   "execution_count": 1,
   "id": "3d3a41c3",
   "metadata": {},
   "outputs": [],
   "source": [
    "import numpy as np\n",
    "import pandas as pd"
   ]
  },
  {
   "cell_type": "markdown",
   "id": "e797ff11",
   "metadata": {},
   "source": [
    "#### Question 1.2 - Lists\n",
    "\n",
    "Let the following data be provided by the problem:"
   ]
  },
  {
   "cell_type": "code",
   "execution_count": 2,
   "id": "17de79f2",
   "metadata": {},
   "outputs": [],
   "source": [
    "f_list = [np.nan , np.nan, \"Austria\", \"Germany\", np.nan, \"Pakistan\", \"np.nan\", np.nan ]\n",
    "text1 = ['My', 'teacher', 'assistant', 'is', 'so', 'boring.']\n",
    "p2_list = [ 2 , 3, 4, 5 ]\n",
    "values1 = [ 86, 86, 85, 85, 85, 83, 23, 0, 84, 1 ] \n",
    "last_and_name = [ \"CORNEJO SANCHEZ, CHRISTIAN SANTOS\", \"ORELLANA QUISPE, CRISTIAN NASSER\", \"MORALES CHOQUEHUANCA, ANGELICA KARINA\", \"GUIMARAY RIBEYRO, JOSE ROBERTO\", \"CAMACHO GAVIDIA, ABEL FERNANDO\", \"TINTAYA ORIHUELA, MEIR ALVARO\", \"CHAVEZ MARTINEZ, JOSELIN ALEXANDRA\", \"FIGUEROA MURO, LEONEL ARTURO\", \"GOMEZ CRIBILLERO, JOSE FELIPE\", \"PALOMINO SEGUÍN, AFRANIA\", \"LUZON CUEVA, BIANCA MARIETTE\", \"SUAÑA ZEGARRA, ADRIAN ANDRE\", \"SOTO POMACHAGUA, DORKAS YOMIRA JHERMY\", \"FIORENTINO MARTINEZ, LADY ALY\", \"LAMA MAVILA, HECTOR ANDRE\", \"MEZA HINOJO, GUSTAVO\", \"LOZADA MURILLO, PERSEO MARCELO\", \"ZAMBRANO JIMENEZ, MIGUEL ALONZO\", \"JACOBS LUQUE, NICOLAS\", \"VIDAL VIDAL, ROCIO GABRIELA\", \"TORRES ANICAMA, JANE CAMILA\", \"LOPEZ ESTRADA, MARIA ELISA\", \"BOYCO ORAMS, ALEJANDRO\", \"DIAZ BERROSPI, KARLINE ROSMELI\", \"RIEGA ESCALANTE, STEPHY ROSARIO\", \"LEVANO TORRES, VALERIA CECILIA\", \"ESQUIVES BRAVO, SEBASTIAN RENATO\", \"PEREZ GONZALES, JUAN CARLOS\", \"OTERO MAGUIÑA, MARIANA\", \"CLAVO CAMPOS, ANDREA BRIZETH\", \"AGUILAR GARCIA, ERICK JOSUE\", \"CALDAS VELASQUEZ, JOSUE DANIEL\", \"SALAS NUÑEZ BORJA, FABIO MANUEL\", \"PIZARRO VILLANES, FERNANDA NICOLLE\", \"QUILLATUPA MORALES, ANGELA ADELINA\", \"HUANCAYA IDONE, CESAR DANTE\", \"CALVO PORTOCARRERO, GABRIELA ISABEL\", \"IBAÑEZ ABANTO, ANGEL MAURICIO\", \"MELÉNDEZ APONTE, JUAN DIEGO\", \"CRISTIAN SERRANO, ARONE\", \"HINOJOSA CAHUANA, PERCY ALBERTH\", \"ANGLAS GARCÍA, KEVIN ARTURO\", \"ALDAVE ACOSTA, CESAR ERNESTO\", \"NÚÑEZ HUAMÁN, CÉSAR AGUSTO\", \"OBREGON HUAMAN, DIANA EDITH\", \"SOTO PACHERRES, RODRIGO FRANCO\", \"INGARUCA RIVERA, GRETTEL ALEXANDRA\", \"ROJAS HUAMAN, ROSA ANGELA\", \"NEYRA SALAS, DANTE OMAR\", \"HUERTA ESPINOZA, YAJAIRA ALEXANDRA\", \"HUANCA MARTINEZ, JORGE ALBERTO\", \"FLORES CADILLO, ALEXIS\" ]\n",
    "emails = [\"cscornejo@pucp.edu.pe\", \"orellana.cn@pucp.edu.pe\", \"karina.morales@pucp.edu.pe\", \"a20083223@pucp.pe\", \"abel.camacho@pucp.pe\", \"mtintaya@pucp.edu.pe\", \"joselin.chavez@pucp.edu.pe\", \"a20105737@pucp.pe\", \"jfgomezc@pucp.pe\", \"afrania.palomino@pucp.pe\", \"luzon.bianca@pucp.pe\", \"adrian.suanaz@pucp.pe\", \"soto.y@pucp.edu.pe\", \"a20132766@pucp.pe\", \"andre.lama@pucp.edu.pe\", \"gustavo.meza@pucp.edu.pe\", \"pmlozada@pucp.edu.pe\", \"m.zambranoj@pucp.edu.pe\", \"nicolas.jacobs@pucp.edu.pe\", \"gvidal@pucp.edu.pe\", \"jane.torres@pucp.edu.pe\", \"m.lopez@pucp.edu.pe\", \"alejandro.boyco@pucp.edu.pe\", \"a20167070@pucp.edu.pe\", \"riega.stephy@pucp.edu.pe\", \"vlevanot@pucp.edu.pe\", \"sesquives@pucp.edu.pe\", \"perez.juanc@pucp.edu.pe\", \"mariana.otero@pucp.edu.pe\", \"aclavo@pucp.edu.pe\", \"a20182474@pucp.edu.pe\", \"josue.caldas@pucp.edu.pe\", \"fabio.salas@pucp.edu.pe\", \"fernanda.pizarro@pucp.edu.pe\", \"aquillatupa@pucp.pe\", \"\", \"\", \"\", \"\", \"\", \"f0873079@pucp.edu.pe\", \"\", \"\", \"\", \"\", \"\", \"\", \"\", \"\", \"\", \"\", \"flores.alexis@pucp.edu.pe\", ]"
   ]
  },
  {
   "cell_type": "markdown",
   "id": "d5f8252a",
   "metadata": {},
   "source": [
    "1. Show the indices of the `np.nan` values  in the `f_list` list. We want to see this output: `The indices 0, 1, 4, 7 have np.nan values.` **Hint: Use print function and [f-strings](https://realpython.com/python-f-strings/) to insert the indices values.**\n",
    "\n",
    "In the following list we try to get a list of booleans where True should appear in the positions where np.nan is found, and False should appear otherwise."
   ]
  },
  {
   "cell_type": "code",
   "execution_count": 3,
   "id": "1154b297",
   "metadata": {},
   "outputs": [
    {
     "ename": "TypeError",
     "evalue": "ufunc 'isnan' not supported for the input types, and the inputs could not be safely coerced to any supported types according to the casting rule ''safe''",
     "output_type": "error",
     "traceback": [
      "\u001b[1;31m---------------------------------------------------------------------------\u001b[0m",
      "\u001b[1;31mTypeError\u001b[0m                                 Traceback (most recent call last)",
      "Cell \u001b[1;32mIn[3], line 1\u001b[0m\n\u001b[1;32m----> 1\u001b[0m a\u001b[38;5;241m=\u001b[39m\u001b[38;5;28;43mlist\u001b[39;49m\u001b[43m(\u001b[49m\u001b[38;5;28;43mmap\u001b[39;49m\u001b[43m(\u001b[49m\u001b[43mnp\u001b[49m\u001b[38;5;241;43m.\u001b[39;49m\u001b[43misnan\u001b[49m\u001b[43m,\u001b[49m\u001b[43mf_list\u001b[49m\u001b[43m)\u001b[49m\u001b[43m)\u001b[49m\n",
      "\u001b[1;31mTypeError\u001b[0m: ufunc 'isnan' not supported for the input types, and the inputs could not be safely coerced to any supported types according to the casting rule ''safe''"
     ]
    }
   ],
   "source": [
    "a=list(map(np.isnan,f_list)) \n",
    "# Let's remember that with the map function the function of the first arguments is applied to each element of the list introduced in the second argument.\n",
    "# With np.isnan you get True when the element is np.nan, False otherwise."
   ]
  },
  {
   "cell_type": "markdown",
   "id": "2074bbb8",
   "metadata": {},
   "source": [
    "You can see that the previous line of code does not work. This is because np.isnan cannot be applied to string objects (and the list provided has these types of objects). To fix this problem we do the following:\n",
    "\n",
    "We define the function `str0` which returns True when the element is not a string, False otherwise. Then we use the `map` function to apply the function made to each element of the `f_list` list."
   ]
  },
  {
   "cell_type": "code",
   "execution_count": 4,
   "id": "ca7bd6f8",
   "metadata": {},
   "outputs": [
    {
     "name": "stdout",
     "output_type": "stream",
     "text": [
      "[True, True, False, False, True, False, False, True]\n"
     ]
    }
   ],
   "source": [
    "def str0(x):\n",
    "    y=type(x)!=str\n",
    "    return y\n",
    "\n",
    "a=list(map(str0,f_list))\n",
    "\n",
    "print(a)"
   ]
  },
  {
   "cell_type": "markdown",
   "id": "9febe20c",
   "metadata": {},
   "source": [
    "Note that the list obtained has True in the positions where there is np.nan and False where there is not. Since the list `f_list` only has two types of objects (strings and np.nan), the function created allows us to differentiate between np.nan and other elements. It wouldn't work if there were other types of items in the list.\n",
    "\n",
    "Now we create the following np.array that contains exclusively the index position of the elements where True appears from the list obtained previously. This action is done precisely with `np.argwhere`."
   ]
  },
  {
   "cell_type": "code",
   "execution_count": 5,
   "id": "a97c1285",
   "metadata": {},
   "outputs": [
    {
     "name": "stdout",
     "output_type": "stream",
     "text": [
      "[[0]\n",
      " [1]\n",
      " [4]\n",
      " [7]]\n"
     ]
    }
   ],
   "source": [
    "b=np.argwhere(a)\n",
    "print(b)"
   ]
  },
  {
   "cell_type": "markdown",
   "id": "03c12bb0",
   "metadata": {},
   "source": [
    "Using the map and int function we convert each element of this array into an integer and save it in a new list."
   ]
  },
  {
   "cell_type": "code",
   "execution_count": 6,
   "id": "5eb7802d",
   "metadata": {},
   "outputs": [
    {
     "name": "stdout",
     "output_type": "stream",
     "text": [
      "[0, 1, 4, 7]\n"
     ]
    }
   ],
   "source": [
    "b=list(map(int,b))\n",
    "print(b)"
   ]
  },
  {
   "cell_type": "markdown",
   "id": "d8b32e9c",
   "metadata": {},
   "source": [
    "Now, using f-strings we print the text requested by the question."
   ]
  },
  {
   "cell_type": "code",
   "execution_count": 7,
   "id": "1a420632",
   "metadata": {},
   "outputs": [
    {
     "name": "stdout",
     "output_type": "stream",
     "text": [
      "The indices 0, 1, 4, 7 have np.nan values.\n"
     ]
    }
   ],
   "source": [
    "print(f'The indices {\", \".join(map(str, b))} have np.nan values.')"
   ]
  },
  {
   "cell_type": "markdown",
   "id": "a1c06b72",
   "metadata": {},
   "source": [
    "Notice that inside the braces is placed `\", \".join(map(str, b))`. Precisely, this command allows us to obtain a string in which each element b converted into a string (thanks to the `map` and `str` function) is combined into a single string in which each element is also separated by \", \". Therefore, the comeand returns in summary \"0, 1, 4, 7\".\n",
    "\n",
    "2. Replicate 4 times the values of the list `p2_list`. We expect an ouput like this: `[2, 3, 4, 5, 2, 3, 4, 5, 2, 3, 4, 5, 2, 3, 4, 5]`.  **Hint: Use multiplication function in `lists` and see the output.**\n",
    "\n",
    "We can do this simply with the following lines of code:"
   ]
  },
  {
   "cell_type": "code",
   "execution_count": 8,
   "id": "31176db3",
   "metadata": {},
   "outputs": [
    {
     "name": "stdout",
     "output_type": "stream",
     "text": [
      "[2, 3, 4, 5, 2, 3, 4, 5, 2, 3, 4, 5, 2, 3, 4, 5]\n"
     ]
    }
   ],
   "source": [
    "p2_list_1= p2_list*4\n",
    "print(p2_list_1)"
   ]
  },
  {
   "cell_type": "markdown",
   "id": "3130c52f",
   "metadata": {},
   "source": [
    "Using list multiplication using `*4` can duplicate the provided list 4 times.\n",
    "\n",
    "3. Print the length of `f_list`. **Hint: Length function**\n",
    "\n",
    "We can do this simply with the following line of code:"
   ]
  },
  {
   "cell_type": "code",
   "execution_count": 9,
   "id": "0ddb34f6",
   "metadata": {},
   "outputs": [
    {
     "name": "stdout",
     "output_type": "stream",
     "text": [
      "8\n"
     ]
    }
   ],
   "source": [
    "print(len(f_list)) "
   ]
  },
  {
   "cell_type": "markdown",
   "id": "7056c371",
   "metadata": {},
   "source": [
    "Where `len` is the length function which returns the number of elements in the list. And let's remember that with the `print` function we can print the result of the operation in the output.\n",
    "\n",
    "4. Print `My teacher assistant is so boring.` using `text1` list. **Hint: Use the [`join` function](https://stackoverflow.com/questions/493819/why-is-it-string-joinlist-instead-of-list-joinstring)**\n",
    "\n",
    "We can do this simply with the following line of code:"
   ]
  },
  {
   "cell_type": "code",
   "execution_count": 10,
   "id": "ce212151",
   "metadata": {},
   "outputs": [
    {
     "data": {
      "text/plain": [
       "'My teacher assistant is so boring.'"
      ]
     },
     "execution_count": 10,
     "metadata": {},
     "output_type": "execute_result"
    }
   ],
   "source": [
    "' '.join(text1)"
   ]
  },
  {
   "cell_type": "markdown",
   "id": "d5a817e2",
   "metadata": {},
   "source": [
    "Remember that with the join method (which is applied to strings) we manage to obtain a single string that joins the elements contained in the list provided in the input (in this case `text1`) and these elements in turn are separated by the string called at the beginning, in this case being `\" \"`. This is why the printed result is obtained.\n",
    "\n",
    "5. Print `My TA is so boring, but is very funny.` using `text1` list.**Hint: Use the `join` function, and `extend` method.**\n",
    "\n",
    "First we extend the provided word list with the new words required for printing. For this we use the `extend` method."
   ]
  },
  {
   "cell_type": "code",
   "execution_count": 11,
   "id": "41bfd983",
   "metadata": {},
   "outputs": [],
   "source": [
    "text1.extend(['but', 'is', 'very', 'funny.'])"
   ]
  },
  {
   "cell_type": "markdown",
   "id": "1b6ffcab",
   "metadata": {},
   "source": [
    "Finally, we use the `join` method again to create the required string. Additionally, we use the `replace` method to replace some parts of the string with others to obtain one equal to the one requested."
   ]
  },
  {
   "cell_type": "code",
   "execution_count": 12,
   "id": "ca25e1d6",
   "metadata": {},
   "outputs": [
    {
     "data": {
      "text/plain": [
       "'My TA is so boring, but is very funny.'"
      ]
     },
     "execution_count": 12,
     "metadata": {},
     "output_type": "execute_result"
    }
   ],
   "source": [
    "' '.join(text1).replace('g. ','g, ').replace('teacher assistant','TA')"
   ]
  },
  {
   "cell_type": "markdown",
   "id": "58845d9e",
   "metadata": {},
   "source": [
    "6. Print <br>\n",
    "`The max value of values1 is 86 and is located in the 0 index. ` <br>\n",
    "`The min value of values1 is 0 and is located in the 7 index. ` <br> **Hint: Use the `f-string`, `min`, and `max` functions.**\n",
    "<br>\n",
    "\n",
    "We define the following:"
   ]
  },
  {
   "cell_type": "code",
   "execution_count": 13,
   "id": "84184dd0",
   "metadata": {},
   "outputs": [],
   "source": [
    "m_1=max(values1)\n",
    "m_2=values1.index(m_1)\n",
    "\n",
    "m_3=min(values1)\n",
    "m_4=values1.index(m_3)"
   ]
  },
  {
   "cell_type": "markdown",
   "id": "4440748d",
   "metadata": {},
   "source": [
    "With the functions `max` and `min` we obtain the maximum and minimum value respectively within the list `values1`. Then with the `index` method we obtain the numerical position where these values are located.\n",
    "\n",
    "With these values saved in `m_1`, `m_2`, `m_3` and `m_4` we print the required strings."
   ]
  },
  {
   "cell_type": "code",
   "execution_count": 14,
   "id": "d0d54c42",
   "metadata": {},
   "outputs": [
    {
     "name": "stdout",
     "output_type": "stream",
     "text": [
      "The max value of values1 is 86 and is located in the 0 index.\n",
      "The min value of values1 is 0 and is located in the 7 index.\n"
     ]
    }
   ],
   "source": [
    "print(f'The max value of values1 is {m_1} and is located in the {m_2} index.')\n",
    "print(f'The min value of values1 is {m_3} and is located in the {m_4} index.')"
   ]
  },
  {
   "cell_type": "markdown",
   "id": "eec7182d",
   "metadata": {},
   "source": [
    "7. Get two lists: `names` and `last_names` using `last_and_name` list. **Hint: Use `map` and `split`.**\n",
    "\n",
    "First we define the following function:"
   ]
  },
  {
   "cell_type": "code",
   "execution_count": 15,
   "id": "684861d6",
   "metadata": {},
   "outputs": [],
   "source": [
    "def split(x):\n",
    "    y=x.split(',')\n",
    "    return y"
   ]
  },
  {
   "cell_type": "markdown",
   "id": "e638353b",
   "metadata": {},
   "source": [
    "With this function a string would be separated into parts, where the separator element would be `,`.\n",
    "\n",
    "We apply this function to each string element of `last_and_name` to separate first names from last names (which are conveniently strings divided by a comma)."
   ]
  },
  {
   "cell_type": "code",
   "execution_count": 16,
   "id": "bea96069",
   "metadata": {},
   "outputs": [
    {
     "name": "stdout",
     "output_type": "stream",
     "text": [
      "[['CORNEJO SANCHEZ', ' CHRISTIAN SANTOS'], ['ORELLANA QUISPE', ' CRISTIAN NASSER'], ['MORALES CHOQUEHUANCA', ' ANGELICA KARINA'], ['GUIMARAY RIBEYRO', ' JOSE ROBERTO'], ['CAMACHO GAVIDIA', ' ABEL FERNANDO'], ['TINTAYA ORIHUELA', ' MEIR ALVARO'], ['CHAVEZ MARTINEZ', ' JOSELIN ALEXANDRA'], ['FIGUEROA MURO', ' LEONEL ARTURO'], ['GOMEZ CRIBILLERO', ' JOSE FELIPE'], ['PALOMINO SEGUÍN', ' AFRANIA'], ['LUZON CUEVA', ' BIANCA MARIETTE'], ['SUAÑA ZEGARRA', ' ADRIAN ANDRE'], ['SOTO POMACHAGUA', ' DORKAS YOMIRA JHERMY'], ['FIORENTINO MARTINEZ', ' LADY ALY'], ['LAMA MAVILA', ' HECTOR ANDRE'], ['MEZA HINOJO', ' GUSTAVO'], ['LOZADA MURILLO', ' PERSEO MARCELO'], ['ZAMBRANO JIMENEZ', ' MIGUEL ALONZO'], ['JACOBS LUQUE', ' NICOLAS'], ['VIDAL VIDAL', ' ROCIO GABRIELA'], ['TORRES ANICAMA', ' JANE CAMILA'], ['LOPEZ ESTRADA', ' MARIA ELISA'], ['BOYCO ORAMS', ' ALEJANDRO'], ['DIAZ BERROSPI', ' KARLINE ROSMELI'], ['RIEGA ESCALANTE', ' STEPHY ROSARIO'], ['LEVANO TORRES', ' VALERIA CECILIA'], ['ESQUIVES BRAVO', ' SEBASTIAN RENATO'], ['PEREZ GONZALES', ' JUAN CARLOS'], ['OTERO MAGUIÑA', ' MARIANA'], ['CLAVO CAMPOS', ' ANDREA BRIZETH'], ['AGUILAR GARCIA', ' ERICK JOSUE'], ['CALDAS VELASQUEZ', ' JOSUE DANIEL'], ['SALAS NUÑEZ BORJA', ' FABIO MANUEL'], ['PIZARRO VILLANES', ' FERNANDA NICOLLE'], ['QUILLATUPA MORALES', ' ANGELA ADELINA'], ['HUANCAYA IDONE', ' CESAR DANTE'], ['CALVO PORTOCARRERO', ' GABRIELA ISABEL'], ['IBAÑEZ ABANTO', ' ANGEL MAURICIO'], ['MELÉNDEZ APONTE', ' JUAN DIEGO'], ['CRISTIAN SERRANO', ' ARONE'], ['HINOJOSA CAHUANA', ' PERCY ALBERTH'], ['ANGLAS GARCÍA', ' KEVIN ARTURO'], ['ALDAVE ACOSTA', ' CESAR ERNESTO'], ['NÚÑEZ HUAMÁN', ' CÉSAR AGUSTO'], ['OBREGON HUAMAN', ' DIANA EDITH'], ['SOTO PACHERRES', ' RODRIGO FRANCO'], ['INGARUCA RIVERA', ' GRETTEL ALEXANDRA'], ['ROJAS HUAMAN', ' ROSA ANGELA'], ['NEYRA SALAS', ' DANTE OMAR'], ['HUERTA ESPINOZA', ' YAJAIRA ALEXANDRA'], ['HUANCA MARTINEZ', ' JORGE ALBERTO'], ['FLORES CADILLO', ' ALEXIS']]\n"
     ]
    }
   ],
   "source": [
    "last_and_name_1 = list(map(split,last_and_name))\n",
    "print(last_and_name_1)"
   ]
  },
  {
   "cell_type": "markdown",
   "id": "b8db5b62",
   "metadata": {},
   "source": [
    "However, we still get a single list. To create the two lists requested, we create the following two functions:"
   ]
  },
  {
   "cell_type": "code",
   "execution_count": 17,
   "id": "74ac4912",
   "metadata": {},
   "outputs": [],
   "source": [
    "def get_first(x):\n",
    "    y=x[0]\n",
    "    return y\n",
    "\n",
    "def get_second(x):\n",
    "    y=x[1]\n",
    "    return y"
   ]
  },
  {
   "cell_type": "markdown",
   "id": "1d62b524",
   "metadata": {},
   "source": [
    "The first function obtains the first element of the entered input. The second function obtains the second element of the entered input.\n",
    "\n",
    "We conveniently apply these functions to each list within the obtained list using the `map` function to obtain the required lists."
   ]
  },
  {
   "cell_type": "code",
   "execution_count": 18,
   "id": "5f2bf9bb",
   "metadata": {},
   "outputs": [
    {
     "name": "stdout",
     "output_type": "stream",
     "text": [
      "[' CHRISTIAN SANTOS', ' CRISTIAN NASSER', ' ANGELICA KARINA', ' JOSE ROBERTO', ' ABEL FERNANDO', ' MEIR ALVARO', ' JOSELIN ALEXANDRA', ' LEONEL ARTURO', ' JOSE FELIPE', ' AFRANIA', ' BIANCA MARIETTE', ' ADRIAN ANDRE', ' DORKAS YOMIRA JHERMY', ' LADY ALY', ' HECTOR ANDRE', ' GUSTAVO', ' PERSEO MARCELO', ' MIGUEL ALONZO', ' NICOLAS', ' ROCIO GABRIELA', ' JANE CAMILA', ' MARIA ELISA', ' ALEJANDRO', ' KARLINE ROSMELI', ' STEPHY ROSARIO', ' VALERIA CECILIA', ' SEBASTIAN RENATO', ' JUAN CARLOS', ' MARIANA', ' ANDREA BRIZETH', ' ERICK JOSUE', ' JOSUE DANIEL', ' FABIO MANUEL', ' FERNANDA NICOLLE', ' ANGELA ADELINA', ' CESAR DANTE', ' GABRIELA ISABEL', ' ANGEL MAURICIO', ' JUAN DIEGO', ' ARONE', ' PERCY ALBERTH', ' KEVIN ARTURO', ' CESAR ERNESTO', ' CÉSAR AGUSTO', ' DIANA EDITH', ' RODRIGO FRANCO', ' GRETTEL ALEXANDRA', ' ROSA ANGELA', ' DANTE OMAR', ' YAJAIRA ALEXANDRA', ' JORGE ALBERTO', ' ALEXIS']\n"
     ]
    }
   ],
   "source": [
    "names=list(map(get_second,last_and_name_1))    \n",
    "last_names=list(map(get_first,last_and_name_1))     \n",
    "\n",
    "print(names)"
   ]
  },
  {
   "cell_type": "markdown",
   "id": "ec806dab",
   "metadata": {},
   "source": [
    "You can see `names` only contains the first names."
   ]
  },
  {
   "cell_type": "code",
   "execution_count": 19,
   "id": "96fc1450",
   "metadata": {},
   "outputs": [
    {
     "name": "stdout",
     "output_type": "stream",
     "text": [
      "['CORNEJO SANCHEZ', 'ORELLANA QUISPE', 'MORALES CHOQUEHUANCA', 'GUIMARAY RIBEYRO', 'CAMACHO GAVIDIA', 'TINTAYA ORIHUELA', 'CHAVEZ MARTINEZ', 'FIGUEROA MURO', 'GOMEZ CRIBILLERO', 'PALOMINO SEGUÍN', 'LUZON CUEVA', 'SUAÑA ZEGARRA', 'SOTO POMACHAGUA', 'FIORENTINO MARTINEZ', 'LAMA MAVILA', 'MEZA HINOJO', 'LOZADA MURILLO', 'ZAMBRANO JIMENEZ', 'JACOBS LUQUE', 'VIDAL VIDAL', 'TORRES ANICAMA', 'LOPEZ ESTRADA', 'BOYCO ORAMS', 'DIAZ BERROSPI', 'RIEGA ESCALANTE', 'LEVANO TORRES', 'ESQUIVES BRAVO', 'PEREZ GONZALES', 'OTERO MAGUIÑA', 'CLAVO CAMPOS', 'AGUILAR GARCIA', 'CALDAS VELASQUEZ', 'SALAS NUÑEZ BORJA', 'PIZARRO VILLANES', 'QUILLATUPA MORALES', 'HUANCAYA IDONE', 'CALVO PORTOCARRERO', 'IBAÑEZ ABANTO', 'MELÉNDEZ APONTE', 'CRISTIAN SERRANO', 'HINOJOSA CAHUANA', 'ANGLAS GARCÍA', 'ALDAVE ACOSTA', 'NÚÑEZ HUAMÁN', 'OBREGON HUAMAN', 'SOTO PACHERRES', 'INGARUCA RIVERA', 'ROJAS HUAMAN', 'NEYRA SALAS', 'HUERTA ESPINOZA', 'HUANCA MARTINEZ', 'FLORES CADILLO']\n"
     ]
    }
   ],
   "source": [
    "print(last_names)"
   ]
  },
  {
   "cell_type": "markdown",
   "id": "07345a15",
   "metadata": {},
   "source": [
    "You can see `last_names` only contains the last names.\n",
    "\n",
    "8. Give only the last names of students who do not have email. Use the `emails` and `last_names` list. **Hint: Use `map` and `split`.**\n",
    "\n",
    "We define the following function:"
   ]
  },
  {
   "cell_type": "code",
   "execution_count": 20,
   "id": "dabce6bd",
   "metadata": {},
   "outputs": [],
   "source": [
    "def without_email(x):\n",
    "    y=x[0]==\"\"\n",
    "    return y"
   ]
  },
  {
   "cell_type": "markdown",
   "id": "ef7aa428",
   "metadata": {},
   "source": [
    "This function returns True when the first element of `x` is equal to `\"\"`, False otherwise.\n",
    "\n",
    "Now, with the `zip` function we join each last name with its respective email address in a tuple (it must be specified that `zip` joins into tuples each element of two lists that have the same numerical position or index). Then with the `filter` function we apply the `without_email` function to each created tuple. In this case `filter` will only keep those elements or tuples that have obtained True when applying the function introduced in the first argument. And let's remember that this function would only return True if the first element of the tuple (being the email) is equal to `\"\"`. Therefore, with this command we identify the tuples of those students who do not have an email address.\n",
    "\n",
    "Finally, to create the required list we collect the student's last name from the filtered tuples. For this we use the `map` function with which we apply the `get_second` function to each tuple (which we remember returns the second element of the entered input). In this way we collected the requested last names in the `last_names_without_email` list. With this we collect the last name contained in each tuple and then save it in the `last_names_without_email` list."
   ]
  },
  {
   "cell_type": "code",
   "execution_count": 21,
   "id": "5223f7fd",
   "metadata": {},
   "outputs": [
    {
     "name": "stdout",
     "output_type": "stream",
     "text": [
      "['HUANCAYA IDONE', 'CALVO PORTOCARRERO', 'IBAÑEZ ABANTO', 'MELÉNDEZ APONTE', 'CRISTIAN SERRANO', 'ANGLAS GARCÍA', 'ALDAVE ACOSTA', 'NÚÑEZ HUAMÁN', 'OBREGON HUAMAN', 'SOTO PACHERRES', 'INGARUCA RIVERA', 'ROJAS HUAMAN', 'NEYRA SALAS', 'HUERTA ESPINOZA', 'HUANCA MARTINEZ']\n"
     ]
    }
   ],
   "source": [
    "z=zip(emails,last_names)\n",
    "students_without_email = filter(without_email,z)\n",
    "\n",
    "last_names_without_email = list(map(get_second, students_without_email))\n",
    "\n",
    "print(last_names_without_email)"
   ]
  },
  {
   "cell_type": "markdown",
   "id": "1d024546",
   "metadata": {},
   "source": [
    "#### Question 1.3 - Strings\n",
    "\n",
    "Let the following data be provided by the problem:"
   ]
  },
  {
   "cell_type": "code",
   "execution_count": 22,
   "id": "e338454e",
   "metadata": {},
   "outputs": [],
   "source": [
    "str1 = 'I am                            too                                                        old'\n",
    "emails = [\"cscornejo@pucp.edu.pe\", \"orellana.cn@pucp.edu.pe\", \"karina.morales@pucp.edu.pe\", \"a20083223@pucp.pe\", \"abel.camacho@pucp.pe\", \"mtintaya@pucp.edu.pe\", \"joselin.chavez@pucp.edu.pe\", \"a20105737@pucp.pe\", \"jfgomezc@pucp.pe\", \"afrania.palomino@pucp.pe\", \"luzon.bianca@pucp.pe\", \"adrian.suanaz@pucp.pe\", \"soto.y@pucp.edu.pe\", \"a20132766@pucp.pe\", \"andre.lama@pucp.edu.pe\", \"gustavo.meza@pucp.edu.pe\", \"pmlozada@pucp.edu.pe\", \"m.zambranoj@pucp.edu.pe\", \"nicolas.jacobs@pucp.edu.pe\", \"gvidal@pucp.edu.pe\", \"jane.torres@pucp.edu.pe\", \"m.lopez@pucp.edu.pe\", \"alejandro.boyco@pucp.edu.pe\", \"a20167070@pucp.edu.pe\", \"riega.stephy@pucp.edu.pe\", \"vlevanot@pucp.edu.pe\", \"sesquives@pucp.edu.pe\", \"perez.juanc@pucp.edu.pe\", \"mariana.otero@pucp.edu.pe\", \"aclavo@pucp.edu.pe\", \"a20182474@pucp.edu.pe\", \"josue.caldas@pucp.edu.pe\", \"fabio.salas@pucp.edu.pe\", \"fernanda.pizarro@pucp.edu.pe\", \"aquillatupa@pucp.pe\"]"
   ]
  },
  {
   "cell_type": "markdown",
   "id": "866051e4",
   "metadata": {},
   "source": [
    "1. Drop the duplicated blank spaces in `str1`. Do not use the regular expresions. Do not use the code shown in class. Explain your steps.**Hint: Use `split` method and `join` function.**\n",
    "\n",
    "First we use the `split` function without specifying a specific separator."
   ]
  },
  {
   "cell_type": "code",
   "execution_count": 23,
   "id": "64a54615",
   "metadata": {},
   "outputs": [
    {
     "name": "stdout",
     "output_type": "stream",
     "text": [
      "['I', 'am', 'too', 'old']\n"
     ]
    }
   ],
   "source": [
    "str2=str1.split()\n",
    "print(str2)"
   ]
  },
  {
   "cell_type": "markdown",
   "id": "805b6744",
   "metadata": {},
   "source": [
    "Let's remember that with the `split` method we can collect the elements of a string divided by a specified separator into a list. If no separator is specified, by default all whitespaces are considered to be separators (as mentioned here: https://realpython.com/python-f-strings/).\n",
    "\n",
    "Now with the `join` function we create a single string in which each element is separated by only one whitespace."
   ]
  },
  {
   "cell_type": "code",
   "execution_count": 24,
   "id": "8e153e83",
   "metadata": {},
   "outputs": [
    {
     "data": {
      "text/plain": [
       "'I am too old'"
      ]
     },
     "execution_count": 24,
     "metadata": {},
     "output_type": "execute_result"
    }
   ],
   "source": [
    "\" \".join(str2)"
   ]
  },
  {
   "cell_type": "markdown",
   "id": "94c91c6a",
   "metadata": {},
   "source": [
    "2. Get the number of letters in the string .**Hint: Use `len`function.**\n",
    "\n",
    "Using the `map` function we apply the `len` function to each string collected in string2 (which only contains the words with letters from the original string). Then with the `sum` function we add the sizes obtained from each string collected in the list `l0` and thus obtain the total number of letters of the original string."
   ]
  },
  {
   "cell_type": "code",
   "execution_count": 25,
   "id": "ed74b522",
   "metadata": {},
   "outputs": [
    {
     "name": "stdout",
     "output_type": "stream",
     "text": [
      "9\n"
     ]
    }
   ],
   "source": [
    "l0=list(map(len,str2))\n",
    "\n",
    "letters=sum(l0)\n",
    "print(letters)"
   ]
  },
  {
   "cell_type": "markdown",
   "id": "7416105f",
   "metadata": {},
   "source": [
    "3. Get the number of blank spaces (all of them) in the string .**Hint: Use `len`function.**\n",
    "\n",
    "In this case we obtain the total number of strings contained in the original string using the `len` function on `str1`. Then we subtract this number from the number of letters found (or strings that are not whitespaces) and in this simple way we would obtain the total number of whitespaces of the original string."
   ]
  },
  {
   "cell_type": "code",
   "execution_count": 26,
   "id": "4a38e971",
   "metadata": {},
   "outputs": [
    {
     "name": "stdout",
     "output_type": "stream",
     "text": [
      "85\n"
     ]
    }
   ],
   "source": [
    "n0=len(str1)\n",
    "n1=n0-letters\n",
    "print(n1)"
   ]
  },
  {
   "cell_type": "markdown",
   "id": "0fb6cba7",
   "metadata": {},
   "source": [
    "4. Get the position of `@` in each string in the emails list. **Hint: Use `map`function and `find` method.**\n",
    "\n",
    "We define the function `position1` which returns the position of `@` of a given string. Then with the map function we apply this function to each string contained in the `emails` list. And by applying the `list` function we would collect the positions found for each string in a list."
   ]
  },
  {
   "cell_type": "code",
   "execution_count": 27,
   "id": "6463559e",
   "metadata": {},
   "outputs": [
    {
     "name": "stdout",
     "output_type": "stream",
     "text": [
      "[9, 11, 14, 9, 12, 8, 14, 9, 8, 16, 12, 13, 6, 9, 10, 12, 8, 11, 14, 6, 11, 7, 15, 9, 12, 8, 9, 11, 13, 6, 9, 12, 11, 16, 11]\n"
     ]
    }
   ],
   "source": [
    "def position1(x):\n",
    "    y=x.find('@')\n",
    "    return y\n",
    "\n",
    "l1=list(map(position1,emails))\n",
    "print(l1)"
   ]
  },
  {
   "cell_type": "markdown",
   "id": "750dcba5",
   "metadata": {},
   "source": [
    "5. Identifies if exists `.edu.`  in each string in the `emails` list. Get a list of Booleans. **Hint: Use `map` function and `find` method.**\n",
    "\n",
    "We define the function `position2` which returns True if `.edu` exists within the given string, False otherwise. Greater detail of its configuration is presented in the code."
   ]
  },
  {
   "cell_type": "code",
   "execution_count": 28,
   "id": "54e2d1fa",
   "metadata": {},
   "outputs": [],
   "source": [
    "def position2(x):\n",
    "    y=x.find('.edu.') # With this is the position of '.edu'. If not found, then -1 is returned.\n",
    "    z=y==-1 # z will be true if y is equal to -1, it will be false otherwise.\n",
    "    return z \n",
    "# Therefore, if \".edu\" is not found in the provided string, the function will return True. It will return False otherwise."
   ]
  },
  {
   "cell_type": "markdown",
   "id": "523a5632",
   "metadata": {},
   "source": [
    "We apply the created function to each string of `emails` using the `map` function. In this way, the required list of booleans is obtained, which is True in the positions where the email does have `.edu`, and is False in the positions where the opposite is true."
   ]
  },
  {
   "cell_type": "code",
   "execution_count": 29,
   "id": "fc6acbd8",
   "metadata": {},
   "outputs": [],
   "source": [
    "l2=list(map(position2,emails))"
   ]
  },
  {
   "cell_type": "markdown",
   "id": "ef02643f",
   "metadata": {},
   "source": [
    "6. Get all the strings before the first dot `.` in each string in the `emails` list. Identifies how many of them has `@`. **Hint: Use `map` function and `find` method.**\n",
    "\n",
    "We create the function `dot1` which collects all the strings before the first dot. We then apply this function to each `emails`'s string using the `map` function to obtain the required strings."
   ]
  },
  {
   "cell_type": "code",
   "execution_count": 30,
   "id": "f64fdea1",
   "metadata": {},
   "outputs": [
    {
     "name": "stdout",
     "output_type": "stream",
     "text": [
      "['cscornejo@pucp', 'orellana', 'karina', 'a20083223@pucp', 'abel', 'mtintaya@pucp', 'joselin', 'a20105737@pucp', 'jfgomezc@pucp', 'afrania', 'luzon', 'adrian', 'soto', 'a20132766@pucp', 'andre', 'gustavo', 'pmlozada@pucp', 'm', 'nicolas', 'gvidal@pucp', 'jane', 'm', 'alejandro', 'a20167070@pucp', 'riega', 'vlevanot@pucp', 'sesquives@pucp', 'perez', 'mariana', 'aclavo@pucp', 'a20182474@pucp', 'josue', 'fabio', 'fernanda', 'aquillatupa@pucp']\n"
     ]
    }
   ],
   "source": [
    "def dot1(x):\n",
    "    y=x[0:x.find('.')] # x.find('.') It will be equal to the number of the position where the first dot is located. In this way all the strings are obtained up to the first dot found.\n",
    "    return y\n",
    "\n",
    "l4=list(map(dot1,emails))\n",
    "print(l4)"
   ]
  },
  {
   "cell_type": "markdown",
   "id": "35616439",
   "metadata": {},
   "source": [
    "Now the function `dot2` is defined, which returns True if `@` is found in the provided string, False otherwise. Greater detail of its configuration is specified in the lines of code.\n",
    "\n",
    "Then with the `map` function we apply the `dot2` function to each of the strings obtained previously. In this way we obtain a list of booleans that have True in the positions where `@` was found in the provided string, False otherwise."
   ]
  },
  {
   "cell_type": "code",
   "execution_count": 31,
   "id": "6adef86e",
   "metadata": {},
   "outputs": [
    {
     "name": "stdout",
     "output_type": "stream",
     "text": [
      "[True, False, False, True, False, True, False, True, True, False, False, False, False, True, False, False, True, False, False, True, False, False, False, True, False, True, True, False, False, True, True, False, False, False, True]\n"
     ]
    }
   ],
   "source": [
    "def dot2(x):\n",
    "    y=x.find('@') # With this y is equal to the position where '@' is located. Returns -1 if '@' is not found.\n",
    "    z=y!=-1 # With this z is True if and not equal to -1, False otherwise.\n",
    "    return z\n",
    "\n",
    "# So z will be True as long as '@' has been found since y is different from -1.\n",
    "\n",
    "l5=list(map(dot2,l4))\n",
    "print(l5)"
   ]
  },
  {
   "cell_type": "markdown",
   "id": "db98d0bb",
   "metadata": {},
   "source": [
    "Now, we add all the elements of the found boolean list using the `sum` function. Let's remember that True elements are equal to 1 and False elements are equal to 0. So, adding everything together would give us the total number of strings that contain `@` up to before the first dot."
   ]
  },
  {
   "cell_type": "code",
   "execution_count": 32,
   "id": "fe83fb02",
   "metadata": {},
   "outputs": [
    {
     "name": "stdout",
     "output_type": "stream",
     "text": [
      "14\n"
     ]
    }
   ],
   "source": [
    "n2=sum(l5)\n",
    "print(n2)"
   ]
  },
  {
   "cell_type": "markdown",
   "id": "ce0050c3",
   "metadata": {},
   "source": [
    "#### Question 1.4 - Pandas\n",
    "\n",
    "1. Load Data:\n",
    "   Load the financial data available at this URL:    https://raw.githubusercontent.com/datasets/finance-vix/main/data/vix-daily.csv\n",
    "   Use `pd.read_csv()` and the link to load the data into a DataFrame.\n",
    "   \n",
    "We can do this simply with the following line of code."
   ]
  },
  {
   "cell_type": "code",
   "execution_count": 33,
   "id": "2fef8d25",
   "metadata": {},
   "outputs": [],
   "source": [
    "df=pd.read_csv(r'https://raw.githubusercontent.com/datasets/finance-vix/main/data/vix-daily.csv')"
   ]
  },
  {
   "cell_type": "markdown",
   "id": "582221a3",
   "metadata": {},
   "source": [
    "It can be seen that the imported DataFrame is the following:"
   ]
  },
  {
   "cell_type": "code",
   "execution_count": 34,
   "id": "d993c81e",
   "metadata": {},
   "outputs": [
    {
     "data": {
      "text/html": [
       "<div>\n",
       "<style scoped>\n",
       "    .dataframe tbody tr th:only-of-type {\n",
       "        vertical-align: middle;\n",
       "    }\n",
       "\n",
       "    .dataframe tbody tr th {\n",
       "        vertical-align: top;\n",
       "    }\n",
       "\n",
       "    .dataframe thead th {\n",
       "        text-align: right;\n",
       "    }\n",
       "</style>\n",
       "<table border=\"1\" class=\"dataframe\">\n",
       "  <thead>\n",
       "    <tr style=\"text-align: right;\">\n",
       "      <th></th>\n",
       "      <th>DATE</th>\n",
       "      <th>OPEN</th>\n",
       "      <th>HIGH</th>\n",
       "      <th>LOW</th>\n",
       "      <th>CLOSE</th>\n",
       "    </tr>\n",
       "  </thead>\n",
       "  <tbody>\n",
       "    <tr>\n",
       "      <th>0</th>\n",
       "      <td>01/02/1990</td>\n",
       "      <td>17.24</td>\n",
       "      <td>17.24</td>\n",
       "      <td>17.24</td>\n",
       "      <td>17.24</td>\n",
       "    </tr>\n",
       "    <tr>\n",
       "      <th>1</th>\n",
       "      <td>01/03/1990</td>\n",
       "      <td>18.19</td>\n",
       "      <td>18.19</td>\n",
       "      <td>18.19</td>\n",
       "      <td>18.19</td>\n",
       "    </tr>\n",
       "    <tr>\n",
       "      <th>2</th>\n",
       "      <td>01/04/1990</td>\n",
       "      <td>19.22</td>\n",
       "      <td>19.22</td>\n",
       "      <td>19.22</td>\n",
       "      <td>19.22</td>\n",
       "    </tr>\n",
       "    <tr>\n",
       "      <th>3</th>\n",
       "      <td>01/05/1990</td>\n",
       "      <td>20.11</td>\n",
       "      <td>20.11</td>\n",
       "      <td>20.11</td>\n",
       "      <td>20.11</td>\n",
       "    </tr>\n",
       "    <tr>\n",
       "      <th>4</th>\n",
       "      <td>01/08/1990</td>\n",
       "      <td>20.26</td>\n",
       "      <td>20.26</td>\n",
       "      <td>20.26</td>\n",
       "      <td>20.26</td>\n",
       "    </tr>\n",
       "    <tr>\n",
       "      <th>...</th>\n",
       "      <td>...</td>\n",
       "      <td>...</td>\n",
       "      <td>...</td>\n",
       "      <td>...</td>\n",
       "      <td>...</td>\n",
       "    </tr>\n",
       "    <tr>\n",
       "      <th>8572</th>\n",
       "      <td>12/29/2023</td>\n",
       "      <td>12.55</td>\n",
       "      <td>13.19</td>\n",
       "      <td>12.36</td>\n",
       "      <td>12.45</td>\n",
       "    </tr>\n",
       "    <tr>\n",
       "      <th>8573</th>\n",
       "      <td>01/02/2024</td>\n",
       "      <td>13.22</td>\n",
       "      <td>14.23</td>\n",
       "      <td>13.10</td>\n",
       "      <td>13.20</td>\n",
       "    </tr>\n",
       "    <tr>\n",
       "      <th>8574</th>\n",
       "      <td>01/03/2024</td>\n",
       "      <td>13.35</td>\n",
       "      <td>14.22</td>\n",
       "      <td>13.33</td>\n",
       "      <td>14.04</td>\n",
       "    </tr>\n",
       "    <tr>\n",
       "      <th>8575</th>\n",
       "      <td>01/04/2024</td>\n",
       "      <td>13.93</td>\n",
       "      <td>14.20</td>\n",
       "      <td>13.64</td>\n",
       "      <td>14.13</td>\n",
       "    </tr>\n",
       "    <tr>\n",
       "      <th>8576</th>\n",
       "      <td>01/05/2024</td>\n",
       "      <td>14.24</td>\n",
       "      <td>14.58</td>\n",
       "      <td>13.29</td>\n",
       "      <td>13.35</td>\n",
       "    </tr>\n",
       "  </tbody>\n",
       "</table>\n",
       "<p>8577 rows × 5 columns</p>\n",
       "</div>"
      ],
      "text/plain": [
       "            DATE   OPEN   HIGH    LOW  CLOSE\n",
       "0     01/02/1990  17.24  17.24  17.24  17.24\n",
       "1     01/03/1990  18.19  18.19  18.19  18.19\n",
       "2     01/04/1990  19.22  19.22  19.22  19.22\n",
       "3     01/05/1990  20.11  20.11  20.11  20.11\n",
       "4     01/08/1990  20.26  20.26  20.26  20.26\n",
       "...          ...    ...    ...    ...    ...\n",
       "8572  12/29/2023  12.55  13.19  12.36  12.45\n",
       "8573  01/02/2024  13.22  14.23  13.10  13.20\n",
       "8574  01/03/2024  13.35  14.22  13.33  14.04\n",
       "8575  01/04/2024  13.93  14.20  13.64  14.13\n",
       "8576  01/05/2024  14.24  14.58  13.29  13.35\n",
       "\n",
       "[8577 rows x 5 columns]"
      ]
     },
     "execution_count": 34,
     "metadata": {},
     "output_type": "execute_result"
    }
   ],
   "source": [
    "df"
   ]
  },
  {
   "cell_type": "markdown",
   "id": "45c955d7",
   "metadata": {},
   "source": [
    "2. Explore Data:\n",
    "   a) Display the first five rows of the DataFrame.\n",
    "   b) Display the summary statistics of the DataFrame.\n",
    "\n",
    "To display only the first five rows of the DataFrame we use the `head` method as follows:"
   ]
  },
  {
   "cell_type": "code",
   "execution_count": 35,
   "id": "27972a76",
   "metadata": {},
   "outputs": [
    {
     "data": {
      "text/html": [
       "<div>\n",
       "<style scoped>\n",
       "    .dataframe tbody tr th:only-of-type {\n",
       "        vertical-align: middle;\n",
       "    }\n",
       "\n",
       "    .dataframe tbody tr th {\n",
       "        vertical-align: top;\n",
       "    }\n",
       "\n",
       "    .dataframe thead th {\n",
       "        text-align: right;\n",
       "    }\n",
       "</style>\n",
       "<table border=\"1\" class=\"dataframe\">\n",
       "  <thead>\n",
       "    <tr style=\"text-align: right;\">\n",
       "      <th></th>\n",
       "      <th>DATE</th>\n",
       "      <th>OPEN</th>\n",
       "      <th>HIGH</th>\n",
       "      <th>LOW</th>\n",
       "      <th>CLOSE</th>\n",
       "    </tr>\n",
       "  </thead>\n",
       "  <tbody>\n",
       "    <tr>\n",
       "      <th>0</th>\n",
       "      <td>01/02/1990</td>\n",
       "      <td>17.24</td>\n",
       "      <td>17.24</td>\n",
       "      <td>17.24</td>\n",
       "      <td>17.24</td>\n",
       "    </tr>\n",
       "    <tr>\n",
       "      <th>1</th>\n",
       "      <td>01/03/1990</td>\n",
       "      <td>18.19</td>\n",
       "      <td>18.19</td>\n",
       "      <td>18.19</td>\n",
       "      <td>18.19</td>\n",
       "    </tr>\n",
       "    <tr>\n",
       "      <th>2</th>\n",
       "      <td>01/04/1990</td>\n",
       "      <td>19.22</td>\n",
       "      <td>19.22</td>\n",
       "      <td>19.22</td>\n",
       "      <td>19.22</td>\n",
       "    </tr>\n",
       "    <tr>\n",
       "      <th>3</th>\n",
       "      <td>01/05/1990</td>\n",
       "      <td>20.11</td>\n",
       "      <td>20.11</td>\n",
       "      <td>20.11</td>\n",
       "      <td>20.11</td>\n",
       "    </tr>\n",
       "    <tr>\n",
       "      <th>4</th>\n",
       "      <td>01/08/1990</td>\n",
       "      <td>20.26</td>\n",
       "      <td>20.26</td>\n",
       "      <td>20.26</td>\n",
       "      <td>20.26</td>\n",
       "    </tr>\n",
       "  </tbody>\n",
       "</table>\n",
       "</div>"
      ],
      "text/plain": [
       "         DATE   OPEN   HIGH    LOW  CLOSE\n",
       "0  01/02/1990  17.24  17.24  17.24  17.24\n",
       "1  01/03/1990  18.19  18.19  18.19  18.19\n",
       "2  01/04/1990  19.22  19.22  19.22  19.22\n",
       "3  01/05/1990  20.11  20.11  20.11  20.11\n",
       "4  01/08/1990  20.26  20.26  20.26  20.26"
      ]
     },
     "execution_count": 35,
     "metadata": {},
     "output_type": "execute_result"
    }
   ],
   "source": [
    "df.head(5)"
   ]
  },
  {
   "cell_type": "markdown",
   "id": "eec25716",
   "metadata": {},
   "source": [
    "To display a statistical summary we use the `describe` method as follows:"
   ]
  },
  {
   "cell_type": "code",
   "execution_count": 36,
   "id": "acf43ea9",
   "metadata": {},
   "outputs": [
    {
     "data": {
      "text/html": [
       "<div>\n",
       "<style scoped>\n",
       "    .dataframe tbody tr th:only-of-type {\n",
       "        vertical-align: middle;\n",
       "    }\n",
       "\n",
       "    .dataframe tbody tr th {\n",
       "        vertical-align: top;\n",
       "    }\n",
       "\n",
       "    .dataframe thead th {\n",
       "        text-align: right;\n",
       "    }\n",
       "</style>\n",
       "<table border=\"1\" class=\"dataframe\">\n",
       "  <thead>\n",
       "    <tr style=\"text-align: right;\">\n",
       "      <th></th>\n",
       "      <th>OPEN</th>\n",
       "      <th>HIGH</th>\n",
       "      <th>LOW</th>\n",
       "      <th>CLOSE</th>\n",
       "    </tr>\n",
       "  </thead>\n",
       "  <tbody>\n",
       "    <tr>\n",
       "      <th>count</th>\n",
       "      <td>8577.000000</td>\n",
       "      <td>8577.000000</td>\n",
       "      <td>8577.000000</td>\n",
       "      <td>8577.000000</td>\n",
       "    </tr>\n",
       "    <tr>\n",
       "      <th>mean</th>\n",
       "      <td>19.666454</td>\n",
       "      <td>20.474364</td>\n",
       "      <td>18.914884</td>\n",
       "      <td>19.580374</td>\n",
       "    </tr>\n",
       "    <tr>\n",
       "      <th>std</th>\n",
       "      <td>7.979066</td>\n",
       "      <td>8.439927</td>\n",
       "      <td>7.469827</td>\n",
       "      <td>7.906214</td>\n",
       "    </tr>\n",
       "    <tr>\n",
       "      <th>min</th>\n",
       "      <td>9.010000</td>\n",
       "      <td>9.310000</td>\n",
       "      <td>8.560000</td>\n",
       "      <td>9.140000</td>\n",
       "    </tr>\n",
       "    <tr>\n",
       "      <th>25%</th>\n",
       "      <td>13.940000</td>\n",
       "      <td>14.540000</td>\n",
       "      <td>13.400000</td>\n",
       "      <td>13.880000</td>\n",
       "    </tr>\n",
       "    <tr>\n",
       "      <th>50%</th>\n",
       "      <td>17.790000</td>\n",
       "      <td>18.470000</td>\n",
       "      <td>17.220000</td>\n",
       "      <td>17.760000</td>\n",
       "    </tr>\n",
       "    <tr>\n",
       "      <th>75%</th>\n",
       "      <td>23.100000</td>\n",
       "      <td>23.960000</td>\n",
       "      <td>22.320000</td>\n",
       "      <td>22.990000</td>\n",
       "    </tr>\n",
       "    <tr>\n",
       "      <th>max</th>\n",
       "      <td>82.690000</td>\n",
       "      <td>89.530000</td>\n",
       "      <td>72.760000</td>\n",
       "      <td>82.690000</td>\n",
       "    </tr>\n",
       "  </tbody>\n",
       "</table>\n",
       "</div>"
      ],
      "text/plain": [
       "              OPEN         HIGH          LOW        CLOSE\n",
       "count  8577.000000  8577.000000  8577.000000  8577.000000\n",
       "mean     19.666454    20.474364    18.914884    19.580374\n",
       "std       7.979066     8.439927     7.469827     7.906214\n",
       "min       9.010000     9.310000     8.560000     9.140000\n",
       "25%      13.940000    14.540000    13.400000    13.880000\n",
       "50%      17.790000    18.470000    17.220000    17.760000\n",
       "75%      23.100000    23.960000    22.320000    22.990000\n",
       "max      82.690000    89.530000    72.760000    82.690000"
      ]
     },
     "execution_count": 36,
     "metadata": {},
     "output_type": "execute_result"
    }
   ],
   "source": [
    "df.describe()"
   ]
  },
  {
   "cell_type": "markdown",
   "id": "73f7645c",
   "metadata": {},
   "source": [
    "3. Add Columns:\n",
    "   a) Add a new column 'Level' that categorizes the 'Close' column values into 'Low' (< 20), 'Medium' (20-30), and 'High' (>30). You need to make a filter to make this categorization. You can see below some suggestions how to do it.\n",
    "   b) Add a new column 'Year' extracted from the 'Date' column. You need to work with dates. You can do it directly workiwith the column splitting it or changing it to date format an dfollowing the below suggestion. \n",
    "   \n",
    "We can use `pd.cut` as follows:"
   ]
  },
  {
   "cell_type": "code",
   "execution_count": 37,
   "id": "93224951",
   "metadata": {},
   "outputs": [],
   "source": [
    "bins = [0, 20, 30, float('inf')]\n",
    "labels = ['Low', 'Medium', 'High']\n",
    "\n",
    "df['LEVEL']=pd.cut(df['CLOSE'],bins=bins,labels=labels)"
   ]
  },
  {
   "cell_type": "markdown",
   "id": "f9aff5ab",
   "metadata": {},
   "source": [
    "The breakpoints of the classifier interval are specified in the `bins` list. The first interval is from 0 to 20, the second is from 20 to 30, and the last is from 30 onwards. The values of `df['CLOSE']` that are in the first interval will be classified within it and the same happens with the other values in other intervals. Finally, `Low` will be placed as a label if the observation was placed in the first interval, `Medium` if the observation was placed in the second interval, and `High` if the observation was placed in the last interval. This creates the required column called `LEVEL` (which is created using `df['LEVEL']=`). You can see it created in the following line:"
   ]
  },
  {
   "cell_type": "code",
   "execution_count": 38,
   "id": "b1c197c0",
   "metadata": {},
   "outputs": [
    {
     "data": {
      "text/html": [
       "<div>\n",
       "<style scoped>\n",
       "    .dataframe tbody tr th:only-of-type {\n",
       "        vertical-align: middle;\n",
       "    }\n",
       "\n",
       "    .dataframe tbody tr th {\n",
       "        vertical-align: top;\n",
       "    }\n",
       "\n",
       "    .dataframe thead th {\n",
       "        text-align: right;\n",
       "    }\n",
       "</style>\n",
       "<table border=\"1\" class=\"dataframe\">\n",
       "  <thead>\n",
       "    <tr style=\"text-align: right;\">\n",
       "      <th></th>\n",
       "      <th>DATE</th>\n",
       "      <th>OPEN</th>\n",
       "      <th>HIGH</th>\n",
       "      <th>LOW</th>\n",
       "      <th>CLOSE</th>\n",
       "      <th>LEVEL</th>\n",
       "    </tr>\n",
       "  </thead>\n",
       "  <tbody>\n",
       "    <tr>\n",
       "      <th>0</th>\n",
       "      <td>01/02/1990</td>\n",
       "      <td>17.24</td>\n",
       "      <td>17.24</td>\n",
       "      <td>17.24</td>\n",
       "      <td>17.24</td>\n",
       "      <td>Low</td>\n",
       "    </tr>\n",
       "    <tr>\n",
       "      <th>1</th>\n",
       "      <td>01/03/1990</td>\n",
       "      <td>18.19</td>\n",
       "      <td>18.19</td>\n",
       "      <td>18.19</td>\n",
       "      <td>18.19</td>\n",
       "      <td>Low</td>\n",
       "    </tr>\n",
       "    <tr>\n",
       "      <th>2</th>\n",
       "      <td>01/04/1990</td>\n",
       "      <td>19.22</td>\n",
       "      <td>19.22</td>\n",
       "      <td>19.22</td>\n",
       "      <td>19.22</td>\n",
       "      <td>Low</td>\n",
       "    </tr>\n",
       "    <tr>\n",
       "      <th>3</th>\n",
       "      <td>01/05/1990</td>\n",
       "      <td>20.11</td>\n",
       "      <td>20.11</td>\n",
       "      <td>20.11</td>\n",
       "      <td>20.11</td>\n",
       "      <td>Medium</td>\n",
       "    </tr>\n",
       "    <tr>\n",
       "      <th>4</th>\n",
       "      <td>01/08/1990</td>\n",
       "      <td>20.26</td>\n",
       "      <td>20.26</td>\n",
       "      <td>20.26</td>\n",
       "      <td>20.26</td>\n",
       "      <td>Medium</td>\n",
       "    </tr>\n",
       "    <tr>\n",
       "      <th>...</th>\n",
       "      <td>...</td>\n",
       "      <td>...</td>\n",
       "      <td>...</td>\n",
       "      <td>...</td>\n",
       "      <td>...</td>\n",
       "      <td>...</td>\n",
       "    </tr>\n",
       "    <tr>\n",
       "      <th>8572</th>\n",
       "      <td>12/29/2023</td>\n",
       "      <td>12.55</td>\n",
       "      <td>13.19</td>\n",
       "      <td>12.36</td>\n",
       "      <td>12.45</td>\n",
       "      <td>Low</td>\n",
       "    </tr>\n",
       "    <tr>\n",
       "      <th>8573</th>\n",
       "      <td>01/02/2024</td>\n",
       "      <td>13.22</td>\n",
       "      <td>14.23</td>\n",
       "      <td>13.10</td>\n",
       "      <td>13.20</td>\n",
       "      <td>Low</td>\n",
       "    </tr>\n",
       "    <tr>\n",
       "      <th>8574</th>\n",
       "      <td>01/03/2024</td>\n",
       "      <td>13.35</td>\n",
       "      <td>14.22</td>\n",
       "      <td>13.33</td>\n",
       "      <td>14.04</td>\n",
       "      <td>Low</td>\n",
       "    </tr>\n",
       "    <tr>\n",
       "      <th>8575</th>\n",
       "      <td>01/04/2024</td>\n",
       "      <td>13.93</td>\n",
       "      <td>14.20</td>\n",
       "      <td>13.64</td>\n",
       "      <td>14.13</td>\n",
       "      <td>Low</td>\n",
       "    </tr>\n",
       "    <tr>\n",
       "      <th>8576</th>\n",
       "      <td>01/05/2024</td>\n",
       "      <td>14.24</td>\n",
       "      <td>14.58</td>\n",
       "      <td>13.29</td>\n",
       "      <td>13.35</td>\n",
       "      <td>Low</td>\n",
       "    </tr>\n",
       "  </tbody>\n",
       "</table>\n",
       "<p>8577 rows × 6 columns</p>\n",
       "</div>"
      ],
      "text/plain": [
       "            DATE   OPEN   HIGH    LOW  CLOSE   LEVEL\n",
       "0     01/02/1990  17.24  17.24  17.24  17.24     Low\n",
       "1     01/03/1990  18.19  18.19  18.19  18.19     Low\n",
       "2     01/04/1990  19.22  19.22  19.22  19.22     Low\n",
       "3     01/05/1990  20.11  20.11  20.11  20.11  Medium\n",
       "4     01/08/1990  20.26  20.26  20.26  20.26  Medium\n",
       "...          ...    ...    ...    ...    ...     ...\n",
       "8572  12/29/2023  12.55  13.19  12.36  12.45     Low\n",
       "8573  01/02/2024  13.22  14.23  13.10  13.20     Low\n",
       "8574  01/03/2024  13.35  14.22  13.33  14.04     Low\n",
       "8575  01/04/2024  13.93  14.20  13.64  14.13     Low\n",
       "8576  01/05/2024  14.24  14.58  13.29  13.35     Low\n",
       "\n",
       "[8577 rows x 6 columns]"
      ]
     },
     "execution_count": 38,
     "metadata": {},
     "output_type": "execute_result"
    }
   ],
   "source": [
    "df"
   ]
  },
  {
   "cell_type": "markdown",
   "id": "507c678c",
   "metadata": {},
   "source": [
    "Now, to create the requested year column, we first obtain a series in datetime format with the following command:"
   ]
  },
  {
   "cell_type": "code",
   "execution_count": 39,
   "id": "70cc11a4",
   "metadata": {},
   "outputs": [],
   "source": [
    "serie1=pd.to_datetime(df['DATE'])"
   ]
  },
  {
   "cell_type": "markdown",
   "id": "e8dee218",
   "metadata": {},
   "source": [
    "Series1 contains in datetime format the string dates contained in `df['DATE']`\n",
    "\n",
    "Now we extract the year from each date with `dt.year`"
   ]
  },
  {
   "cell_type": "code",
   "execution_count": 40,
   "id": "1a0bec82",
   "metadata": {},
   "outputs": [],
   "source": [
    "serie2=serie1.dt.year"
   ]
  },
  {
   "cell_type": "markdown",
   "id": "f1c3cd9c",
   "metadata": {},
   "source": [
    "And finally we create the required column using the years obtained."
   ]
  },
  {
   "cell_type": "code",
   "execution_count": 41,
   "id": "90c94983",
   "metadata": {},
   "outputs": [],
   "source": [
    "df['YEAR']=serie2"
   ]
  },
  {
   "cell_type": "markdown",
   "id": "20a9f5e9",
   "metadata": {},
   "source": [
    "4. Add Rows:\n",
    "   a) Add a new row with a date of your choice and fill the other columns with appropriate values. \n",
    "\n",
    "First we look at the end of the DataFrame:"
   ]
  },
  {
   "cell_type": "code",
   "execution_count": 42,
   "id": "4ddc9c4d",
   "metadata": {},
   "outputs": [
    {
     "data": {
      "text/html": [
       "<div>\n",
       "<style scoped>\n",
       "    .dataframe tbody tr th:only-of-type {\n",
       "        vertical-align: middle;\n",
       "    }\n",
       "\n",
       "    .dataframe tbody tr th {\n",
       "        vertical-align: top;\n",
       "    }\n",
       "\n",
       "    .dataframe thead th {\n",
       "        text-align: right;\n",
       "    }\n",
       "</style>\n",
       "<table border=\"1\" class=\"dataframe\">\n",
       "  <thead>\n",
       "    <tr style=\"text-align: right;\">\n",
       "      <th></th>\n",
       "      <th>DATE</th>\n",
       "      <th>OPEN</th>\n",
       "      <th>HIGH</th>\n",
       "      <th>LOW</th>\n",
       "      <th>CLOSE</th>\n",
       "      <th>LEVEL</th>\n",
       "      <th>YEAR</th>\n",
       "    </tr>\n",
       "  </thead>\n",
       "  <tbody>\n",
       "    <tr>\n",
       "      <th>8572</th>\n",
       "      <td>12/29/2023</td>\n",
       "      <td>12.55</td>\n",
       "      <td>13.19</td>\n",
       "      <td>12.36</td>\n",
       "      <td>12.45</td>\n",
       "      <td>Low</td>\n",
       "      <td>2023</td>\n",
       "    </tr>\n",
       "    <tr>\n",
       "      <th>8573</th>\n",
       "      <td>01/02/2024</td>\n",
       "      <td>13.22</td>\n",
       "      <td>14.23</td>\n",
       "      <td>13.10</td>\n",
       "      <td>13.20</td>\n",
       "      <td>Low</td>\n",
       "      <td>2024</td>\n",
       "    </tr>\n",
       "    <tr>\n",
       "      <th>8574</th>\n",
       "      <td>01/03/2024</td>\n",
       "      <td>13.35</td>\n",
       "      <td>14.22</td>\n",
       "      <td>13.33</td>\n",
       "      <td>14.04</td>\n",
       "      <td>Low</td>\n",
       "      <td>2024</td>\n",
       "    </tr>\n",
       "    <tr>\n",
       "      <th>8575</th>\n",
       "      <td>01/04/2024</td>\n",
       "      <td>13.93</td>\n",
       "      <td>14.20</td>\n",
       "      <td>13.64</td>\n",
       "      <td>14.13</td>\n",
       "      <td>Low</td>\n",
       "      <td>2024</td>\n",
       "    </tr>\n",
       "    <tr>\n",
       "      <th>8576</th>\n",
       "      <td>01/05/2024</td>\n",
       "      <td>14.24</td>\n",
       "      <td>14.58</td>\n",
       "      <td>13.29</td>\n",
       "      <td>13.35</td>\n",
       "      <td>Low</td>\n",
       "      <td>2024</td>\n",
       "    </tr>\n",
       "  </tbody>\n",
       "</table>\n",
       "</div>"
      ],
      "text/plain": [
       "            DATE   OPEN   HIGH    LOW  CLOSE LEVEL  YEAR\n",
       "8572  12/29/2023  12.55  13.19  12.36  12.45   Low  2023\n",
       "8573  01/02/2024  13.22  14.23  13.10  13.20   Low  2024\n",
       "8574  01/03/2024  13.35  14.22  13.33  14.04   Low  2024\n",
       "8575  01/04/2024  13.93  14.20  13.64  14.13   Low  2024\n",
       "8576  01/05/2024  14.24  14.58  13.29  13.35   Low  2024"
      ]
     },
     "execution_count": 42,
     "metadata": {},
     "output_type": "execute_result"
    }
   ],
   "source": [
    "df.tail()"
   ]
  },
  {
   "cell_type": "markdown",
   "id": "4c4eb15c",
   "metadata": {},
   "source": [
    "We then create the following dictionary using values close to the last observation."
   ]
  },
  {
   "cell_type": "code",
   "execution_count": 43,
   "id": "c5cd0046",
   "metadata": {},
   "outputs": [],
   "source": [
    "t=pd.Series(pd.to_datetime('01/06/2024')).dt.year # With this we extract the year from the date that we assign to this observation that we want to add.\n",
    "\n",
    "r={'DATE':'01/06/2024','OPEN':[14],'HIGH':[14.5],'LOW':[13.5],'CLOSE':[13.9],'LEVEL':'Low','YEAR':np.float64(t)}"
   ]
  },
  {
   "cell_type": "markdown",
   "id": "8cd63990",
   "metadata": {},
   "source": [
    "We use the dictionary to create the DataFrame of the new observation. Likewise, we apply an appropriate index."
   ]
  },
  {
   "cell_type": "code",
   "execution_count": 44,
   "id": "be93d0cf",
   "metadata": {},
   "outputs": [],
   "source": [
    "new_row=pd.DataFrame(r,index=['8577'])"
   ]
  },
  {
   "cell_type": "markdown",
   "id": "c8e27727",
   "metadata": {},
   "source": [
    "Now we add the observation contained in the previous DataFrame using the `append` method:"
   ]
  },
  {
   "cell_type": "code",
   "execution_count": 45,
   "id": "69ae34d8",
   "metadata": {},
   "outputs": [],
   "source": [
    "df=df.append(new_row)"
   ]
  },
  {
   "cell_type": "markdown",
   "id": "927d3172",
   "metadata": {},
   "source": [
    "We see that the observation was added."
   ]
  },
  {
   "cell_type": "code",
   "execution_count": 46,
   "id": "a07abc38",
   "metadata": {},
   "outputs": [
    {
     "data": {
      "text/html": [
       "<div>\n",
       "<style scoped>\n",
       "    .dataframe tbody tr th:only-of-type {\n",
       "        vertical-align: middle;\n",
       "    }\n",
       "\n",
       "    .dataframe tbody tr th {\n",
       "        vertical-align: top;\n",
       "    }\n",
       "\n",
       "    .dataframe thead th {\n",
       "        text-align: right;\n",
       "    }\n",
       "</style>\n",
       "<table border=\"1\" class=\"dataframe\">\n",
       "  <thead>\n",
       "    <tr style=\"text-align: right;\">\n",
       "      <th></th>\n",
       "      <th>DATE</th>\n",
       "      <th>OPEN</th>\n",
       "      <th>HIGH</th>\n",
       "      <th>LOW</th>\n",
       "      <th>CLOSE</th>\n",
       "      <th>LEVEL</th>\n",
       "      <th>YEAR</th>\n",
       "    </tr>\n",
       "  </thead>\n",
       "  <tbody>\n",
       "    <tr>\n",
       "      <th>8573</th>\n",
       "      <td>01/02/2024</td>\n",
       "      <td>13.22</td>\n",
       "      <td>14.23</td>\n",
       "      <td>13.10</td>\n",
       "      <td>13.20</td>\n",
       "      <td>Low</td>\n",
       "      <td>2024.0</td>\n",
       "    </tr>\n",
       "    <tr>\n",
       "      <th>8574</th>\n",
       "      <td>01/03/2024</td>\n",
       "      <td>13.35</td>\n",
       "      <td>14.22</td>\n",
       "      <td>13.33</td>\n",
       "      <td>14.04</td>\n",
       "      <td>Low</td>\n",
       "      <td>2024.0</td>\n",
       "    </tr>\n",
       "    <tr>\n",
       "      <th>8575</th>\n",
       "      <td>01/04/2024</td>\n",
       "      <td>13.93</td>\n",
       "      <td>14.20</td>\n",
       "      <td>13.64</td>\n",
       "      <td>14.13</td>\n",
       "      <td>Low</td>\n",
       "      <td>2024.0</td>\n",
       "    </tr>\n",
       "    <tr>\n",
       "      <th>8576</th>\n",
       "      <td>01/05/2024</td>\n",
       "      <td>14.24</td>\n",
       "      <td>14.58</td>\n",
       "      <td>13.29</td>\n",
       "      <td>13.35</td>\n",
       "      <td>Low</td>\n",
       "      <td>2024.0</td>\n",
       "    </tr>\n",
       "    <tr>\n",
       "      <th>8577</th>\n",
       "      <td>01/06/2024</td>\n",
       "      <td>14.00</td>\n",
       "      <td>14.50</td>\n",
       "      <td>13.50</td>\n",
       "      <td>13.90</td>\n",
       "      <td>Low</td>\n",
       "      <td>2024.0</td>\n",
       "    </tr>\n",
       "  </tbody>\n",
       "</table>\n",
       "</div>"
      ],
      "text/plain": [
       "            DATE   OPEN   HIGH    LOW  CLOSE LEVEL    YEAR\n",
       "8573  01/02/2024  13.22  14.23  13.10  13.20   Low  2024.0\n",
       "8574  01/03/2024  13.35  14.22  13.33  14.04   Low  2024.0\n",
       "8575  01/04/2024  13.93  14.20  13.64  14.13   Low  2024.0\n",
       "8576  01/05/2024  14.24  14.58  13.29  13.35   Low  2024.0\n",
       "8577  01/06/2024  14.00  14.50  13.50  13.90   Low  2024.0"
      ]
     },
     "execution_count": 46,
     "metadata": {},
     "output_type": "execute_result"
    }
   ],
   "source": [
    "df.tail()"
   ]
  },
  {
   "cell_type": "markdown",
   "id": "179618a4",
   "metadata": {},
   "source": [
    "5. Analysis:\n",
    "   a) Calculate the average of the column 'Close' for each 'Year'. You need to group for this task.\n",
    "   b) Count the number of 'High', 'Medium', and 'Low'  Level days in the data.\n",
    "   \n",
    "With the `groupby` method we join the observations under the same year (introducing `['YEAR']` as an argument) and with the `mean` method we calculate the mean per year (only for the `CLOSE` column, which is achieved specifying `['CLOSE']`). In the following lines of code we do this:"
   ]
  },
  {
   "cell_type": "code",
   "execution_count": 47,
   "id": "f4138209",
   "metadata": {},
   "outputs": [
    {
     "data": {
      "text/plain": [
       "YEAR\n",
       "1990.0    23.063478\n",
       "1991.0    18.373373\n",
       "1992.0    15.452047\n",
       "1993.0    12.686245\n",
       "1994.0    13.925516\n",
       "1995.0    12.388770\n",
       "1996.0    16.442165\n",
       "1997.0    22.363984\n",
       "1998.0    25.602976\n",
       "1999.0    24.371912\n",
       "2000.0    23.315000\n",
       "2001.0    25.749677\n",
       "2002.0    27.292460\n",
       "2003.0    21.982857\n",
       "2004.0    15.479644\n",
       "2005.0    12.807063\n",
       "2006.0    12.810320\n",
       "2007.0    17.535936\n",
       "2008.0    32.695534\n",
       "2009.0    31.479008\n",
       "2010.0    22.548889\n",
       "2011.0    24.202579\n",
       "2012.0    17.801640\n",
       "2013.0    14.230119\n",
       "2014.0    14.175992\n",
       "2015.0    16.674087\n",
       "2016.0    15.825635\n",
       "2017.0    11.090239\n",
       "2018.0    16.639841\n",
       "2019.0    15.387540\n",
       "2020.0    29.251304\n",
       "2021.0    19.656151\n",
       "2022.0    25.637148\n",
       "2023.0    16.849027\n",
       "2024.0    13.724000\n",
       "Name: CLOSE, dtype: float64"
      ]
     },
     "execution_count": 47,
     "metadata": {},
     "output_type": "execute_result"
    }
   ],
   "source": [
    "avg1=df.groupby(['YEAR'])\n",
    "avg1['CLOSE'].mean()"
   ]
  },
  {
   "cell_type": "markdown",
   "id": "42aa92ae",
   "metadata": {},
   "source": [
    "Remember that we are only showing the average values that 'CLOSE' obtained for each year.\n",
    "\n",
    "Now, to count the number of `high`, `medium` and `low` level days in the data we do the following:\n",
    "\n",
    "We create a column of ones called N:"
   ]
  },
  {
   "cell_type": "code",
   "execution_count": 48,
   "id": "dfb7a23e",
   "metadata": {},
   "outputs": [],
   "source": [
    "df['N']=1"
   ]
  },
  {
   "cell_type": "markdown",
   "id": "da99a80f",
   "metadata": {},
   "source": [
    "Now we group according to `LEVEL` with the `groupby` method. Then with the `sum` method we obtain the total of ones for each `LEVEL`. Note that each one represents a day, so the sum represents the total number of days for each `LEVEL`"
   ]
  },
  {
   "cell_type": "code",
   "execution_count": 49,
   "id": "76bae035",
   "metadata": {},
   "outputs": [
    {
     "data": {
      "text/plain": [
       "LEVEL\n",
       "High       720\n",
       "Low       5276\n",
       "Medium    2582\n",
       "Name: N, dtype: int64"
      ]
     },
     "execution_count": 49,
     "metadata": {},
     "output_type": "execute_result"
    }
   ],
   "source": [
    "avg2=df.groupby(['LEVEL'])\n",
    "avg2['N'].sum()"
   ]
  }
 ],
 "metadata": {
  "kernelspec": {
   "display_name": "Python 3 (ipykernel)",
   "language": "python",
   "name": "python3"
  },
  "language_info": {
   "codemirror_mode": {
    "name": "ipython",
    "version": 3
   },
   "file_extension": ".py",
   "mimetype": "text/x-python",
   "name": "python",
   "nbconvert_exporter": "python",
   "pygments_lexer": "ipython3",
   "version": "3.9.18"
  }
 },
 "nbformat": 4,
 "nbformat_minor": 5
}
