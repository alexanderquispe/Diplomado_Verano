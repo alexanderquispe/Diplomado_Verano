{
 "cells": [
  {
   "cell_type": "markdown",
   "id": "d3d61e88",
   "metadata": {},
   "source": [
    "## Parte 1:\n",
    "Primero instalaremos la biblioteca folium y leemos el archivo con pandas. Tal y como se pide replicar en el archivo original, creamos una columna llamada \"dpt_code\" y \"prov_code\" (en base a data ya existente) , para luego filtrar los datos solo para mujeres. Después de ello convertimos columna month en formato de número y ordenamos nuestra df por departamento y mes. "
   ]
  },
  {
   "cell_type": "code",
   "execution_count": null,
   "id": "56f10ca7",
   "metadata": {},
   "outputs": [],
   "source": []
  },
  {
   "cell_type": "code",
   "execution_count": 4,
   "id": "878403a0",
   "metadata": {},
   "outputs": [],
   "source": [
    "import folium\n",
    "import pandas as pd\n",
    "import geopandas as gpd\n",
    "import matplotlib.pyplot as plt\n",
    "from folium import plugins\n",
    "import mplleaflet\n",
    "import branca.colormap as cm\n",
    "from folium.plugins import MiniMap\n",
    "from branca.colormap import LinearColormap"
   ]
  },
  {
   "cell_type": "code",
   "execution_count": 5,
   "id": "94b3db6b",
   "metadata": {},
   "outputs": [
    {
     "ename": "FileNotFoundError",
     "evalue": "[Errno 2] No such file or directory: 'C:/Users/nando/OneDrive/Documentos/GitHub/QLAB_Summer_Python/_data/8_trab_sex_20.dta'",
     "output_type": "error",
     "traceback": [
      "\u001b[1;31m---------------------------------------------------------------------------\u001b[0m",
      "\u001b[1;31mFileNotFoundError\u001b[0m                         Traceback (most recent call last)",
      "Cell \u001b[1;32mIn[5], line 1\u001b[0m\n\u001b[1;32m----> 1\u001b[0m sex_work \u001b[38;5;241m=\u001b[39m pd\u001b[38;5;241m.\u001b[39mread_stata(\u001b[38;5;124m'\u001b[39m\u001b[38;5;124mC:/Users/nando/OneDrive/Documentos/GitHub/QLAB_Summer_Python/_data/8_trab_sex_20.dta\u001b[39m\u001b[38;5;124m'\u001b[39m)\n\u001b[0;32m      3\u001b[0m sex_work[\u001b[38;5;124m'\u001b[39m\u001b[38;5;124mdpt_code\u001b[39m\u001b[38;5;124m'\u001b[39m] \u001b[38;5;241m=\u001b[39m sex_work\u001b[38;5;241m.\u001b[39mcod_ubigeo\u001b[38;5;241m.\u001b[39mstr[:\u001b[38;5;241m2\u001b[39m]\u001b[38;5;241m.\u001b[39mcopy()\n\u001b[0;32m      4\u001b[0m sex_work[\u001b[38;5;124m'\u001b[39m\u001b[38;5;124mprov_code\u001b[39m\u001b[38;5;124m'\u001b[39m] \u001b[38;5;241m=\u001b[39m sex_work\u001b[38;5;241m.\u001b[39mcod_ubigeo\u001b[38;5;241m.\u001b[39mstr[:\u001b[38;5;241m4\u001b[39m]\u001b[38;5;241m.\u001b[39mcopy()\n",
      "File \u001b[1;32m~\\anaconda3\\Lib\\site-packages\\pandas\\io\\stata.py:2090\u001b[0m, in \u001b[0;36mread_stata\u001b[1;34m(filepath_or_buffer, convert_dates, convert_categoricals, index_col, convert_missing, preserve_dtypes, columns, order_categoricals, chunksize, iterator, compression, storage_options)\u001b[0m\n\u001b[0;32m   2087\u001b[0m     \u001b[38;5;28;01mreturn\u001b[39;00m reader\n\u001b[0;32m   2089\u001b[0m \u001b[38;5;28;01mwith\u001b[39;00m reader:\n\u001b[1;32m-> 2090\u001b[0m     \u001b[38;5;28;01mreturn\u001b[39;00m reader\u001b[38;5;241m.\u001b[39mread()\n",
      "File \u001b[1;32m~\\anaconda3\\Lib\\site-packages\\pandas\\io\\stata.py:1702\u001b[0m, in \u001b[0;36mStataReader.read\u001b[1;34m(self, nrows, convert_dates, convert_categoricals, index_col, convert_missing, preserve_dtypes, columns, order_categoricals)\u001b[0m\n\u001b[0;32m   1690\u001b[0m \u001b[38;5;129m@Appender\u001b[39m(_read_method_doc)\n\u001b[0;32m   1691\u001b[0m \u001b[38;5;28;01mdef\u001b[39;00m \u001b[38;5;21mread\u001b[39m(\n\u001b[0;32m   1692\u001b[0m     \u001b[38;5;28mself\u001b[39m,\n\u001b[1;32m   (...)\u001b[0m\n\u001b[0;32m   1700\u001b[0m     order_categoricals: \u001b[38;5;28mbool\u001b[39m \u001b[38;5;241m|\u001b[39m \u001b[38;5;28;01mNone\u001b[39;00m \u001b[38;5;241m=\u001b[39m \u001b[38;5;28;01mNone\u001b[39;00m,\n\u001b[0;32m   1701\u001b[0m ) \u001b[38;5;241m-\u001b[39m\u001b[38;5;241m>\u001b[39m DataFrame:\n\u001b[1;32m-> 1702\u001b[0m     \u001b[38;5;28mself\u001b[39m\u001b[38;5;241m.\u001b[39m_ensure_open()\n\u001b[0;32m   1703\u001b[0m     \u001b[38;5;66;03m# Handle empty file or chunk.  If reading incrementally raise\u001b[39;00m\n\u001b[0;32m   1704\u001b[0m     \u001b[38;5;66;03m# StopIteration.  If reading the whole thing return an empty\u001b[39;00m\n\u001b[0;32m   1705\u001b[0m     \u001b[38;5;66;03m# data frame.\u001b[39;00m\n\u001b[0;32m   1706\u001b[0m     \u001b[38;5;28;01mif\u001b[39;00m (\u001b[38;5;28mself\u001b[39m\u001b[38;5;241m.\u001b[39m_nobs \u001b[38;5;241m==\u001b[39m \u001b[38;5;241m0\u001b[39m) \u001b[38;5;129;01mand\u001b[39;00m (nrows \u001b[38;5;129;01mis\u001b[39;00m \u001b[38;5;28;01mNone\u001b[39;00m):\n",
      "File \u001b[1;32m~\\anaconda3\\Lib\\site-packages\\pandas\\io\\stata.py:1176\u001b[0m, in \u001b[0;36mStataReader._ensure_open\u001b[1;34m(self)\u001b[0m\n\u001b[0;32m   1172\u001b[0m \u001b[38;5;250m\u001b[39m\u001b[38;5;124;03m\"\"\"\u001b[39;00m\n\u001b[0;32m   1173\u001b[0m \u001b[38;5;124;03mEnsure the file has been opened and its header data read.\u001b[39;00m\n\u001b[0;32m   1174\u001b[0m \u001b[38;5;124;03m\"\"\"\u001b[39;00m\n\u001b[0;32m   1175\u001b[0m \u001b[38;5;28;01mif\u001b[39;00m \u001b[38;5;129;01mnot\u001b[39;00m \u001b[38;5;28mhasattr\u001b[39m(\u001b[38;5;28mself\u001b[39m, \u001b[38;5;124m\"\u001b[39m\u001b[38;5;124m_path_or_buf\u001b[39m\u001b[38;5;124m\"\u001b[39m):\n\u001b[1;32m-> 1176\u001b[0m     \u001b[38;5;28mself\u001b[39m\u001b[38;5;241m.\u001b[39m_open_file()\n",
      "File \u001b[1;32m~\\anaconda3\\Lib\\site-packages\\pandas\\io\\stata.py:1189\u001b[0m, in \u001b[0;36mStataReader._open_file\u001b[1;34m(self)\u001b[0m\n\u001b[0;32m   1182\u001b[0m \u001b[38;5;28;01mif\u001b[39;00m \u001b[38;5;129;01mnot\u001b[39;00m \u001b[38;5;28mself\u001b[39m\u001b[38;5;241m.\u001b[39m_entered:\n\u001b[0;32m   1183\u001b[0m     warnings\u001b[38;5;241m.\u001b[39mwarn(\n\u001b[0;32m   1184\u001b[0m         \u001b[38;5;124m\"\u001b[39m\u001b[38;5;124mStataReader is being used without using a context manager. \u001b[39m\u001b[38;5;124m\"\u001b[39m\n\u001b[0;32m   1185\u001b[0m         \u001b[38;5;124m\"\u001b[39m\u001b[38;5;124mUsing StataReader as a context manager is the only supported method.\u001b[39m\u001b[38;5;124m\"\u001b[39m,\n\u001b[0;32m   1186\u001b[0m         \u001b[38;5;167;01mResourceWarning\u001b[39;00m,\n\u001b[0;32m   1187\u001b[0m         stacklevel\u001b[38;5;241m=\u001b[39mfind_stack_level(),\n\u001b[0;32m   1188\u001b[0m     )\n\u001b[1;32m-> 1189\u001b[0m handles \u001b[38;5;241m=\u001b[39m get_handle(\n\u001b[0;32m   1190\u001b[0m     \u001b[38;5;28mself\u001b[39m\u001b[38;5;241m.\u001b[39m_original_path_or_buf,\n\u001b[0;32m   1191\u001b[0m     \u001b[38;5;124m\"\u001b[39m\u001b[38;5;124mrb\u001b[39m\u001b[38;5;124m\"\u001b[39m,\n\u001b[0;32m   1192\u001b[0m     storage_options\u001b[38;5;241m=\u001b[39m\u001b[38;5;28mself\u001b[39m\u001b[38;5;241m.\u001b[39m_storage_options,\n\u001b[0;32m   1193\u001b[0m     is_text\u001b[38;5;241m=\u001b[39m\u001b[38;5;28;01mFalse\u001b[39;00m,\n\u001b[0;32m   1194\u001b[0m     compression\u001b[38;5;241m=\u001b[39m\u001b[38;5;28mself\u001b[39m\u001b[38;5;241m.\u001b[39m_compression,\n\u001b[0;32m   1195\u001b[0m )\n\u001b[0;32m   1196\u001b[0m \u001b[38;5;28;01mif\u001b[39;00m \u001b[38;5;28mhasattr\u001b[39m(handles\u001b[38;5;241m.\u001b[39mhandle, \u001b[38;5;124m\"\u001b[39m\u001b[38;5;124mseekable\u001b[39m\u001b[38;5;124m\"\u001b[39m) \u001b[38;5;129;01mand\u001b[39;00m handles\u001b[38;5;241m.\u001b[39mhandle\u001b[38;5;241m.\u001b[39mseekable():\n\u001b[0;32m   1197\u001b[0m     \u001b[38;5;66;03m# If the handle is directly seekable, use it without an extra copy.\u001b[39;00m\n\u001b[0;32m   1198\u001b[0m     \u001b[38;5;28mself\u001b[39m\u001b[38;5;241m.\u001b[39m_path_or_buf \u001b[38;5;241m=\u001b[39m handles\u001b[38;5;241m.\u001b[39mhandle\n",
      "File \u001b[1;32m~\\anaconda3\\Lib\\site-packages\\pandas\\io\\common.py:868\u001b[0m, in \u001b[0;36mget_handle\u001b[1;34m(path_or_buf, mode, encoding, compression, memory_map, is_text, errors, storage_options)\u001b[0m\n\u001b[0;32m    859\u001b[0m         handle \u001b[38;5;241m=\u001b[39m \u001b[38;5;28mopen\u001b[39m(\n\u001b[0;32m    860\u001b[0m             handle,\n\u001b[0;32m    861\u001b[0m             ioargs\u001b[38;5;241m.\u001b[39mmode,\n\u001b[1;32m   (...)\u001b[0m\n\u001b[0;32m    864\u001b[0m             newline\u001b[38;5;241m=\u001b[39m\u001b[38;5;124m\"\u001b[39m\u001b[38;5;124m\"\u001b[39m,\n\u001b[0;32m    865\u001b[0m         )\n\u001b[0;32m    866\u001b[0m     \u001b[38;5;28;01melse\u001b[39;00m:\n\u001b[0;32m    867\u001b[0m         \u001b[38;5;66;03m# Binary mode\u001b[39;00m\n\u001b[1;32m--> 868\u001b[0m         handle \u001b[38;5;241m=\u001b[39m \u001b[38;5;28mopen\u001b[39m(handle, ioargs\u001b[38;5;241m.\u001b[39mmode)\n\u001b[0;32m    869\u001b[0m     handles\u001b[38;5;241m.\u001b[39mappend(handle)\n\u001b[0;32m    871\u001b[0m \u001b[38;5;66;03m# Convert BytesIO or file objects passed with an encoding\u001b[39;00m\n",
      "\u001b[1;31mFileNotFoundError\u001b[0m: [Errno 2] No such file or directory: 'C:/Users/nando/OneDrive/Documentos/GitHub/QLAB_Summer_Python/_data/8_trab_sex_20.dta'"
     ]
    }
   ],
   "source": [
    "sex_work = pd.read_stata('C:/Users/nando/OneDrive/Documentos/GitHub/QLAB_Summer_Python/_data/8_trab_sex_20.dta')\n",
    "\n",
    "sex_work['dpt_code'] = sex_work.cod_ubigeo.str[:2].copy()\n",
    "sex_work['prov_code'] = sex_work.cod_ubigeo.str[:4].copy()\n",
    "women_work = sex_work[sex_work.sex == 'Mujer'].copy().reset_index(drop=True)\n",
    "women_work['month'] = pd.to_datetime(women_work.month, format='%B').dt.strftime('%m').astype(int)\n",
    "women_work.sort_values(['dpt_code', 'month'], inplace=True)"
   ]
  },
  {
   "cell_type": "markdown",
   "id": "3beac7d7",
   "metadata": {},
   "source": [
    "Obtenemos también el número total de mujeres empleadas por departamento y mes"
   ]
  },
  {
   "cell_type": "code",
   "execution_count": null,
   "id": "ef1cf903",
   "metadata": {},
   "outputs": [],
   "source": [
    "dpt_women_work = women_work.groupby(['dpt_code', 'month'], as_index=False)[['empl']].sum().rename(columns={'empl': 'women_empl'})\n",
    "dpt_women_work"
   ]
  },
  {
   "cell_type": "code",
   "execution_count": null,
   "id": "0123fdc2",
   "metadata": {},
   "outputs": [],
   "source": [
    "#Ordenamos con \"sort\"\n",
    "dpt_women_work.sort_values(['dpt_code', 'month'], inplace=True)"
   ]
  },
  {
   "cell_type": "markdown",
   "id": "38735f49",
   "metadata": {},
   "source": [
    "Obtenemos la media del empleo de las mujeres por departamento"
   ]
  },
  {
   "cell_type": "code",
   "execution_count": null,
   "id": "9864b309",
   "metadata": {},
   "outputs": [],
   "source": [
    "df2 = dpt_women_work.groupby(['dpt_code'], as_index=False)[['women_empl']].mean()\n",
    "df2"
   ]
  },
  {
   "cell_type": "markdown",
   "id": "e3de620c",
   "metadata": {},
   "source": [
    "## Vamos a crear el shapefile, para ello ya debimos haber descargado con anterioridad los archivos shapefile"
   ]
  },
  {
   "cell_type": "markdown",
   "id": "09ace716",
   "metadata": {},
   "source": [
    "Lo primero que haremos será cargar los datos geoespaciales para los departamentos, al comienzo seguiremos el procedimiento original del código de la tarea"
   ]
  },
  {
   "cell_type": "code",
   "execution_count": null,
   "id": "35d3cff8",
   "metadata": {},
   "outputs": [],
   "source": [
    "dpt_shp = gpd.read_file('C:/Users/nando/OneDrive/Documentos/GitHub/QLAB_Summer_Python/_data/INEI_LIMITE_DEPARTAMENTAL/INEI_LIMITE_DEPARTAMENTAL.shp')"
   ]
  },
  {
   "cell_type": "markdown",
   "id": "6810eecb",
   "metadata": {},
   "source": [
    "Ahora realizamos el merge con el df2 que habíamos definido anteriormente"
   ]
  },
  {
   "cell_type": "code",
   "execution_count": null,
   "id": "1d8bdfda",
   "metadata": {},
   "outputs": [],
   "source": [
    "df3 = dpt_shp.merge(df2, left_on='CCDD', right_on='dpt_code')\n",
    "# Creamos el mapa con folium\n",
    "peru_map = folium.Map(location=[-9.1900, -75.0152], zoom_start=6)"
   ]
  },
  {
   "cell_type": "markdown",
   "id": "0f68ce09",
   "metadata": {},
   "source": [
    "Tenmos que añadir el GeoDataframe al mapa que tenemos, luego el layer control (el cual nos permite controlar qué capas están visibles en nuestro mapa interactivo)"
   ]
  },
  {
   "cell_type": "code",
   "execution_count": null,
   "id": "fdee3aea",
   "metadata": {},
   "outputs": [],
   "source": [
    "folium.GeoJson(df3,\n",
    "               name='geojson',\n",
    "               style_function=lambda x: {'fillColor': 'red', 'color': 'black', 'weight': 2, 'dashArray': '5, 5'},\n",
    "               highlight_function=lambda x: {'weight': 3, 'color': 'blue'},\n",
    "               tooltip=folium.features.GeoJsonTooltip(fields=['women_empl'],\n",
    "                                                      aliases=['Women Employment'],\n",
    "                                                      labels=True,\n",
    "                                                      sticky=True)\n",
    "               ).add_to(peru_map)\n",
    "\n",
    "folium.LayerControl().add_to(peru_map)"
   ]
  },
  {
   "cell_type": "markdown",
   "id": "a726eef5",
   "metadata": {},
   "source": [
    "Ahora convertimos el gráfico de matplotlib a un objeto folium usando plugins, guardamos el mapa interactivo e imprimimos"
   ]
  },
  {
   "cell_type": "code",
   "execution_count": null,
   "id": "9a5ec79e",
   "metadata": {},
   "outputs": [],
   "source": [
    "fig, ax = plt.subplots(figsize=(20, 20))\n",
    "df3.plot(ax=ax, column='women_empl', cmap='Reds', linestyle='--', edgecolor='black', legend=True)\n",
    "\n",
    "folium.plugins.MiniMap().add_to(peru_map)\n",
    "\n",
    "peru_map.save('peru_map_combined.html')\n",
    "peru_map"
   ]
  },
  {
   "cell_type": "markdown",
   "id": "737f7378",
   "metadata": {},
   "source": [
    "Para la nueva parte del df3 se vuelve a crear el mapa y traspasarlo al folium"
   ]
  },
  {
   "cell_type": "code",
   "execution_count": null,
   "id": "0c2afa21",
   "metadata": {},
   "outputs": [],
   "source": [
    "# Creamos el mapa con folium\n",
    "peru_map1 = folium.Map(location=[-9.1900, -75.0152], zoom_start=6)\n",
    "\n",
    "folium.GeoJson(df3,\n",
    "               name='geojson',\n",
    "               style_function=lambda x: {'fillColor': 'red', 'color': 'black', 'weight': 2, 'dashArray': '5, 5'},\n",
    "               highlight_function=lambda x: {'weight': 3, 'color': 'blue'},\n",
    "               tooltip=folium.features.GeoJsonTooltip(fields=['women_empl'],\n",
    "                                                      aliases=['Women Employment'],\n",
    "                                                      labels=True,\n",
    "                                                      sticky=True)\n",
    "               ).add_to(peru_map1)\n",
    "\n",
    "folium.LayerControl().add_to(peru_map1)"
   ]
  },
  {
   "cell_type": "markdown",
   "id": "14890ced",
   "metadata": {},
   "source": [
    "Finalmente se replica el formato de pandas y se transforma en tipo folium "
   ]
  },
  {
   "cell_type": "code",
   "execution_count": null,
   "id": "2046d544",
   "metadata": {},
   "outputs": [],
   "source": [
    "fig, ax = plt.subplots(figsize=(20, 20))\n",
    "df3.plot( ax = ax, column='women_empl', cmap= 'Reds', figsize=(20, 20), linestyle='--', \n",
    "edgecolor='black', legend = True, scheme = \"User_Defined\", \n",
    "         classification_kwds = dict( bins = [ 20000, 40000, 60000, 100000  ] ), \n",
    "        legend_kwds = dict(  loc='upper left',\n",
    "                            bbox_to_anchor=(1.01, 1),\n",
    "                            fontsize='x-large',\n",
    "                            title= \"Number of Employers\", \n",
    "                            title_fontsize = 'x-large', \n",
    "                            frameon= False )\n",
    "        )\n",
    "folium.plugins.MiniMap().add_to(peru_map1)\n",
    "\n",
    "peru_map.save('peru_map1_combined.html')\n",
    "peru_map1"
   ]
  },
  {
   "cell_type": "markdown",
   "id": "00081302",
   "metadata": {},
   "source": [
    "Esto viene a ser otra forma de realizar el proceso. Pues para esto se se plantea como si el proceso fuese desde el inicio"
   ]
  },
  {
   "cell_type": "code",
   "execution_count": null,
   "id": "658d9991",
   "metadata": {},
   "outputs": [],
   "source": [
    "import folium\n",
    "from folium import Choropleth, GeoJson\n",
    "\n",
    "# Filtro los datos para CCDD diferente de \"15\"\n",
    "filtered_df = df3[df3['CCDD'] != \"15\"]\n",
    "\n",
    "# Creo el mapa centrado en la ubicación media de tus datos\n",
    "centroid_lat = filtered_df.to_crs(epsg='4326').geometry.centroid.y.mean()\n",
    "centroid_lon = filtered_df.to_crs(epsg='4326').geometry.centroid.x.mean()\n",
    "m = folium.Map(location=[centroid_lat, centroid_lon], zoom_start=6)\n",
    "#se le asigna el nombre m al folium para no poner una palabra en cada momento que se menciona de diversas ocaciones"
   ]
  },
  {
   "cell_type": "code",
   "execution_count": null,
   "id": "b156687b",
   "metadata": {},
   "outputs": [],
   "source": [
    "# Añado la capa de coropleta\n",
    "Choropleth(\n",
    "    geo_data=filtered_df,\n",
    "    data=filtered_df,\n",
    "    columns=['geometry', 'women_empl'],\n",
    "    key_on='feature.properties.women_empl',\n",
    "    fill_color='Reds',\n",
    "    fill_opacity=0.7,\n",
    "    line_opacity=0.2,\n",
    "    legend_name='Number of Employers',\n",
    "    line_color='black',\n",
    "    line_dash='--',\n",
    "    edgecolor='black',\n",
    "    name='Women Employment',\n",
    ").add_to(m)\n",
    "\n",
    "# Añado el límite de las áreas geográficas\n",
    "GeoJson(\n",
    "    filtered_df,\n",
    "    name='geojson',\n",
    "    style_function=lambda x: {\n",
    "        'color': 'black',\n",
    "        'weight': 2,\n",
    "        'dashArray': '5, 5',\n",
    "    },\n",
    ").add_to(m)\n",
    "\n",
    "folium.LayerControl().add_to(m)\n",
    "\n",
    "# Guardar el mapa\n",
    "m.save('map_filtered.html')\n",
    "m"
   ]
  },
  {
   "cell_type": "markdown",
   "id": "95598edc",
   "metadata": {},
   "source": [
    "# Parte 2"
   ]
  },
  {
   "cell_type": "code",
   "execution_count": null,
   "id": "324db23d",
   "metadata": {},
   "outputs": [],
   "source": [
    "pip install folium branca matplotlib"
   ]
  },
  {
   "cell_type": "code",
   "execution_count": null,
   "id": "3b82b9b0",
   "metadata": {},
   "outputs": [],
   "source": [
    "df4 = sex_work.groupby(['dpt_code', 'month', 'sex'], as_index=False)[['empl']].sum() \\\n",
    "        .pivot(index=['dpt_code', 'month'], columns='sex', values='empl') \\\n",
    "        .reset_index()"
   ]
  },
  {
   "cell_type": "code",
   "execution_count": null,
   "id": "6b5363bd",
   "metadata": {},
   "outputs": [],
   "source": [
    "df4"
   ]
  },
  {
   "cell_type": "code",
   "execution_count": null,
   "id": "85922faf",
   "metadata": {},
   "outputs": [],
   "source": [
    "df4[ 'prop_wom' ] = ( df4.Mujer * 100 / df4.Hombre )"
   ]
  },
  {
   "cell_type": "code",
   "execution_count": null,
   "id": "22ad9dab",
   "metadata": {},
   "outputs": [],
   "source": [
    "df5 = dpt_shp.merge( df4, left_on = 'CCDD', right_on = 'dpt_code'  )\n",
    "# Creamos el mapa con folium\n",
    "peru_map = folium.Map(location=[-9.1900, -75.0152], zoom_start=6)"
   ]
  },
  {
   "cell_type": "code",
   "execution_count": null,
   "id": "e1144e8e",
   "metadata": {},
   "outputs": [],
   "source": [
    "folium.GeoJson(df5,\n",
    "               name='geojson',\n",
    "               style_function=lambda x: {'fillColor': 'red', 'color': 'black', 'weight': 2, 'dashArray': '5, 5'},\n",
    "               highlight_function=lambda x: {'weight': 3, 'color': 'blue'},\n",
    "               tooltip=folium.features.GeoJsonTooltip(fields=['women_empl'],\n",
    "                                                      aliases=['Women Employment'],\n",
    "                                                      labels=True,\n",
    "                                                      sticky=True)\n",
    "               ).add_to(peru_map)\n",
    "\n",
    "folium.LayerControl().add_to(peru_map)"
   ]
  },
  {
   "cell_type": "code",
   "execution_count": null,
   "id": "90b7d609",
   "metadata": {},
   "outputs": [],
   "source": [
    "def create_folium_map(df_month, month):\n",
    "    df_json = df_month.to_json()\n",
    "    # Create the Map instance\n",
    "    m = folium.Map(location=[-9.1900, -75.0152], zoom_start=6)\n",
    "    colormap = linear.YlOrRd_09.scale(df_month['prop_wom'].min(), df_month['prop_wom'].max())\n",
    "    folium.GeoJson(\n",
    "        df_json,\n",
    "        name=f'Women Employment - {month}',\n",
    "        style_function=lambda feature: {\n",
    "            'fillColor': colormap(feature['properties']['prop_wom']),\n",
    "            'color': 'black',\n",
    "            'weight': 2,\n",
    "            'dashArray': '5, 5'\n",
    "        }\n",
    "    ).add_to(m)\n",
    "\n",
    "    colormap.add_to(m)\n",
    "    html_file = f\"map_{month}.html\"\n",
    "    m.save(html_file)\n",
    "    return html_file\n",
    "\n",
    "# Crear subgráficos de Matplotlib\n",
    "fig, axis = plt.subplots(nrows=4, ncols=3, figsize=(15, 15))\n",
    "\n",
    "idx = 0\n",
    "html_files = []  # Almacena nombres de archivos HTML\n",
    "\n",
    "for i in range(4):\n",
    "    for j in range(3):\n",
    "        ax = axis[i, j]\n",
    "\n",
    "        if idx < len(df5['month'].unique()):\n",
    "            month = df5['month'].unique()[idx]\n",
    "            df6 = df5[df5['month'] == month]\n",
    "\n",
    "            html_file = create_folium_map(df6, month)\n",
    "            html_files.append(html_file)  # Almacena nombres de archivos HTML\n",
    "\n",
    "            ax.set_title(month)\n",
    "\n",
    "        idx += 1\n",
    "\n",
    "# Imprime los enlaces HTML\n",
    "for file in html_files:\n",
    "    print(file)"
   ]
  },
  {
   "cell_type": "markdown",
   "id": "8be835c5",
   "metadata": {},
   "source": [
    "## Parte 3"
   ]
  },
  {
   "cell_type": "code",
   "execution_count": null,
   "id": "d20215d1",
   "metadata": {},
   "outputs": [],
   "source": [
    "from textwrap import wrap"
   ]
  },
  {
   "cell_type": "code",
   "execution_count": null,
   "id": "966c072e",
   "metadata": {},
   "outputs": [],
   "source": [
    "# Inverting colour map\n",
    "cmap = plt.cm.OrRd"
   ]
  },
  {
   "cell_type": "markdown",
   "id": "11af2aa0",
   "metadata": {},
   "source": [
    "Se repite uno de los procesos realizados en parte 1"
   ]
  },
  {
   "cell_type": "code",
   "execution_count": null,
   "id": "f9acf0ec",
   "metadata": {},
   "outputs": [],
   "source": [
    "# Creamos el mapa con folium\n",
    "peru_map2 = folium.Map(location=[-9.1900, -75.0152], zoom_start=6)\n",
    "\n",
    "folium.GeoJson(df6,\n",
    "               name='geojson',\n",
    "               style_function=lambda x: {'fillColor': 'red', 'color': 'black', 'weight': 2, 'dashArray': '5, 5'},\n",
    "               highlight_function=lambda x: {'weight': 3, 'color': 'blue'},\n",
    "               tooltip=folium.features.GeoJsonTooltip(fields=['women_empl'],\n",
    "                                                      aliases=['Women Employment'],\n",
    "                                                      labels=True,\n",
    "                                                      sticky=True)\n",
    "               ).add_to(peru_map1)\n",
    "\n",
    "folium.LayerControl().add_to(peru_map1)"
   ]
  },
  {
   "cell_type": "markdown",
   "id": "bf2e609e",
   "metadata": {},
   "source": [
    "Finalmente se utiliza una forma de resolver esta parte "
   ]
  },
  {
   "cell_type": "code",
   "execution_count": null,
   "id": "46e78186",
   "metadata": {},
   "outputs": [],
   "source": [
    "fig, ax = plt.subplots(figsize=(20, 20))\n",
    "df6.plot( ax = ax, \n",
    "        column='prop_wom', \n",
    "         cmap= cmap, \n",
    "         figsize=(20, 20), \n",
    "         linestyle='--',\n",
    "         edgecolor='black', \n",
    "         legend = True,  \n",
    "         scheme = \"User_Defined\", \n",
    "         classification_kwds = dict( bins = [ 20, 30, 40, 50,  100 ] ), \n",
    "         legend_kwds=dict(  loc='upper left',\n",
    "                            bbox_to_anchor=(1.01, 1),\n",
    "                            fontsize='x-large',\n",
    "                            title= \"Women Proportion\", \n",
    "                            title_fontsize = 'x-large', \n",
    "                            frameon= False )\n",
    "        )\n",
    "folium.plugins.MiniMap().add_to(peru_map2)\n",
    "\n",
    "peru_map.save('peru_map2_combined.html')\n",
    "peru_map2"
   ]
  },
  {
   "cell_type": "markdown",
   "id": "818ef8f2",
   "metadata": {},
   "source": [
    "# Part 4\n"
   ]
  },
  {
   "cell_type": "code",
   "execution_count": null,
   "id": "19d7865f",
   "metadata": {},
   "outputs": [],
   "source": [
    "#importamos todas las librerias necesarias"
   ]
  },
  {
   "cell_type": "code",
   "execution_count": null,
   "id": "9c902ab3",
   "metadata": {},
   "outputs": [],
   "source": [
    "!pip install gdown\n",
    "!pip install geopandas\n",
    "!pip install folium\n",
    "!pip install mplleaflet\n",
    "import folium\n",
    "import gdown\n",
    "import numpy as np\n",
    "import pandas as pd\n",
    "import geopandas as gpd\n",
    "import matplotlib.pyplot as plt\n",
    "from folium import plugins\n",
    "import mplleaflet\n",
    "import branca.colormap as cm\n",
    "from folium.plugins import MiniMap\n",
    "from branca.colormap import LinearColormap"
   ]
  },
  {
   "cell_type": "code",
   "execution_count": null,
   "id": "d50374f1",
   "metadata": {},
   "outputs": [],
   "source": [
    "#Dado:"
   ]
  },
  {
   "cell_type": "code",
   "execution_count": null,
   "id": "fa846f5c",
   "metadata": {},
   "outputs": [],
   "source": [
    "df6.loc[df6['NOMBDEP'] == 'LIMA', 'prop_wom'] = np.nan"
   ]
  },
  {
   "cell_type": "code",
   "execution_count": null,
   "id": "5015b44a",
   "metadata": {},
   "outputs": [],
   "source": [
    "#Creamos el mapa 1 utilizando Folium:"
   ]
  },
  {
   "cell_type": "code",
   "execution_count": null,
   "id": "848feeca",
   "metadata": {},
   "outputs": [],
   "source": [
    "# Crea un mapa centrado en la ubicación media de tus datos\n",
    "m4_1= folium.Map(location=[df6.geometry.centroid.y.mean(), df6.geometry.centroid.x.mean()], zoom_start=6)\n",
    "\n",
    "# Añade los datos geoespaciales al mapa\n",
    "folium.GeoJson(df6,\n",
    "               name='geojson',\n",
    "               style_function=lambda x: {'fillColor': 'red', 'color': 'black', 'weight': 2, 'dashArray': '5, 5'},\n",
    "               highlight_function=lambda x: {'weight': 3, 'color': 'blue'},\n",
    "               tooltip=folium.features.GeoJsonTooltip(fields=['prop_wom'],\n",
    "                                                      aliases=['Women Proportion'],\n",
    "                                                      labels=True,\n",
    "                                                      sticky=True)\n",
    "               ).add_to(m4_1)\n",
    "\n",
    "# Muestra el mapa\n",
    "m4_1"
   ]
  },
  {
   "cell_type": "code",
   "execution_count": null,
   "id": "646fc1a6",
   "metadata": {},
   "outputs": [],
   "source": [
    "#Creamos el mapa 2 utilizando Folium:"
   ]
  },
  {
   "cell_type": "code",
   "execution_count": null,
   "id": "17046672",
   "metadata": {},
   "outputs": [],
   "source": [
    "from folium import plugins\n",
    "\n",
    "# Crea un mapa centrado en la ubicación media de tus datos\n",
    "m4_2 = folium.Map(location=[df6.geometry.centroid.y.mean(), df6.geometry.centroid.x.mean()], zoom_start=6)\n",
    "\n",
    "# Añade los datos geoespaciales al mapa\n",
    "folium.GeoJson(df6,\n",
    "               name='geojson',\n",
    "               style_function=lambda x: {'fillColor': 'red' if pd.notna(x['properties']['prop_wom']) else '#DADADB',\n",
    "                                         'color': 'black', 'weight': 2, 'dashArray': '5, 5'},\n",
    "               highlight_function=lambda x: {'weight': 3, 'color': 'blue'},\n",
    "               tooltip=folium.features.GeoJsonTooltip(fields=['prop_wom'],\n",
    "                                                      aliases=['Women Proportion'],\n",
    "                                                      labels=True,\n",
    "                                                      sticky=True)\n",
    "               ).add_to(m4_2)\n",
    "\n",
    "# Muestra el mapa\n",
    "m4_2"
   ]
  },
  {
   "cell_type": "code",
   "execution_count": null,
   "id": "cd3dd113",
   "metadata": {},
   "outputs": [],
   "source": [
    "#Dado:"
   ]
  },
  {
   "cell_type": "code",
   "execution_count": null,
   "id": "7158c5bf",
   "metadata": {},
   "outputs": [],
   "source": [
    "df5['country'] = 'PERU'"
   ]
  },
  {
   "cell_type": "code",
   "execution_count": null,
   "id": "83c3027e",
   "metadata": {},
   "outputs": [],
   "source": [
    "ctr_shp = df5.dissolve( by = 'country')"
   ]
  },
  {
   "cell_type": "code",
   "execution_count": null,
   "id": "f551ab23",
   "metadata": {},
   "outputs": [],
   "source": [
    "#Creamos el mapa 3 utilizando Folium:"
   ]
  },
  {
   "cell_type": "code",
   "execution_count": null,
   "id": "dabe2c88",
   "metadata": {},
   "outputs": [],
   "source": [
    "import folium\n",
    "from folium import plugins\n",
    "import geopandas as gpd\n",
    "\n",
    "# Agregar 'country' a df5\n",
    "df5['country'] = 'PERU'\n",
    "\n",
    "# Dissolver por 'country'\n",
    "ctr_shp = df5.dissolve(by='country')\n",
    "\n",
    "# Crear un mapa centrado en la ubicación media de tus datos\n",
    "m4_3 = folium.Map(location=[ctr_shp.geometry.centroid.y.mean(), ctr_shp.geometry.centroid.x.mean()], zoom_start=6)\n",
    "\n",
    "# Añadir los datos geoespaciales al mapa\n",
    "folium.GeoJson(ctr_shp,\n",
    "               name='geojson',\n",
    "               style_function=lambda x: {'fillColor': 'red', 'color': 'black', 'weight': 2, 'dashArray': '5, 5'},\n",
    "               highlight_function=lambda x: {'weight': 3, 'color': 'blue'},\n",
    "               tooltip=folium.features.GeoJsonTooltip(fields=['prop_wom'],\n",
    "                                                      aliases=['Women Proportion'],\n",
    "                                                      labels=True,\n",
    "                                                      sticky=True)\n",
    "               ).add_to(m4_3)\n",
    "\n",
    "# Mostrar el mapa\n",
    "m4_3"
   ]
  },
  {
   "cell_type": "code",
   "execution_count": null,
   "id": "5b37520a",
   "metadata": {},
   "outputs": [],
   "source": []
  },
  {
   "cell_type": "code",
   "execution_count": null,
   "id": "a3079e82",
   "metadata": {},
   "outputs": [],
   "source": []
  },
  {
   "cell_type": "code",
   "execution_count": null,
   "id": "31a31df3",
   "metadata": {},
   "outputs": [],
   "source": []
  },
  {
   "cell_type": "code",
   "execution_count": null,
   "id": "a7d5ea15",
   "metadata": {},
   "outputs": [],
   "source": []
  },
  {
   "cell_type": "code",
   "execution_count": null,
   "id": "42911918",
   "metadata": {},
   "outputs": [],
   "source": []
  },
  {
   "cell_type": "code",
   "execution_count": null,
   "id": "65faa5e4",
   "metadata": {},
   "outputs": [],
   "source": []
  }
 ],
 "metadata": {
  "kernelspec": {
   "display_name": "Python 3 (ipykernel)",
   "language": "python",
   "name": "python3"
  },
  "language_info": {
   "codemirror_mode": {
    "name": "ipython",
    "version": 3
   },
   "file_extension": ".py",
   "mimetype": "text/x-python",
   "name": "python",
   "nbconvert_exporter": "python",
   "pygments_lexer": "ipython3",
   "version": "3.11.5"
  }
 },
 "nbformat": 4,
 "nbformat_minor": 5
}
