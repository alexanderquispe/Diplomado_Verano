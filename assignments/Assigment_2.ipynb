{
  "nbformat": 4,
  "nbformat_minor": 0,
  "metadata": {
    "colab": {
      "provenance": []
    },
    "kernelspec": {
      "name": "python3",
      "display_name": "Python 3"
    },
    "language_info": {
      "name": "python"
    }
  },
  "cells": [
    {
      "cell_type": "markdown",
      "source": [
        "# Assigment 2 (group 2)\n",
        "\n",
        "## 1.1. Tuple"
      ],
      "metadata": {
        "id": "pq7V0zeteveo"
      }
    },
    {
      "cell_type": "code",
      "execution_count": null,
      "metadata": {
        "id": "rEvkT6IqeGHT"
      },
      "outputs": [],
      "source": []
    }
  ]
}