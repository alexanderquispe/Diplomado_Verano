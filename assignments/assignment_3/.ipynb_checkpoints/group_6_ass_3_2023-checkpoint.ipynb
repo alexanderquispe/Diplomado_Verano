{
 "cells": [
  {
   "cell_type": "markdown",
   "metadata": {},
   "source": [
    "**Group 6** \n",
    "1. Carmen Mendoza\n",
    "2. Joaquín Pérez\n",
    "3. Lizbeth Minaya\n",
    "4. Valeria Albarracin"
   ]
  },
  {
   "cell_type": "markdown",
   "metadata": {},
   "source": [
    "# 1 Assignment\n",
    "\n",
    "It is totally prohibited to use any kind of loop. You can use stackoverflow. If you copy codes from previous answers, explain each step. No explanation is `0 points`."
   ]
  },
  {
   "cell_type": "markdown",
   "metadata": {},
   "source": [
    "## 1.1 Numpy\n",
    "1. Replace all the `even_numbers` in `np1` with 100. **Hint: Use `indexing` in arrys and [this filer](https://stackoverflow.com/questions/41638751/filtering-even-numbers-in-python).** <br><br>\n",
    "2. Create a 3x3 matrix with values ranging from 0 to 8. **Hint: Use `np.arange` and `np.reshape` method.** <br><br>\n",
    "3. Consider an array `Z = [1,2,3,4,5,6,7,8,9,10]`, generate an array `R = [ [ 1, 2, 3, 4], [ 2, 3, 4, 5 ], [ 3, 4, 5, 6 ], ..., [ 7, 8, 9, 10 ] ]`?.**Hint: Use `np.arange` and `np.concatenate`** <br><br>\n",
    "4. Create a 3x3x3 array with random values. **Hint: Use [`np.random.random`](https://docs.scipy.org/doc/numpy-1.15.0/reference/generated/numpy.random.random.html).** <br><br>\n",
    "5. Comment why this expression `np.nan == np.nan` is False. **Hint: Use stackoverflow.** <br><br>\n",
    "6. Print the `mean` and `standard deviation` of `np2`. **Hint: Use `f-string`, `np.mean`, and `np.var` methods.**"
   ]
  },
  {
   "cell_type": "code",
   "execution_count": 3,
   "metadata": {},
   "outputs": [],
   "source": [
    "import numpy as np\n",
    "np1 = np.arange( 200, 750)\n",
    "np2 = np.random.normal( 50 , 4, 300)"
   ]
  },
  {
   "cell_type": "markdown",
   "metadata": {},
   "source": [
    "1. Replace all the even_numbers in np1 with 100. Hint: Use indexing in arrys and this filer."
   ]
  },
  {
   "cell_type": "code",
   "execution_count": 17,
   "metadata": {},
   "outputs": [
    {
     "data": {
      "text/plain": [
       "array([200, 201, 202, 203, 204, 205, 206, 207, 208, 209, 210, 211, 212,\n",
       "       213, 214, 215, 216, 217, 218, 219, 220, 221, 222, 223, 224, 225,\n",
       "       226, 227, 228, 229, 230, 231, 232, 233, 234, 235, 236, 237, 238,\n",
       "       239, 240, 241, 242, 243, 244, 245, 246, 247, 248, 249, 250, 251,\n",
       "       252, 253, 254, 255, 256, 257, 258, 259, 260, 261, 262, 263, 264,\n",
       "       265, 266, 267, 268, 269, 270, 271, 272, 273, 274, 275, 276, 277,\n",
       "       278, 279, 280, 281, 282, 283, 284, 285, 286, 287, 288, 289, 290,\n",
       "       291, 292, 293, 294, 295, 296, 297, 298, 299, 300, 301, 302, 303,\n",
       "       304, 305, 306, 307, 308, 309, 310, 311, 312, 313, 314, 315, 316,\n",
       "       317, 318, 319, 320, 321, 322, 323, 324, 325, 326, 327, 328, 329,\n",
       "       330, 331, 332, 333, 334, 335, 336, 337, 338, 339, 340, 341, 342,\n",
       "       343, 344, 345, 346, 347, 348, 349, 350, 351, 352, 353, 354, 355,\n",
       "       356, 357, 358, 359, 360, 361, 362, 363, 364, 365, 366, 367, 368,\n",
       "       369, 370, 371, 372, 373, 374, 375, 376, 377, 378, 379, 380, 381,\n",
       "       382, 383, 384, 385, 386, 387, 388, 389, 390, 391, 392, 393, 394,\n",
       "       395, 396, 397, 398, 399, 400, 401, 402, 403, 404, 405, 406, 407,\n",
       "       408, 409, 410, 411, 412, 413, 414, 415, 416, 417, 418, 419, 420,\n",
       "       421, 422, 423, 424, 425, 426, 427, 428, 429, 430, 431, 432, 433,\n",
       "       434, 435, 436, 437, 438, 439, 440, 441, 442, 443, 444, 445, 446,\n",
       "       447, 448, 449, 450, 451, 452, 453, 454, 455, 456, 457, 458, 459,\n",
       "       460, 461, 462, 463, 464, 465, 466, 467, 468, 469, 470, 471, 472,\n",
       "       473, 474, 475, 476, 477, 478, 479, 480, 481, 482, 483, 484, 485,\n",
       "       486, 487, 488, 489, 490, 491, 492, 493, 494, 495, 496, 497, 498,\n",
       "       499, 500, 501, 502, 503, 504, 505, 506, 507, 508, 509, 510, 511,\n",
       "       512, 513, 514, 515, 516, 517, 518, 519, 520, 521, 522, 523, 524,\n",
       "       525, 526, 527, 528, 529, 530, 531, 532, 533, 534, 535, 536, 537,\n",
       "       538, 539, 540, 541, 542, 543, 544, 545, 546, 547, 548, 549, 550,\n",
       "       551, 552, 553, 554, 555, 556, 557, 558, 559, 560, 561, 562, 563,\n",
       "       564, 565, 566, 567, 568, 569, 570, 571, 572, 573, 574, 575, 576,\n",
       "       577, 578, 579, 580, 581, 582, 583, 584, 585, 586, 587, 588, 589,\n",
       "       590, 591, 592, 593, 594, 595, 596, 597, 598, 599, 600, 601, 602,\n",
       "       603, 604, 605, 606, 607, 608, 609, 610, 611, 612, 613, 614, 615,\n",
       "       616, 617, 618, 619, 620, 621, 622, 623, 624, 625, 626, 627, 628,\n",
       "       629, 630, 631, 632, 633, 634, 635, 636, 637, 638, 639, 640, 641,\n",
       "       642, 643, 644, 645, 646, 647, 648, 649, 650, 651, 652, 653, 654,\n",
       "       655, 656, 657, 658, 659, 660, 661, 662, 663, 664, 665, 666, 667,\n",
       "       668, 669, 670, 671, 672, 673, 674, 675, 676, 677, 678, 679, 680,\n",
       "       681, 682, 683, 684, 685, 686, 687, 688, 689, 690, 691, 692, 693,\n",
       "       694, 695, 696, 697, 698, 699, 700, 701, 702, 703, 704, 705, 706,\n",
       "       707, 708, 709, 710, 711, 712, 713, 714, 715, 716, 717, 718, 719,\n",
       "       720, 721, 722, 723, 724, 725, 726, 727, 728, 729, 730, 731, 732,\n",
       "       733, 734, 735, 736, 737, 738, 739, 740, 741, 742, 743, 744, 745,\n",
       "       746, 747, 748, 749])"
      ]
     },
     "execution_count": 17,
     "metadata": {},
     "output_type": "execute_result"
    }
   ],
   "source": [
    "#Show np1\n",
    "np1 = np.arange( 200, 750)\n",
    "np1"
   ]
  },
  {
   "cell_type": "code",
   "execution_count": 18,
   "metadata": {},
   "outputs": [
    {
     "data": {
      "text/plain": [
       "array([200, 201, 202, 100, 204, 205, 206, 207, 208, 100, 210, 211, 212,\n",
       "       213, 214, 100, 216, 217, 218, 219, 220, 100, 222, 223, 224, 225,\n",
       "       226, 100, 228, 229, 230, 231, 232, 100, 234, 235, 236, 237, 238,\n",
       "       100, 240, 241, 242, 243, 244, 100, 246, 247, 248, 249, 250, 100,\n",
       "       252, 253, 254, 255, 256, 100, 258, 259, 260, 261, 262, 100, 264,\n",
       "       265, 266, 267, 268, 100, 270, 271, 272, 273, 274, 100, 276, 277,\n",
       "       278, 279, 280, 100, 282, 283, 284, 285, 286, 100, 288, 289, 290,\n",
       "       291, 292, 100, 294, 295, 296, 297, 298, 100, 300, 301, 302, 303,\n",
       "       304, 100, 306, 307, 308, 309, 310, 100, 312, 313, 314, 315, 316,\n",
       "       100, 318, 319, 320, 321, 322, 100, 324, 325, 326, 327, 328, 100,\n",
       "       330, 331, 332, 333, 334, 100, 336, 337, 338, 339, 340, 100, 342,\n",
       "       343, 344, 345, 346, 100, 348, 349, 350, 351, 352, 100, 354, 355,\n",
       "       356, 357, 358, 100, 360, 361, 362, 363, 364, 100, 366, 367, 368,\n",
       "       369, 370, 100, 372, 373, 374, 375, 376, 100, 378, 379, 380, 381,\n",
       "       382, 100, 384, 385, 386, 387, 388, 100, 390, 391, 392, 393, 394,\n",
       "       100, 396, 397, 398, 399, 400, 100, 402, 403, 404, 405, 406, 100,\n",
       "       408, 409, 410, 411, 412, 100, 414, 415, 416, 417, 418, 100, 420,\n",
       "       421, 422, 423, 424, 100, 426, 427, 428, 429, 430, 100, 432, 433,\n",
       "       434, 435, 436, 100, 438, 439, 440, 441, 442, 100, 444, 445, 446,\n",
       "       447, 448, 100, 450, 451, 452, 453, 454, 100, 456, 457, 458, 459,\n",
       "       460, 100, 462, 463, 464, 465, 466, 100, 468, 469, 470, 471, 472,\n",
       "       100, 474, 475, 476, 477, 478, 100, 480, 481, 482, 483, 484, 100,\n",
       "       486, 487, 488, 489, 490, 100, 492, 493, 494, 495, 496, 100, 498,\n",
       "       499, 500, 501, 502, 100, 504, 505, 506, 507, 508, 100, 510, 511,\n",
       "       512, 513, 514, 100, 516, 517, 518, 519, 520, 100, 522, 523, 524,\n",
       "       525, 526, 100, 528, 529, 530, 531, 532, 100, 534, 535, 536, 537,\n",
       "       538, 100, 540, 541, 542, 543, 544, 100, 546, 547, 548, 549, 550,\n",
       "       100, 552, 553, 554, 555, 556, 100, 558, 559, 560, 561, 562, 100,\n",
       "       564, 565, 566, 567, 568, 100, 570, 571, 572, 573, 574, 100, 576,\n",
       "       577, 578, 579, 580, 100, 582, 583, 584, 585, 586, 100, 588, 589,\n",
       "       590, 591, 592, 100, 594, 595, 596, 597, 598, 100, 600, 601, 602,\n",
       "       603, 604, 100, 606, 607, 608, 609, 610, 100, 612, 613, 614, 615,\n",
       "       616, 100, 618, 619, 620, 621, 622, 100, 624, 625, 626, 627, 628,\n",
       "       100, 630, 631, 632, 633, 634, 100, 636, 637, 638, 639, 640, 100,\n",
       "       642, 643, 644, 645, 646, 100, 648, 649, 650, 651, 652, 100, 654,\n",
       "       655, 656, 657, 658, 100, 660, 661, 662, 663, 664, 100, 666, 667,\n",
       "       668, 669, 670, 100, 672, 673, 674, 675, 676, 100, 678, 679, 680,\n",
       "       681, 682, 100, 684, 685, 686, 687, 688, 100, 690, 691, 692, 693,\n",
       "       694, 100, 696, 697, 698, 699, 700, 100, 702, 703, 704, 705, 706,\n",
       "       100, 708, 709, 710, 711, 712, 100, 714, 715, 716, 717, 718, 100,\n",
       "       720, 721, 722, 723, 724, 100, 726, 727, 728, 729, 730, 100, 732,\n",
       "       733, 734, 735, 736, 100, 738, 739, 740, 741, 742, 100, 744, 745,\n",
       "       746, 747, 748, 100])"
      ]
     },
     "execution_count": 18,
     "metadata": {},
     "output_type": "execute_result"
    }
   ],
   "source": [
    "# Create a boolean that when a value of 'np1' is divided by 2 and the remainder is 0,it returns True\n",
    "#This boolean works as a kind of filter\n",
    "number=np1%2==0\n",
    "#Now, every time the filer get a true result, this will be replace with 100\n",
    "np1[number] =100\n",
    "np1"
   ]
  },
  {
   "cell_type": "markdown",
   "metadata": {},
   "source": [
    "2. Create a 3x3 matrix with values ranging from 0 to 8. Hint: Use np.arange and np.reshape method"
   ]
  },
  {
   "cell_type": "code",
   "execution_count": 6,
   "metadata": {},
   "outputs": [
    {
     "name": "stdout",
     "output_type": "stream",
     "text": [
      "[0 1 2 3 4 5 6 7 8]\n",
      "[[0 1 2]\n",
      " [3 4 5]\n",
      " [6 7 8]]\n"
     ]
    }
   ],
   "source": [
    "#Create an array with the values from 0 to 8.\n",
    "a=np.arange(9)\n",
    "print(a)\n",
    "#To create a 3x3 matrix, we reshape 'a' and put the dimensions\n",
    "b=np.reshape(,(3,3))\n",
    "print(b)"
   ]
  },
  {
   "cell_type": "markdown",
   "metadata": {},
   "source": [
    "3. Consider an array `Z = [1,2,3,4,5,6,7,8,9,10]`, generate an array `R = [ [ 1, 2, 3, 4], [ 2, 3, 4, 5 ], [ 3, 4, 5, 6 ], ..., [ 7, 8, 9, 10 ] ]`?.**Hint: Use `np.arange` and `np.concatenate`** <br><br>"
   ]
  },
  {
   "cell_type": "code",
   "execution_count": 7,
   "metadata": {},
   "outputs": [
    {
     "data": {
      "text/plain": [
       "array([[ 1,  2,  3,  4],\n",
       "       [ 2,  3,  4,  5],\n",
       "       [ 3,  4,  5,  6],\n",
       "       [ 4,  5,  6,  7],\n",
       "       [ 5,  6,  7,  8],\n",
       "       [ 6,  7,  8,  9],\n",
       "       [ 7,  8,  9, 10]])"
      ]
     },
     "execution_count": 7,
     "metadata": {},
     "output_type": "execute_result"
    }
   ],
   "source": [
    "#Create an array Z with values from 1 to 10\n",
    "Z = np.arange(1,11)\n",
    "#Generate a new array 'R' by concatenating intervals of 'Z'\n",
    "#Each interval contains four elements\n",
    "R = np.concatenate(([Z[0:4]], [Z[1:5]], [Z[2:6]], [Z[3:7]], [Z[4:8]], [Z[5:9]], [Z[6:10]]), axis=0)\n",
    "R"
   ]
  },
  {
   "cell_type": "markdown",
   "metadata": {},
   "source": [
    "4. Create a 3x3x3 array with random values. **Hint: Use [`np.random.random`](https://docs.scipy.org/doc/numpy-1.15.0/reference/generated/numpy.random.random.html).** <br><br>"
   ]
  },
  {
   "cell_type": "code",
   "execution_count": 22,
   "metadata": {},
   "outputs": [
    {
     "name": "stdout",
     "output_type": "stream",
     "text": [
      "[[[0.53782742 0.59577428 0.21330486]\n",
      "  [0.37023132 0.38115797 0.78936462]\n",
      "  [0.67138119 0.73383594 0.13626683]]\n",
      "\n",
      " [[0.47537952 0.9263402  0.54434102]\n",
      "  [0.80408486 0.41346292 0.92569562]\n",
      "  [0.12252464 0.10250705 0.35699555]]\n",
      "\n",
      " [[0.3973671  0.70295335 0.20824051]\n",
      "  [0.5001293  0.49553133 0.36636986]\n",
      "  [0.57103084 0.95094085 0.53773297]]]\n"
     ]
    }
   ],
   "source": [
    "#First, I created and array with random values indicating it is 3x3x3, using np.random.random\n",
    "array = np.random.random((3,3,3))\n",
    "#Next I printed the output\n",
    "print(array)\n",
    "\n"
   ]
  },
  {
   "cell_type": "markdown",
   "metadata": {},
   "source": [
    "5. Comment why this expression `np.nan == np.nan` is False. **Hint: Use stackoverflow.** <br><br>"
   ]
  },
  {
   "cell_type": "markdown",
   "metadata": {},
   "source": [
    "np.nan == np.nan"
   ]
  },
  {
   "cell_type": "code",
   "execution_count": 23,
   "metadata": {},
   "outputs": [
    {
     "data": {
      "text/plain": [
       "False"
      ]
     },
     "execution_count": 23,
     "metadata": {},
     "output_type": "execute_result"
    }
   ],
   "source": [
    "np.nan == np.nan\n",
    "#The reason the expression np.nan == np.nan is False may be in that NaN are just substitutes or \"place-holders\" for missing numerical values. \n",
    "#Nonetheless, that does not imply that the original numerical values of different NaN are the same: NaN is just working as a constant. \n",
    "#Hence, the expression np.nan == np.nan is False as far as the original numerical values are unknown, \n",
    "# so it is not possible to assert they are equivalent.\n"
   ]
  },
  {
   "cell_type": "markdown",
   "metadata": {},
   "source": [
    "6. Print the `mean` and `standard deviation` of `np2`. **Hint: Use `f-string`, `np.mean`, and `np.var` methods.**"
   ]
  },
  {
   "cell_type": "code",
   "execution_count": 19,
   "metadata": {},
   "outputs": [
    {
     "name": "stdout",
     "output_type": "stream",
     "text": [
      "The mean of np2 is 49.91, and the standard deviation is 18.18 \n"
     ]
    }
   ],
   "source": [
    "#First I calculated the mean for np2 using np.mean and saved it\n",
    "mean = np.mean(np2)\n",
    "#Then I rounded the mean to two digits\n",
    "mean = str(round(mean, 2))\n",
    "\n",
    "#Second I calculated the standard deviation for np2 using np.mean and saved it\n",
    "var = np.var(np2)\n",
    "#Then I rounded the standard deviation to two digits\n",
    "var = str(round(var, 2))\n",
    "\n",
    "#Finally I printed the output with f-string\n",
    "print(f\"The mean of np2 is {mean}, and the standard deviation is {var} \")\n"
   ]
  },
  {
   "cell_type": "markdown",
   "metadata": {},
   "source": [
    "# Pandas"
   ]
  },
  {
   "cell_type": "markdown",
   "metadata": {},
   "source": [
    "Run the code bellow uncomment the second line to install savReaderWriter library. The `dict_varlabels` has the labels of the columns of rec1.\n",
    "\n",
    "1. Check if CASEID identifies each observation uniquely. **[Hint: Use is_unique method.](https://pandas.pydata.org/docs/reference/api/pandas.Series.is_unique.html)**\n",
    "2. Make the CASEID column the index of your data set. **[Hint: Use set_index](https://pandas.pydata.org/docs/reference/api/pandas.DataFrame.set_index.html)**. \n",
    "3. Keep women who are 15-30 years old and live in Urban areas. **[Hint: Use query](https://pandas.pydata.org/docs/reference/api/pandas.DataFrame.query.html)**.\n",
    "4. Generate a new column with the month of born. Just use the first three letters.  Use the English names of the months. "
   ]
  },
  {
   "cell_type": "code",
   "execution_count": null,
   "metadata": {},
   "outputs": [],
   "source": [
    "# read REC0111 data\n",
    "#!pip install savReaderWriter\n",
    "import savReaderWriter as sav\n",
    "rec1 = pd.read_spss( fr\"../../_data/endes/2019/REC0111.sav\" )\n",
    "\n",
    "# Get labels from sav file\n",
    "with sav.SavHeaderReader( fr\"../../_data/endes/2019/REC0111.sav\", ioUtf8=True) as header:\n",
    "    metadata = header.all()\n",
    "\n",
    "dict_varlabels = metadata[3]"
   ]
  },
  {
   "cell_type": "code",
   "execution_count": null,
   "metadata": {},
   "outputs": [],
   "source": [
    "dict_varlabels"
   ]
  }
 ],
 "metadata": {
  "hide_input": false,
  "kernelspec": {
   "display_name": "Python 3 (ipykernel)",
   "language": "python",
   "name": "python3"
  },
  "language_info": {
   "codemirror_mode": {
    "name": "ipython",
    "version": 3
   },
   "file_extension": ".py",
   "mimetype": "text/x-python",
   "name": "python",
   "nbconvert_exporter": "python",
   "pygments_lexer": "ipython3",
   "version": "3.9.7"
  },
  "toc": {
   "base_numbering": 1,
   "nav_menu": {},
   "number_sections": true,
   "sideBar": true,
   "skip_h1_title": false,
   "title_cell": "Table of Contents",
   "title_sidebar": "Contents",
   "toc_cell": false,
   "toc_position": {},
   "toc_section_display": true,
   "toc_window_display": false
  },
  "vscode": {
   "interpreter": {
    "hash": "d809ddb524a839eafd172abb3a87e0b3d97ee3f438f4c185554efa35ebfb7585"
   }
  }
 },
 "nbformat": 4,
 "nbformat_minor": 4
}
